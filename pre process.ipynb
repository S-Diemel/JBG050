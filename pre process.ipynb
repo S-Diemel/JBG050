{
 "cells": [
  {
   "cell_type": "code",
   "execution_count": 1,
   "metadata": {
    "collapsed": true
   },
   "outputs": [],
   "source": [
    "import pandas as pd\n",
    "import plotly.express as px\n",
    "import numpy as np\n",
    "import os\n",
    "import re"
   ]
  },
  {
   "cell_type": "code",
   "execution_count": null,
   "outputs": [],
   "source": [
    "directory =\"C:\\\\Users\\\\20203666\\\\Documents\\\\JBG050-data\\\\Data\"\n",
    "folders = os.listdir(directory)\n",
    "folders = folders[1:]\n",
    "files = []\n",
    "dic_bug={}\n",
    "dic_all = {}\n",
    "for item in folders:\n",
    "    folder = os.listdir(directory+'\\\\'+item)\n",
    "    for file in folder:\n",
    "        if file.endswith(police_force):\n",
    "            files.append(directory+'\\\\'+item+\"\\\\\"+file)\n",
    "\n",
    "df_all = pd.read_csv(files[0])\n",
    "df_all = df_all[df_all['Crime type']=='Burglary']\n",
    "i=1\n",
    "for file in files[1:]:\n",
    "    df = pd.read_csv(file)\n",
    "    df = df[df['Crime type']=='Burglary']\n",
    "    df_all = df_all.append(df, ignore_index=True)\n",
    "    i=i+1\n",
    "    print(i)"
   ],
   "metadata": {
    "collapsed": false,
    "pycharm": {
     "name": "#%%\n"
    }
   }
  },
  {
   "cell_type": "code",
   "execution_count": null,
   "outputs": [],
   "source": [
    "dfi=df_all.loc[:,~df_all.columns.isin(['Last outcome category', 'Context', \"Crime ID\"])].copy()\n",
    "dfi.dropna()\n",
    "dfi.rename(columns = {'Month':'Date'}, inplace=True)"
   ],
   "metadata": {
    "collapsed": false,
    "pycharm": {
     "name": "#%%\n"
    }
   }
  },
  {
   "cell_type": "code",
   "execution_count": null,
   "outputs": [],
   "source": [
    "years = []\n",
    "months = []\n",
    "for date in dfi['Date']:\n",
    "    dates = re.findall('([0-9]*)', date)\n",
    "    year = int(dates[0])-2000\n",
    "    try:\n",
    "        month = int(dates[2])\n",
    "    except:\n",
    "        print(date)\n",
    "        month = int(dates[2][1])\n",
    "    years.append(year)\n",
    "    months.append(month)\n",
    "dfi['month'] = months\n",
    "dfi['year'] = years\n",
    "df2 = dfi.dropna()\n",
    "df2.reset_index(inplace=True, drop=True)"
   ],
   "metadata": {
    "collapsed": false,
    "pycharm": {
     "name": "#%%\n"
    }
   }
  },
  {
   "cell_type": "code",
   "execution_count": null,
   "outputs": [],
   "source": [
    "lst_city = []\n",
    "for lsoa in df2['LSOA name']:\n",
    "\n",
    "    city = re.findall('[A-Za-z\\s]*', lsoa)\n",
    "    city = city[0][:-1]\n",
    "    lst_city.append(city)\n",
    "df2['city'] = lst_city"
   ],
   "metadata": {
    "collapsed": false,
    "pycharm": {
     "name": "#%%\n"
    }
   }
  },
  {
   "cell_type": "code",
   "execution_count": null,
   "outputs": [],
   "source": [
    "df_price = pd.read_csv(\"C:\\\\Users\\\\20203666\\\\Documents\\\\JBG050-data\\\\house_price.csv\")\n",
    "df_price"
   ],
   "metadata": {
    "collapsed": false,
    "pycharm": {
     "name": "#%%\n"
    }
   }
  },
  {
   "cell_type": "code",
   "execution_count": null,
   "outputs": [],
   "source": [
    "for i in range(len(df_price)):\n",
    "    print(i)\n",
    "    price = df_price.loc[i,'house price']\n",
    "    lsoa = df_price.loc[i, 'LSOA code']\n",
    "    df2.loc[df2['LSOA code']==lsoa, 'median house price lsoa'] = price"
   ],
   "metadata": {
    "collapsed": false,
    "pycharm": {
     "name": "#%%\n"
    }
   }
  },
  {
   "cell_type": "code",
   "execution_count": null,
   "outputs": [],
   "source": [
    "df = df2.copy()"
   ],
   "metadata": {
    "collapsed": false,
    "pycharm": {
     "name": "#%%\n"
    }
   }
  },
  {
   "cell_type": "code",
   "execution_count": null,
   "outputs": [],
   "source": [
    "group_city =df.groupby(['Date', 'city']).count()\n",
    "lst_city = []\n",
    "c=0\n",
    "for i in range(len(df)):\n",
    "    if c==10000:\n",
    "        print(i)\n",
    "        c=0\n",
    "    c+=1\n",
    "    bur = group_city.loc[(df.loc[i, 'Date'],df.loc[i, 'city']),'Unnamed: 0']\n",
    "    lst_city.append(bur)\n",
    "df['burglarys city'] = lst_city"
   ],
   "metadata": {
    "collapsed": false,
    "pycharm": {
     "name": "#%%\n"
    }
   }
  },
  {
   "cell_type": "code",
   "execution_count": null,
   "outputs": [],
   "source": [
    "group_lsoa =df.groupby(['Date', 'LSOA code']).count()\n",
    "lst_lsoa = []\n",
    "c=0\n",
    "for i in range(len(df)):\n",
    "    if c==10000:\n",
    "        print(i)\n",
    "        c=0\n",
    "    c+=1\n",
    "    bur = group_lsoa.loc[(df.loc[i, 'Date'],df.loc[i, 'LSOA code']),'Unnamed: 0']\n",
    "    lst_lsoa.append(bur)\n",
    "df['burglarys lsoa'] = lst_lsoa"
   ],
   "metadata": {
    "collapsed": false,
    "pycharm": {
     "name": "#%%\n"
    }
   }
  },
  {
   "cell_type": "code",
   "execution_count": null,
   "outputs": [],
   "source": [
    "df = df[df['median house price lsoa']!=0]\n",
    "df.reset_index(inplace=True, drop=True)\n",
    "df.to_csv(\"C:\\\\Users\\\\20203666\\\\Documents\\\\JBG050-data\\\\final_burglary_data_lsoa.csv\")"
   ],
   "metadata": {
    "collapsed": false,
    "pycharm": {
     "name": "#%%\n"
    }
   }
  },
  {
   "cell_type": "code",
   "execution_count": null,
   "outputs": [],
   "source": [
    "df1 = df.groupby(['Date', 'city']).median()\n",
    "df1['city'] = [df1.index[i][1] for i in range(len(df1.index))]\n",
    "df1 = df1.droplevel(0)\n",
    "df1.reset_index(inplace=True, drop=True)\n",
    "df1 = df1.rename(columns = {'median house price lsoa': 'median house price'})\n",
    "df1"
   ],
   "metadata": {
    "collapsed": false,
    "pycharm": {
     "name": "#%%\n"
    }
   }
  },
  {
   "cell_type": "code",
   "execution_count": null,
   "outputs": [],
   "source": [
    "lst_city = list(df['city'].unique())\n",
    "dict_city = {}\n",
    "for i in range(len(df)):\n",
    "    #print(i)\n",
    "    dict_city[df.loc[i, 'city']] = df.loc[i, 'Falls within']"
   ],
   "metadata": {
    "collapsed": false,
    "pycharm": {
     "name": "#%%\n"
    }
   }
  },
  {
   "cell_type": "code",
   "execution_count": null,
   "outputs": [],
   "source": [
    "df['police district'] = 0\n",
    "for i in range(len(df1)):\n",
    "    district = dict_city[df1.loc[i, 'city']]\n",
    "    df1.loc[i, 'police district'] = district"
   ],
   "metadata": {
    "collapsed": false,
    "pycharm": {
     "name": "#%%\n"
    }
   }
  },
  {
   "cell_type": "code",
   "execution_count": null,
   "outputs": [],
   "source": [
    "df1.to_csv('C:\\\\Users\\\\20203666\\\\Documents\\\\JBG050-data\\\\final_burglary_data_city.csv')"
   ],
   "metadata": {
    "collapsed": false,
    "pycharm": {
     "name": "#%%\n"
    }
   }
  }
 ],
 "metadata": {
  "kernelspec": {
   "display_name": "Python 3",
   "language": "python",
   "name": "python3"
  },
  "language_info": {
   "codemirror_mode": {
    "name": "ipython",
    "version": 2
   },
   "file_extension": ".py",
   "mimetype": "text/x-python",
   "name": "python",
   "nbconvert_exporter": "python",
   "pygments_lexer": "ipython2",
   "version": "2.7.6"
  }
 },
 "nbformat": 4,
 "nbformat_minor": 0
}