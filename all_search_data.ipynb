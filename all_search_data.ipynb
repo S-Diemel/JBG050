{
 "cells": [
  {
   "cell_type": "code",
   "execution_count": 1,
   "metadata": {
    "collapsed": true
   },
   "outputs": [],
   "source": [
    "import re\n",
    "import pandas as pd\n",
    "import sqlite3\n",
    "import os"
   ]
  },
  {
   "cell_type": "code",
   "execution_count": null,
   "outputs": [],
   "source": [
    "folders = os.listdir(\"C:\\\\Users\\\\20203666\\\\Documents\\\\JBG050-data\\\\Data\")"
   ],
   "metadata": {
    "collapsed": false,
    "pycharm": {
     "name": "#%%\n"
    }
   }
  },
  {
   "cell_type": "code",
   "execution_count": null,
   "outputs": [],
   "source": [
    "folders = folders[1:]\n",
    "files = []\n",
    "for item in folders:\n",
    "    folder = os.listdir(\"C:\\\\Users\\\\20203666\\\\Documents\\\\JBG050-data\\\\Data\\\\\"+item)\n",
    "    for file in folder:\n",
    "        if file.endswith(\"search.csv\"):\n",
    "            files.append(\"C:\\\\Users\\\\20203666\\\\Documents\\\\JBG050-data\\\\Data\\\\\"+item+\"\\\\\"+file)\n",
    "\n",
    "files[0]"
   ],
   "metadata": {
    "collapsed": false,
    "pycharm": {
     "name": "#%%\n"
    }
   }
  },
  {
   "cell_type": "code",
   "execution_count": null,
   "outputs": [],
   "source": [
    "df_all = pd.read_csv(files[0])\n",
    "i=1\n",
    "for file in files[1:]:\n",
    "    print(i)\n",
    "    df = pd.read_csv(file)\n",
    "    df_all = df_all.append(df, ignore_index=True)\n",
    "    i=i+1\n",
    "df_all"
   ],
   "metadata": {
    "collapsed": false,
    "pycharm": {
     "name": "#%%\n"
    }
   }
  },
  {
   "cell_type": "code",
   "execution_count": null,
   "outputs": [],
   "source": [
    "df_all.to_csv(\"C:\\\\Users\\\\20203666\\\\Documents\\\\JBG050-data\\\\Data\\\\all_search.csv\")"
   ],
   "metadata": {
    "collapsed": false,
    "pycharm": {
     "name": "#%%\n"
    }
   }
  },
  {
   "cell_type": "code",
   "execution_count": 2,
   "outputs": [
    {
     "name": "stderr",
     "output_type": "stream",
     "text": [
      "C:\\ProgramData\\Anaconda3\\envs\\my_env\\lib\\site-packages\\IPython\\core\\interactiveshell.py:3444: DtypeWarning: Columns (4) have mixed types.Specify dtype option on import or set low_memory=False.\n",
      "  exec(code_obj, self.user_global_ns, self.user_ns)\n"
     ]
    },
    {
     "data": {
      "text/plain": "         Unnamed: 0                       Type                       Date  \\\n0                 0              Person search  2014-03-31T23:05:00+00:00   \n1                 1              Person search  2014-03-31T23:05:00+00:00   \n2                 2              Person search  2014-03-31T23:05:00+00:00   \n3                 3              Person search  2014-03-31T23:05:00+00:00   \n4                 4              Person search  2014-03-31T23:05:00+00:00   \n...             ...                        ...                        ...   \n2898959     2898959  Person and Vehicle search  2021-10-31T23:20:00+00:00   \n2898960     2898960              Person search  2021-10-31T23:20:00+00:00   \n2898961     2898961              Person search  2021-10-31T23:20:00+00:00   \n2898962     2898962              Person search  2021-10-31T23:40:00+00:00   \n2898963     2898963  Person and Vehicle search  2021-10-31T23:45:00+00:00   \n\n        Part of a policing operation Policing operation   Latitude  Longitude  \\\n0                                NaN                NaN        NaN        NaN   \n1                                NaN                NaN  50.844310  -1.067920   \n2                                NaN                NaN  50.844310  -1.067920   \n3                                NaN                NaN  50.813747  -1.078507   \n4                                NaN                NaN  50.844310  -1.067920   \n...                              ...                ...        ...        ...   \n2898959                         True                NaN  53.777483  -1.776611   \n2898960                         True                NaN  53.777483  -1.776611   \n2898961                         True                NaN  53.777483  -1.776611   \n2898962                        False                NaN  53.850550  -1.840857   \n2898963                        False                NaN  53.782293  -1.782292   \n\n        Gender Age range                             Self-defined ethnicity  \\\n0         Male     25-34                                    Not Stated (NS)   \n1         Male     18-24                         White - White British (W1)   \n2         Male     18-24                         White - White British (W1)   \n3         Male   over 34                         White - White British (W1)   \n4         Male     18-24                         White - White British (W1)   \n...        ...       ...                                                ...   \n2898959   Male     18-24  White - English/Welsh/Scottish/Northern Irish/...   \n2898960   Male     18-24  White - English/Welsh/Scottish/Northern Irish/...   \n2898961   Male     25-34                    Asian/Asian British - Pakistani   \n2898962   Male     18-24  White - English/Welsh/Scottish/Northern Irish/...   \n2898963   Male   over 34                   White - Gypsy or Irish Traveller   \n\n        Officer-defined ethnicity  \\\n0                           Other   \n1                           White   \n2                           White   \n3                           White   \n4                           White   \n...                           ...   \n2898959                     White   \n2898960                     White   \n2898961                     Asian   \n2898962                     White   \n2898963                     White   \n\n                                               Legislation  \\\n0        Police and Criminal Evidence Act 1984 (section 1)   \n1        Police and Criminal Evidence Act 1984 (section 1)   \n2        Police and Criminal Evidence Act 1984 (section 1)   \n3        Police and Criminal Evidence Act 1984 (section 1)   \n4        Police and Criminal Evidence Act 1984 (section 1)   \n...                                                    ...   \n2898959              Misuse of Drugs Act 1971 (section 23)   \n2898960              Misuse of Drugs Act 1971 (section 23)   \n2898961              Misuse of Drugs Act 1971 (section 23)   \n2898962  Police and Criminal Evidence Act 1984 (section 1)   \n2898963              Misuse of Drugs Act 1971 (section 23)   \n\n                 Object of search                            Outcome  \\\n0                    Stolen goods  Nothing found - no further action   \n1                    Stolen goods  Nothing found - no further action   \n2                    Stolen goods  Nothing found - no further action   \n3        Article for use in theft  Nothing found - no further action   \n4                    Stolen goods  Nothing found - no further action   \n...                           ...                                ...   \n2898959          Controlled drugs       A no further action disposal   \n2898960          Controlled drugs       A no further action disposal   \n2898961          Controlled drugs       A no further action disposal   \n2898962          Controlled drugs       A no further action disposal   \n2898963          Controlled drugs               Community resolution   \n\n        Outcome linked to object of search  \\\n0                                      NaN   \n1                                      NaN   \n2                                      NaN   \n3                                      NaN   \n4                                      NaN   \n...                                    ...   \n2898959                               True   \n2898960                              False   \n2898961                              False   \n2898962                               True   \n2898963                               True   \n\n        Removal of more than just outer clothing  \n0                                            NaN  \n1                                            NaN  \n2                                            NaN  \n3                                            NaN  \n4                                            NaN  \n...                                          ...  \n2898959                                    False  \n2898960                                    False  \n2898961                                    False  \n2898962                                    False  \n2898963                                    False  \n\n[2898964 rows x 16 columns]",
      "text/html": "<div>\n<style scoped>\n    .dataframe tbody tr th:only-of-type {\n        vertical-align: middle;\n    }\n\n    .dataframe tbody tr th {\n        vertical-align: top;\n    }\n\n    .dataframe thead th {\n        text-align: right;\n    }\n</style>\n<table border=\"1\" class=\"dataframe\">\n  <thead>\n    <tr style=\"text-align: right;\">\n      <th></th>\n      <th>Unnamed: 0</th>\n      <th>Type</th>\n      <th>Date</th>\n      <th>Part of a policing operation</th>\n      <th>Policing operation</th>\n      <th>Latitude</th>\n      <th>Longitude</th>\n      <th>Gender</th>\n      <th>Age range</th>\n      <th>Self-defined ethnicity</th>\n      <th>Officer-defined ethnicity</th>\n      <th>Legislation</th>\n      <th>Object of search</th>\n      <th>Outcome</th>\n      <th>Outcome linked to object of search</th>\n      <th>Removal of more than just outer clothing</th>\n    </tr>\n  </thead>\n  <tbody>\n    <tr>\n      <th>0</th>\n      <td>0</td>\n      <td>Person search</td>\n      <td>2014-03-31T23:05:00+00:00</td>\n      <td>NaN</td>\n      <td>NaN</td>\n      <td>NaN</td>\n      <td>NaN</td>\n      <td>Male</td>\n      <td>25-34</td>\n      <td>Not Stated (NS)</td>\n      <td>Other</td>\n      <td>Police and Criminal Evidence Act 1984 (section 1)</td>\n      <td>Stolen goods</td>\n      <td>Nothing found - no further action</td>\n      <td>NaN</td>\n      <td>NaN</td>\n    </tr>\n    <tr>\n      <th>1</th>\n      <td>1</td>\n      <td>Person search</td>\n      <td>2014-03-31T23:05:00+00:00</td>\n      <td>NaN</td>\n      <td>NaN</td>\n      <td>50.844310</td>\n      <td>-1.067920</td>\n      <td>Male</td>\n      <td>18-24</td>\n      <td>White - White British (W1)</td>\n      <td>White</td>\n      <td>Police and Criminal Evidence Act 1984 (section 1)</td>\n      <td>Stolen goods</td>\n      <td>Nothing found - no further action</td>\n      <td>NaN</td>\n      <td>NaN</td>\n    </tr>\n    <tr>\n      <th>2</th>\n      <td>2</td>\n      <td>Person search</td>\n      <td>2014-03-31T23:05:00+00:00</td>\n      <td>NaN</td>\n      <td>NaN</td>\n      <td>50.844310</td>\n      <td>-1.067920</td>\n      <td>Male</td>\n      <td>18-24</td>\n      <td>White - White British (W1)</td>\n      <td>White</td>\n      <td>Police and Criminal Evidence Act 1984 (section 1)</td>\n      <td>Stolen goods</td>\n      <td>Nothing found - no further action</td>\n      <td>NaN</td>\n      <td>NaN</td>\n    </tr>\n    <tr>\n      <th>3</th>\n      <td>3</td>\n      <td>Person search</td>\n      <td>2014-03-31T23:05:00+00:00</td>\n      <td>NaN</td>\n      <td>NaN</td>\n      <td>50.813747</td>\n      <td>-1.078507</td>\n      <td>Male</td>\n      <td>over 34</td>\n      <td>White - White British (W1)</td>\n      <td>White</td>\n      <td>Police and Criminal Evidence Act 1984 (section 1)</td>\n      <td>Article for use in theft</td>\n      <td>Nothing found - no further action</td>\n      <td>NaN</td>\n      <td>NaN</td>\n    </tr>\n    <tr>\n      <th>4</th>\n      <td>4</td>\n      <td>Person search</td>\n      <td>2014-03-31T23:05:00+00:00</td>\n      <td>NaN</td>\n      <td>NaN</td>\n      <td>50.844310</td>\n      <td>-1.067920</td>\n      <td>Male</td>\n      <td>18-24</td>\n      <td>White - White British (W1)</td>\n      <td>White</td>\n      <td>Police and Criminal Evidence Act 1984 (section 1)</td>\n      <td>Stolen goods</td>\n      <td>Nothing found - no further action</td>\n      <td>NaN</td>\n      <td>NaN</td>\n    </tr>\n    <tr>\n      <th>...</th>\n      <td>...</td>\n      <td>...</td>\n      <td>...</td>\n      <td>...</td>\n      <td>...</td>\n      <td>...</td>\n      <td>...</td>\n      <td>...</td>\n      <td>...</td>\n      <td>...</td>\n      <td>...</td>\n      <td>...</td>\n      <td>...</td>\n      <td>...</td>\n      <td>...</td>\n      <td>...</td>\n    </tr>\n    <tr>\n      <th>2898959</th>\n      <td>2898959</td>\n      <td>Person and Vehicle search</td>\n      <td>2021-10-31T23:20:00+00:00</td>\n      <td>True</td>\n      <td>NaN</td>\n      <td>53.777483</td>\n      <td>-1.776611</td>\n      <td>Male</td>\n      <td>18-24</td>\n      <td>White - English/Welsh/Scottish/Northern Irish/...</td>\n      <td>White</td>\n      <td>Misuse of Drugs Act 1971 (section 23)</td>\n      <td>Controlled drugs</td>\n      <td>A no further action disposal</td>\n      <td>True</td>\n      <td>False</td>\n    </tr>\n    <tr>\n      <th>2898960</th>\n      <td>2898960</td>\n      <td>Person search</td>\n      <td>2021-10-31T23:20:00+00:00</td>\n      <td>True</td>\n      <td>NaN</td>\n      <td>53.777483</td>\n      <td>-1.776611</td>\n      <td>Male</td>\n      <td>18-24</td>\n      <td>White - English/Welsh/Scottish/Northern Irish/...</td>\n      <td>White</td>\n      <td>Misuse of Drugs Act 1971 (section 23)</td>\n      <td>Controlled drugs</td>\n      <td>A no further action disposal</td>\n      <td>False</td>\n      <td>False</td>\n    </tr>\n    <tr>\n      <th>2898961</th>\n      <td>2898961</td>\n      <td>Person search</td>\n      <td>2021-10-31T23:20:00+00:00</td>\n      <td>True</td>\n      <td>NaN</td>\n      <td>53.777483</td>\n      <td>-1.776611</td>\n      <td>Male</td>\n      <td>25-34</td>\n      <td>Asian/Asian British - Pakistani</td>\n      <td>Asian</td>\n      <td>Misuse of Drugs Act 1971 (section 23)</td>\n      <td>Controlled drugs</td>\n      <td>A no further action disposal</td>\n      <td>False</td>\n      <td>False</td>\n    </tr>\n    <tr>\n      <th>2898962</th>\n      <td>2898962</td>\n      <td>Person search</td>\n      <td>2021-10-31T23:40:00+00:00</td>\n      <td>False</td>\n      <td>NaN</td>\n      <td>53.850550</td>\n      <td>-1.840857</td>\n      <td>Male</td>\n      <td>18-24</td>\n      <td>White - English/Welsh/Scottish/Northern Irish/...</td>\n      <td>White</td>\n      <td>Police and Criminal Evidence Act 1984 (section 1)</td>\n      <td>Controlled drugs</td>\n      <td>A no further action disposal</td>\n      <td>True</td>\n      <td>False</td>\n    </tr>\n    <tr>\n      <th>2898963</th>\n      <td>2898963</td>\n      <td>Person and Vehicle search</td>\n      <td>2021-10-31T23:45:00+00:00</td>\n      <td>False</td>\n      <td>NaN</td>\n      <td>53.782293</td>\n      <td>-1.782292</td>\n      <td>Male</td>\n      <td>over 34</td>\n      <td>White - Gypsy or Irish Traveller</td>\n      <td>White</td>\n      <td>Misuse of Drugs Act 1971 (section 23)</td>\n      <td>Controlled drugs</td>\n      <td>Community resolution</td>\n      <td>True</td>\n      <td>False</td>\n    </tr>\n  </tbody>\n</table>\n<p>2898964 rows × 16 columns</p>\n</div>"
     },
     "execution_count": 2,
     "metadata": {},
     "output_type": "execute_result"
    }
   ],
   "source": [
    "pd.read_csv(\"C:\\\\Users\\\\20203666\\\\Documents\\\\JBG050-data\\\\Data\\\\all_search.csv\")"
   ],
   "metadata": {
    "collapsed": false,
    "pycharm": {
     "name": "#%%\n"
    }
   }
  },
  {
   "cell_type": "code",
   "execution_count": null,
   "outputs": [],
   "source": [],
   "metadata": {
    "collapsed": false,
    "pycharm": {
     "name": "#%%\n"
    }
   }
  },
  {
   "cell_type": "markdown",
   "source": [],
   "metadata": {
    "collapsed": false
   }
  }
 ],
 "metadata": {
  "kernelspec": {
   "display_name": "Python 3",
   "language": "python",
   "name": "python3"
  },
  "language_info": {
   "codemirror_mode": {
    "name": "ipython",
    "version": 2
   },
   "file_extension": ".py",
   "mimetype": "text/x-python",
   "name": "python",
   "nbconvert_exporter": "python",
   "pygments_lexer": "ipython2",
   "version": "2.7.6"
  }
 },
 "nbformat": 4,
 "nbformat_minor": 0
}