{
 "cells": [
  {
   "cell_type": "code",
   "execution_count": 9,
   "metadata": {
    "collapsed": true
   },
   "outputs": [],
   "source": [
    "import pandas as pd\n",
    "import plotly.express as px\n",
    "import numpy as np\n",
    "import os"
   ]
  },
  {
   "cell_type": "code",
   "execution_count": 10,
   "outputs": [],
   "source": [
    "directory =\"C:\\\\Users\\\\20203666\\\\Documents\\\\JBG050-data\\\\Data\"\n",
    "folders = os.listdir(directory)"
   ],
   "metadata": {
    "collapsed": false,
    "pycharm": {
     "name": "#%%\n"
    }
   }
  },
  {
   "cell_type": "code",
   "execution_count": 16,
   "outputs": [],
   "source": [
    "police_force='avon-and-somerset'"
   ],
   "metadata": {
    "collapsed": false,
    "pycharm": {
     "name": "#%%\n"
    }
   }
  },
  {
   "cell_type": "code",
   "execution_count": 17,
   "outputs": [
    {
     "data": {
      "text/plain": "'C:\\\\Users\\\\20203666\\\\Documents\\\\JBG050-data\\\\Data\\\\2011-01\\\\2011-01-avon-and-somerset-street.csv'"
     },
     "execution_count": 17,
     "metadata": {},
     "output_type": "execute_result"
    }
   ],
   "source": [
    "folders = folders[1:]\n",
    "files = []\n",
    "for item in folders:\n",
    "    folder = os.listdir(directory+'\\\\'+item)\n",
    "    for file in folder:\n",
    "        if file.endswith(f'{police_force}-street.csv'):\n",
    "            files.append(directory+'\\\\'+item+\"\\\\\"+file)\n",
    "\n",
    "files[0]"
   ],
   "metadata": {
    "collapsed": false,
    "pycharm": {
     "name": "#%%\n"
    }
   }
  },
  {
   "cell_type": "code",
   "execution_count": 20,
   "outputs": [
    {
     "data": {
      "text/plain": "130"
     },
     "execution_count": 20,
     "metadata": {},
     "output_type": "execute_result"
    }
   ],
   "source": [
    "len(files)"
   ],
   "metadata": {
    "collapsed": false,
    "pycharm": {
     "name": "#%%\n"
    }
   }
  },
  {
   "cell_type": "code",
   "execution_count": 19,
   "outputs": [
    {
     "name": "stdout",
     "output_type": "stream",
     "text": [
      "1\n",
      "2\n",
      "3\n",
      "4\n",
      "5\n",
      "6\n",
      "7\n",
      "8\n",
      "9\n",
      "10\n",
      "11\n",
      "12\n",
      "13\n",
      "14\n",
      "15\n",
      "16\n",
      "17\n",
      "18\n",
      "19\n",
      "20\n",
      "21\n",
      "22\n",
      "23\n",
      "24\n",
      "25\n",
      "26\n",
      "27\n",
      "28\n",
      "29\n",
      "30\n",
      "31\n",
      "32\n",
      "33\n",
      "34\n",
      "35\n",
      "36\n",
      "37\n",
      "38\n",
      "39\n",
      "40\n",
      "41\n",
      "42\n",
      "43\n",
      "44\n",
      "45\n",
      "46\n",
      "47\n",
      "48\n",
      "49\n",
      "50\n",
      "51\n",
      "52\n",
      "53\n",
      "54\n",
      "55\n",
      "56\n",
      "57\n",
      "58\n",
      "59\n",
      "60\n",
      "61\n",
      "62\n",
      "63\n",
      "64\n",
      "65\n",
      "66\n",
      "67\n",
      "68\n",
      "69\n",
      "70\n",
      "71\n",
      "72\n",
      "73\n",
      "74\n",
      "75\n",
      "76\n",
      "77\n",
      "78\n",
      "79\n",
      "80\n",
      "81\n",
      "82\n",
      "83\n",
      "84\n",
      "85\n",
      "86\n",
      "87\n",
      "88\n",
      "89\n",
      "90\n",
      "91\n",
      "92\n",
      "93\n",
      "94\n",
      "95\n",
      "96\n",
      "97\n",
      "98\n",
      "99\n",
      "100\n",
      "101\n",
      "102\n",
      "103\n",
      "104\n",
      "105\n",
      "106\n",
      "107\n",
      "108\n",
      "109\n",
      "110\n",
      "111\n",
      "112\n",
      "113\n",
      "114\n",
      "115\n",
      "116\n",
      "117\n",
      "118\n",
      "119\n",
      "120\n",
      "121\n",
      "122\n",
      "123\n",
      "124\n",
      "125\n",
      "126\n",
      "127\n",
      "128\n",
      "129\n"
     ]
    },
    {
     "data": {
      "text/plain": "                                                  Crime ID    Month  \\\n0                                                      NaN  2011-01   \n1                                                      NaN  2011-01   \n2                                                      NaN  2011-01   \n3                                                      NaN  2011-01   \n4                                                      NaN  2011-01   \n...                                                    ...      ...   \n1831630  522ac50c1f07464e3dcb9d10338d528f02076677b22b61...  2021-10   \n1831631  f6f58c2208894a4694824896605dfd905690cc4a2dd99a...  2021-10   \n1831632  7dea09a0073c79da754b4711802dabbd514ab9a10b705b...  2021-10   \n1831633  d0da752e31289db1f05c10192ff566a8264c2d3bae0e55...  2021-10   \n1831634  c2e19550713891707323b00f26a9de688bee1a4a39b0f8...  2021-10   \n\n                            Reported by                    Falls within  \\\n0        Avon and Somerset Constabulary  Avon and Somerset Constabulary   \n1        Avon and Somerset Constabulary  Avon and Somerset Constabulary   \n2        Avon and Somerset Constabulary  Avon and Somerset Constabulary   \n3        Avon and Somerset Constabulary  Avon and Somerset Constabulary   \n4        Avon and Somerset Constabulary  Avon and Somerset Constabulary   \n...                                 ...                             ...   \n1831630  Avon and Somerset Constabulary  Avon and Somerset Constabulary   \n1831631  Avon and Somerset Constabulary  Avon and Somerset Constabulary   \n1831632  Avon and Somerset Constabulary  Avon and Somerset Constabulary   \n1831633  Avon and Somerset Constabulary  Avon and Somerset Constabulary   \n1831634  Avon and Somerset Constabulary  Avon and Somerset Constabulary   \n\n         Longitude   Latitude                     Location  LSOA code  \\\n0        -2.512773  51.411751   On or near Westfield Close  E01014399   \n1        -2.510162  51.410998     On or near Monmouth Road  E01014399   \n2        -2.509126  51.416137  On or near St. Francis Road  E01014399   \n3        -2.509384  51.409590      On or near Barnard Walk  E01014399   \n4        -2.509384  51.409590      On or near Barnard Walk  E01014399   \n...            ...        ...                          ...        ...   \n1831630        NaN        NaN                  No Location        NaN   \n1831631        NaN        NaN                  No Location        NaN   \n1831632        NaN        NaN                  No Location        NaN   \n1831633        NaN        NaN                  No Location        NaN   \n1831634        NaN        NaN                  No Location        NaN   \n\n                                 LSOA name             Crime type  \\\n0        Bath and North East Somerset 001A  Anti-social behaviour   \n1        Bath and North East Somerset 001A  Anti-social behaviour   \n2        Bath and North East Somerset 001A          Violent crime   \n3        Bath and North East Somerset 001A            Other crime   \n4        Bath and North East Somerset 001A            Other crime   \n...                                    ...                    ...   \n1831630                                NaN            Other crime   \n1831631                                NaN            Other crime   \n1831632                                NaN            Other crime   \n1831633                                NaN            Other crime   \n1831634                                NaN            Other crime   \n\n                                     Last outcome category  Context  \n0                                                      NaN      NaN  \n1                                                      NaN      NaN  \n2                                                      NaN      NaN  \n3                                                      NaN      NaN  \n4                                                      NaN      NaN  \n...                                                    ...      ...  \n1831630                                Under investigation      NaN  \n1831631  Further investigation is not in the public int...      NaN  \n1831632                                Under investigation      NaN  \n1831633  Further investigation is not in the public int...      NaN  \n1831634  Further investigation is not in the public int...      NaN  \n\n[1831635 rows x 12 columns]",
      "text/html": "<div>\n<style scoped>\n    .dataframe tbody tr th:only-of-type {\n        vertical-align: middle;\n    }\n\n    .dataframe tbody tr th {\n        vertical-align: top;\n    }\n\n    .dataframe thead th {\n        text-align: right;\n    }\n</style>\n<table border=\"1\" class=\"dataframe\">\n  <thead>\n    <tr style=\"text-align: right;\">\n      <th></th>\n      <th>Crime ID</th>\n      <th>Month</th>\n      <th>Reported by</th>\n      <th>Falls within</th>\n      <th>Longitude</th>\n      <th>Latitude</th>\n      <th>Location</th>\n      <th>LSOA code</th>\n      <th>LSOA name</th>\n      <th>Crime type</th>\n      <th>Last outcome category</th>\n      <th>Context</th>\n    </tr>\n  </thead>\n  <tbody>\n    <tr>\n      <th>0</th>\n      <td>NaN</td>\n      <td>2011-01</td>\n      <td>Avon and Somerset Constabulary</td>\n      <td>Avon and Somerset Constabulary</td>\n      <td>-2.512773</td>\n      <td>51.411751</td>\n      <td>On or near Westfield Close</td>\n      <td>E01014399</td>\n      <td>Bath and North East Somerset 001A</td>\n      <td>Anti-social behaviour</td>\n      <td>NaN</td>\n      <td>NaN</td>\n    </tr>\n    <tr>\n      <th>1</th>\n      <td>NaN</td>\n      <td>2011-01</td>\n      <td>Avon and Somerset Constabulary</td>\n      <td>Avon and Somerset Constabulary</td>\n      <td>-2.510162</td>\n      <td>51.410998</td>\n      <td>On or near Monmouth Road</td>\n      <td>E01014399</td>\n      <td>Bath and North East Somerset 001A</td>\n      <td>Anti-social behaviour</td>\n      <td>NaN</td>\n      <td>NaN</td>\n    </tr>\n    <tr>\n      <th>2</th>\n      <td>NaN</td>\n      <td>2011-01</td>\n      <td>Avon and Somerset Constabulary</td>\n      <td>Avon and Somerset Constabulary</td>\n      <td>-2.509126</td>\n      <td>51.416137</td>\n      <td>On or near St. Francis Road</td>\n      <td>E01014399</td>\n      <td>Bath and North East Somerset 001A</td>\n      <td>Violent crime</td>\n      <td>NaN</td>\n      <td>NaN</td>\n    </tr>\n    <tr>\n      <th>3</th>\n      <td>NaN</td>\n      <td>2011-01</td>\n      <td>Avon and Somerset Constabulary</td>\n      <td>Avon and Somerset Constabulary</td>\n      <td>-2.509384</td>\n      <td>51.409590</td>\n      <td>On or near Barnard Walk</td>\n      <td>E01014399</td>\n      <td>Bath and North East Somerset 001A</td>\n      <td>Other crime</td>\n      <td>NaN</td>\n      <td>NaN</td>\n    </tr>\n    <tr>\n      <th>4</th>\n      <td>NaN</td>\n      <td>2011-01</td>\n      <td>Avon and Somerset Constabulary</td>\n      <td>Avon and Somerset Constabulary</td>\n      <td>-2.509384</td>\n      <td>51.409590</td>\n      <td>On or near Barnard Walk</td>\n      <td>E01014399</td>\n      <td>Bath and North East Somerset 001A</td>\n      <td>Other crime</td>\n      <td>NaN</td>\n      <td>NaN</td>\n    </tr>\n    <tr>\n      <th>...</th>\n      <td>...</td>\n      <td>...</td>\n      <td>...</td>\n      <td>...</td>\n      <td>...</td>\n      <td>...</td>\n      <td>...</td>\n      <td>...</td>\n      <td>...</td>\n      <td>...</td>\n      <td>...</td>\n      <td>...</td>\n    </tr>\n    <tr>\n      <th>1831630</th>\n      <td>522ac50c1f07464e3dcb9d10338d528f02076677b22b61...</td>\n      <td>2021-10</td>\n      <td>Avon and Somerset Constabulary</td>\n      <td>Avon and Somerset Constabulary</td>\n      <td>NaN</td>\n      <td>NaN</td>\n      <td>No Location</td>\n      <td>NaN</td>\n      <td>NaN</td>\n      <td>Other crime</td>\n      <td>Under investigation</td>\n      <td>NaN</td>\n    </tr>\n    <tr>\n      <th>1831631</th>\n      <td>f6f58c2208894a4694824896605dfd905690cc4a2dd99a...</td>\n      <td>2021-10</td>\n      <td>Avon and Somerset Constabulary</td>\n      <td>Avon and Somerset Constabulary</td>\n      <td>NaN</td>\n      <td>NaN</td>\n      <td>No Location</td>\n      <td>NaN</td>\n      <td>NaN</td>\n      <td>Other crime</td>\n      <td>Further investigation is not in the public int...</td>\n      <td>NaN</td>\n    </tr>\n    <tr>\n      <th>1831632</th>\n      <td>7dea09a0073c79da754b4711802dabbd514ab9a10b705b...</td>\n      <td>2021-10</td>\n      <td>Avon and Somerset Constabulary</td>\n      <td>Avon and Somerset Constabulary</td>\n      <td>NaN</td>\n      <td>NaN</td>\n      <td>No Location</td>\n      <td>NaN</td>\n      <td>NaN</td>\n      <td>Other crime</td>\n      <td>Under investigation</td>\n      <td>NaN</td>\n    </tr>\n    <tr>\n      <th>1831633</th>\n      <td>d0da752e31289db1f05c10192ff566a8264c2d3bae0e55...</td>\n      <td>2021-10</td>\n      <td>Avon and Somerset Constabulary</td>\n      <td>Avon and Somerset Constabulary</td>\n      <td>NaN</td>\n      <td>NaN</td>\n      <td>No Location</td>\n      <td>NaN</td>\n      <td>NaN</td>\n      <td>Other crime</td>\n      <td>Further investigation is not in the public int...</td>\n      <td>NaN</td>\n    </tr>\n    <tr>\n      <th>1831634</th>\n      <td>c2e19550713891707323b00f26a9de688bee1a4a39b0f8...</td>\n      <td>2021-10</td>\n      <td>Avon and Somerset Constabulary</td>\n      <td>Avon and Somerset Constabulary</td>\n      <td>NaN</td>\n      <td>NaN</td>\n      <td>No Location</td>\n      <td>NaN</td>\n      <td>NaN</td>\n      <td>Other crime</td>\n      <td>Further investigation is not in the public int...</td>\n      <td>NaN</td>\n    </tr>\n  </tbody>\n</table>\n<p>1831635 rows × 12 columns</p>\n</div>"
     },
     "execution_count": 19,
     "metadata": {},
     "output_type": "execute_result"
    }
   ],
   "source": [
    "df_all = pd.read_csv(files[0])\n",
    "i=1\n",
    "for file in files[1:]:\n",
    "    print(i)\n",
    "    df = pd.read_csv(file)\n",
    "    df_all = df_all.append(df, ignore_index=True)\n",
    "    i=i+1\n",
    "df_all"
   ],
   "metadata": {
    "collapsed": false,
    "pycharm": {
     "name": "#%%\n"
    }
   }
  },
  {
   "cell_type": "code",
   "execution_count": null,
   "outputs": [],
   "source": [],
   "metadata": {
    "collapsed": false,
    "pycharm": {
     "name": "#%%\n"
    }
   }
  },
  {
   "cell_type": "code",
   "execution_count": null,
   "outputs": [],
   "source": [],
   "metadata": {
    "collapsed": false,
    "pycharm": {
     "name": "#%%\n"
    }
   }
  },
  {
   "cell_type": "code",
   "execution_count": null,
   "outputs": [],
   "source": [],
   "metadata": {
    "collapsed": false,
    "pycharm": {
     "name": "#%%\n"
    }
   }
  }
 ],
 "metadata": {
  "kernelspec": {
   "display_name": "Python 3",
   "language": "python",
   "name": "python3"
  },
  "language_info": {
   "codemirror_mode": {
    "name": "ipython",
    "version": 2
   },
   "file_extension": ".py",
   "mimetype": "text/x-python",
   "name": "python",
   "nbconvert_exporter": "python",
   "pygments_lexer": "ipython2",
   "version": "2.7.6"
  }
 },
 "nbformat": 4,
 "nbformat_minor": 0
}