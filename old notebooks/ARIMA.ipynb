{
  "nbformat": 4,
  "nbformat_minor": 0,
  "metadata": {
    "colab": {
      "name": "ARIMA.ipynb",
      "provenance": [],
      "collapsed_sections": [],
      "include_colab_link": true
    },
    "kernelspec": {
      "name": "python3",
      "display_name": "Python 3"
    },
    "language_info": {
      "name": "python"
    }
  },
  "cells": [
    {
      "cell_type": "markdown",
      "metadata": {
        "id": "view-in-github",
        "colab_type": "text"
      },
      "source": [
        "<a href=\"https://colab.research.google.com/github/S-Diemel/JBG050/blob/main/ARIMA.ipynb\" target=\"_parent\"><img src=\"https://colab.research.google.com/assets/colab-badge.svg\" alt=\"Open In Colab\"/></a>"
      ]
    },
    {
      "cell_type": "code",
      "execution_count": null,
      "metadata": {
        "id": "-IxQLCr3rV1L",
        "colab": {
          "base_uri": "https://localhost:8080/"
        },
        "outputId": "827f93d4-8583-42c3-8d14-5a49fd8e5607"
      },
      "outputs": [
        {
          "output_type": "stream",
          "name": "stderr",
          "text": [
            "/usr/local/lib/python3.7/dist-packages/statsmodels/tools/_testing.py:19: FutureWarning: pandas.util.testing is deprecated. Use the functions in the public API at pandas.testing instead.\n",
            "  import pandas.util.testing as tm\n"
          ]
        }
      ],
      "source": [
        "import numpy as np\n",
        "import pandas as pd\n",
        "from matplotlib import pyplot as plt\n",
        "from statsmodels.tsa.stattools import adfuller\n",
        "from statsmodels.tsa.seasonal import seasonal_decompose\n",
        "from statsmodels.tsa.arima_model import ARIMA\n",
        "from pandas.plotting import register_matplotlib_converters\n",
        "register_matplotlib_converters()\n",
        "from google.colab import files\n"
      ]
    },
    {
      "cell_type": "markdown",
      "source": [
        "### Read datasets"
      ],
      "metadata": {
        "id": "1PNoHrM2surJ"
      }
    },
    {
      "cell_type": "code",
      "source": [
        "from google.colab import drive\n",
        "drive.mount('/content/drive')\n",
        "df = pd.read_csv(\"/content/drive/MyDrive/Data Challenge 2/data/burglary_data_city.csv\")"
      ],
      "metadata": {
        "id": "l3LPYmdPstrM",
        "colab": {
          "base_uri": "https://localhost:8080/"
        },
        "outputId": "b4edf135-6c4c-4a7b-98ab-e7c14eecf82b"
      },
      "execution_count": null,
      "outputs": [
        {
          "output_type": "stream",
          "name": "stdout",
          "text": [
            "Mounted at /content/drive\n"
          ]
        }
      ]
    },
    {
      "cell_type": "code",
      "source": [
        "df.drop(['Unnamed: 0', 'Unnamed: 0.1', 'Unnamed: 0.1.1'], axis=1, inplace=True)\n",
        "\n",
        "df['year'] = df['year'].astype(int)\n",
        "df['month'] = df['month'].astype(int)\n",
        "\n",
        "df['year month'] = df['year'].astype(str) + '-'+ df['month'].astype(str)\n",
        "\n",
        "df['year month'] = pd.to_datetime(df['year month'], format='%y-%m').apply(lambda x: x.strftime('%Y-%m'))"
      ],
      "metadata": {
        "id": "yQ8isrUSt_bv"
      },
      "execution_count": null,
      "outputs": []
    },
    {
      "cell_type": "code",
      "source": [
        "df.head()"
      ],
      "metadata": {
        "colab": {
          "base_uri": "https://localhost:8080/",
          "height": 206
        },
        "id": "VyUIIzkFjbZl",
        "outputId": "fd0542a7-a85c-42a9-c1ed-1bec1e554771"
      },
      "execution_count": null,
      "outputs": [
        {
          "output_type": "execute_result",
          "data": {
            "text/plain": [
              "   Longitude   Latitude  month  year  median house price  burglarys city  \\\n",
              "0  -0.252285  50.834953     12    10            290500.0            33.0   \n",
              "1  -3.440349  54.698378     12    10            106500.0            34.0   \n",
              "2  -1.388190  53.027519     12    10            157500.0            57.0   \n",
              "3  -0.635302  50.807425     12    10            265500.0            62.0   \n",
              "4  -1.256562  53.105927     12    10            126500.0            78.0   \n",
              "\n",
              "   burglarys lsoa          city year month  \n",
              "0             2.0          Adur    2010-12  \n",
              "1             2.5     Allerdale    2010-12  \n",
              "2             2.0  Amber Valley    2010-12  \n",
              "3             2.0          Arun    2010-12  \n",
              "4             2.0      Ashfield    2010-12  "
            ],
            "text/html": [
              "\n",
              "  <div id=\"df-081ee4d8-e746-440f-9d0f-06e1679f991f\">\n",
              "    <div class=\"colab-df-container\">\n",
              "      <div>\n",
              "<style scoped>\n",
              "    .dataframe tbody tr th:only-of-type {\n",
              "        vertical-align: middle;\n",
              "    }\n",
              "\n",
              "    .dataframe tbody tr th {\n",
              "        vertical-align: top;\n",
              "    }\n",
              "\n",
              "    .dataframe thead th {\n",
              "        text-align: right;\n",
              "    }\n",
              "</style>\n",
              "<table border=\"1\" class=\"dataframe\">\n",
              "  <thead>\n",
              "    <tr style=\"text-align: right;\">\n",
              "      <th></th>\n",
              "      <th>Longitude</th>\n",
              "      <th>Latitude</th>\n",
              "      <th>month</th>\n",
              "      <th>year</th>\n",
              "      <th>median house price</th>\n",
              "      <th>burglarys city</th>\n",
              "      <th>burglarys lsoa</th>\n",
              "      <th>city</th>\n",
              "      <th>year month</th>\n",
              "    </tr>\n",
              "  </thead>\n",
              "  <tbody>\n",
              "    <tr>\n",
              "      <th>0</th>\n",
              "      <td>-0.252285</td>\n",
              "      <td>50.834953</td>\n",
              "      <td>12</td>\n",
              "      <td>10</td>\n",
              "      <td>290500.0</td>\n",
              "      <td>33.0</td>\n",
              "      <td>2.0</td>\n",
              "      <td>Adur</td>\n",
              "      <td>2010-12</td>\n",
              "    </tr>\n",
              "    <tr>\n",
              "      <th>1</th>\n",
              "      <td>-3.440349</td>\n",
              "      <td>54.698378</td>\n",
              "      <td>12</td>\n",
              "      <td>10</td>\n",
              "      <td>106500.0</td>\n",
              "      <td>34.0</td>\n",
              "      <td>2.5</td>\n",
              "      <td>Allerdale</td>\n",
              "      <td>2010-12</td>\n",
              "    </tr>\n",
              "    <tr>\n",
              "      <th>2</th>\n",
              "      <td>-1.388190</td>\n",
              "      <td>53.027519</td>\n",
              "      <td>12</td>\n",
              "      <td>10</td>\n",
              "      <td>157500.0</td>\n",
              "      <td>57.0</td>\n",
              "      <td>2.0</td>\n",
              "      <td>Amber Valley</td>\n",
              "      <td>2010-12</td>\n",
              "    </tr>\n",
              "    <tr>\n",
              "      <th>3</th>\n",
              "      <td>-0.635302</td>\n",
              "      <td>50.807425</td>\n",
              "      <td>12</td>\n",
              "      <td>10</td>\n",
              "      <td>265500.0</td>\n",
              "      <td>62.0</td>\n",
              "      <td>2.0</td>\n",
              "      <td>Arun</td>\n",
              "      <td>2010-12</td>\n",
              "    </tr>\n",
              "    <tr>\n",
              "      <th>4</th>\n",
              "      <td>-1.256562</td>\n",
              "      <td>53.105927</td>\n",
              "      <td>12</td>\n",
              "      <td>10</td>\n",
              "      <td>126500.0</td>\n",
              "      <td>78.0</td>\n",
              "      <td>2.0</td>\n",
              "      <td>Ashfield</td>\n",
              "      <td>2010-12</td>\n",
              "    </tr>\n",
              "  </tbody>\n",
              "</table>\n",
              "</div>\n",
              "      <button class=\"colab-df-convert\" onclick=\"convertToInteractive('df-081ee4d8-e746-440f-9d0f-06e1679f991f')\"\n",
              "              title=\"Convert this dataframe to an interactive table.\"\n",
              "              style=\"display:none;\">\n",
              "        \n",
              "  <svg xmlns=\"http://www.w3.org/2000/svg\" height=\"24px\"viewBox=\"0 0 24 24\"\n",
              "       width=\"24px\">\n",
              "    <path d=\"M0 0h24v24H0V0z\" fill=\"none\"/>\n",
              "    <path d=\"M18.56 5.44l.94 2.06.94-2.06 2.06-.94-2.06-.94-.94-2.06-.94 2.06-2.06.94zm-11 1L8.5 8.5l.94-2.06 2.06-.94-2.06-.94L8.5 2.5l-.94 2.06-2.06.94zm10 10l.94 2.06.94-2.06 2.06-.94-2.06-.94-.94-2.06-.94 2.06-2.06.94z\"/><path d=\"M17.41 7.96l-1.37-1.37c-.4-.4-.92-.59-1.43-.59-.52 0-1.04.2-1.43.59L10.3 9.45l-7.72 7.72c-.78.78-.78 2.05 0 2.83L4 21.41c.39.39.9.59 1.41.59.51 0 1.02-.2 1.41-.59l7.78-7.78 2.81-2.81c.8-.78.8-2.07 0-2.86zM5.41 20L4 18.59l7.72-7.72 1.47 1.35L5.41 20z\"/>\n",
              "  </svg>\n",
              "      </button>\n",
              "      \n",
              "  <style>\n",
              "    .colab-df-container {\n",
              "      display:flex;\n",
              "      flex-wrap:wrap;\n",
              "      gap: 12px;\n",
              "    }\n",
              "\n",
              "    .colab-df-convert {\n",
              "      background-color: #E8F0FE;\n",
              "      border: none;\n",
              "      border-radius: 50%;\n",
              "      cursor: pointer;\n",
              "      display: none;\n",
              "      fill: #1967D2;\n",
              "      height: 32px;\n",
              "      padding: 0 0 0 0;\n",
              "      width: 32px;\n",
              "    }\n",
              "\n",
              "    .colab-df-convert:hover {\n",
              "      background-color: #E2EBFA;\n",
              "      box-shadow: 0px 1px 2px rgba(60, 64, 67, 0.3), 0px 1px 3px 1px rgba(60, 64, 67, 0.15);\n",
              "      fill: #174EA6;\n",
              "    }\n",
              "\n",
              "    [theme=dark] .colab-df-convert {\n",
              "      background-color: #3B4455;\n",
              "      fill: #D2E3FC;\n",
              "    }\n",
              "\n",
              "    [theme=dark] .colab-df-convert:hover {\n",
              "      background-color: #434B5C;\n",
              "      box-shadow: 0px 1px 3px 1px rgba(0, 0, 0, 0.15);\n",
              "      filter: drop-shadow(0px 1px 2px rgba(0, 0, 0, 0.3));\n",
              "      fill: #FFFFFF;\n",
              "    }\n",
              "  </style>\n",
              "\n",
              "      <script>\n",
              "        const buttonEl =\n",
              "          document.querySelector('#df-081ee4d8-e746-440f-9d0f-06e1679f991f button.colab-df-convert');\n",
              "        buttonEl.style.display =\n",
              "          google.colab.kernel.accessAllowed ? 'block' : 'none';\n",
              "\n",
              "        async function convertToInteractive(key) {\n",
              "          const element = document.querySelector('#df-081ee4d8-e746-440f-9d0f-06e1679f991f');\n",
              "          const dataTable =\n",
              "            await google.colab.kernel.invokeFunction('convertToInteractive',\n",
              "                                                     [key], {});\n",
              "          if (!dataTable) return;\n",
              "\n",
              "          const docLinkHtml = 'Like what you see? Visit the ' +\n",
              "            '<a target=\"_blank\" href=https://colab.research.google.com/notebooks/data_table.ipynb>data table notebook</a>'\n",
              "            + ' to learn more about interactive tables.';\n",
              "          element.innerHTML = '';\n",
              "          dataTable['output_type'] = 'display_data';\n",
              "          await google.colab.output.renderOutput(dataTable, element);\n",
              "          const docLink = document.createElement('div');\n",
              "          docLink.innerHTML = docLinkHtml;\n",
              "          element.appendChild(docLink);\n",
              "        }\n",
              "      </script>\n",
              "    </div>\n",
              "  </div>\n",
              "  "
            ]
          },
          "metadata": {},
          "execution_count": 4
        }
      ]
    },
    {
      "cell_type": "code",
      "source": [
        "df['city'].unique()"
      ],
      "metadata": {
        "colab": {
          "base_uri": "https://localhost:8080/"
        },
        "id": "00gKoBwyg7w-",
        "outputId": "75d0ade6-e906-42dc-9f56-94973cfb31f4"
      },
      "execution_count": null,
      "outputs": [
        {
          "output_type": "execute_result",
          "data": {
            "text/plain": [
              "array(['Adur', 'Allerdale', 'Amber Valley', 'Arun', 'Ashfield', 'Ashford',\n",
              "       'Aylesbury Vale', 'Babergh', 'Barking and Dagenham', 'Barnet',\n",
              "       'Barnsley', 'Barro', 'Basildon', 'Basingstoke and Deane',\n",
              "       'Bassetlaw', 'Bath and North East Somerset', 'Bedford', 'Bexley',\n",
              "       'Birmingham', 'Blaby', 'Blackburn with Darwen', 'Blackpool',\n",
              "       'Blaenau Gwent', 'Bolsover', 'Bolton', 'Boston', 'Bournemouth',\n",
              "       'Bracknell Forest', 'Bradford', 'Braintree', 'Breckland', 'Brent',\n",
              "       'Brentwood', 'Bridgend', 'Brighton and Hove', 'Bristol',\n",
              "       'Broadland', 'Bromley', 'Bromsgrove', 'Broxbourne', 'Broxtowe',\n",
              "       'Burnley', 'Bury', 'Caerphilly', 'Calderdale', 'Cambridge',\n",
              "       'Camden', 'Cannock Chase', 'Canterbury', 'Cardiff', 'Carlisle',\n",
              "       'Carmarthenshire', 'Castle Point', 'Central Bedfordshire',\n",
              "       'Ceredigion', 'Charnwood', 'Chelmsford', 'Cheltenham', 'Cherwell',\n",
              "       'Cheshire East', 'Cheshire West and Chester', 'Chesterfield',\n",
              "       'Chichester', 'Chiltern', 'Chorley', 'Christchurch',\n",
              "       'City of London', 'Colchester', 'Conwy', 'Copeland', 'Corby',\n",
              "       'Cornwall', 'Cotswold', 'County Durham', 'Coventry', 'Craven',\n",
              "       'Crawley', 'Croydon', 'Dacorum', 'Darlington', 'Dartford',\n",
              "       'Daventry', 'Denbighshire', 'Derby', 'Derbyshire Dales',\n",
              "       'Doncaster', 'Dover', 'Dudley', 'Ealing', 'East Cambridgeshire',\n",
              "       'East Devon', 'East Dorset', 'East Hampshire',\n",
              "       'East Hertfordshire', 'East Lindsey', 'East Northamptonshire',\n",
              "       'East Riding of Yorkshire', 'East Staffordshire', 'Eastbourne',\n",
              "       'Eastleigh', 'Eden', 'Elmbridge', 'Enfield', 'Epping Forest',\n",
              "       'Epsom and Ewell', 'Erewash', 'Exeter', 'Fareham', 'Fenland',\n",
              "       'Flintshire', 'Forest Heath', 'Forest of Dean', 'Fylde',\n",
              "       'Gateshead', 'Gedling', 'Gloucester', 'Gosport', 'Gravesham',\n",
              "       'Great Yarmouth', 'Greenwich', 'Guildford', 'Gwynedd', 'Hackney',\n",
              "       'Halton', 'Hambleton', 'Hammersmith and Fulham', 'Harborough',\n",
              "       'Haringey', 'Harlow', 'Harrogate', 'Harrow', 'Hart', 'Hartlepool',\n",
              "       'Hastings', 'Havant', 'Havering', 'Herefordshire', 'Hertsmere',\n",
              "       'High Peak', 'Hillingdon', 'Hinckley and Bosworth', 'Horsham',\n",
              "       'Hounslow', 'Huntingdonshire', 'Hyndburn', 'Ipswich',\n",
              "       'Isle of Anglesey', 'Isle of Wight', 'Islington',\n",
              "       'Kensington and Chelsea', 'Kettering', 'Kin', 'Kingston upon Hull',\n",
              "       'Kingston upon Thames', 'Kirklees', 'Knowsley', 'Lambeth',\n",
              "       'Lancaster', 'Leeds', 'Leicester', 'Lewes', 'Lewisham',\n",
              "       'Lichfield', 'Lincoln', 'Liverpool', 'Luton', 'Maidstone',\n",
              "       'Maldon', 'Malvern Hills', 'Manchester', 'Mansfield', 'Medway',\n",
              "       'Melton', 'Mendip', 'Merthyr Tydfil', 'Merton', 'Mid Devon',\n",
              "       'Mid Suffolk', 'Mid Sussex', 'Middlesbrough', 'Milton Keynes',\n",
              "       'Mole Valley', 'Monmouthshire', 'Neath Port Talbot', 'New Forest',\n",
              "       'Newark and Sherwood', 'Newcastl', 'Newcastle upon Tyne', 'Newham',\n",
              "       'Newport', 'North Devon', 'North Dorset', 'North East Derbyshire',\n",
              "       'North East Lincolnshire', 'North Hertfordshire', 'North Kesteven',\n",
              "       'North Lincolnshire', 'North Norfolk', 'North Somerset',\n",
              "       'North Tyneside', 'North Warwickshire',\n",
              "       'North West Leicestershire', 'Northampton', 'Northumberland',\n",
              "       'Norwich', 'Nottingham', 'Nuneaton and Bedworth',\n",
              "       'Oadby and Wigston', 'Oldham', 'Oxford', 'Pembrokeshire', 'Pendle',\n",
              "       'Peterborough', 'Plymouth', 'Poole', 'Portsmouth', 'Powys',\n",
              "       'Preston', 'Purbeck', 'Reading', 'Redbridge',\n",
              "       'Redcar and Cleveland', 'Redditch', 'Reigate and Banstead',\n",
              "       'Rhondda Cynon Taf', 'Ribble Valley', 'Richmond upon Thames',\n",
              "       'Richmondshire', 'Rochdale', 'Rochford', 'Rossendale', 'Rother',\n",
              "       'Rotherham', 'Rugby', 'Runnymede', 'Rushcliffe', 'Rushmoor',\n",
              "       'Rutland', 'Ryedale', 'S', 'Salford', 'Sandwell', 'Scarborough',\n",
              "       'Sedgemoor', 'Sefton', 'Selby', 'Sevenoaks', 'Sheffield',\n",
              "       'Shepway', 'Shropshire', 'Slough', 'Solihull', 'South Bucks',\n",
              "       'South Cambridgeshire', 'South Derbyshire',\n",
              "       'South Gloucestershire', 'South Hams', 'South Holland',\n",
              "       'South Kesteven', 'South Lakeland', 'South Norfolk',\n",
              "       'South Northamptonshire', 'South Oxfordshire', 'South Ribble',\n",
              "       'South Somerset', 'South Staffordshire', 'South Tyneside',\n",
              "       'Southampton', 'Southen', 'Southwark', 'Spelthorne', 'St Albans',\n",
              "       'St Edmundsbury', 'Stafford', 'Staffordshire Moorlands',\n",
              "       'Stevenage', 'Stockport', 'Stockto', 'Stok', 'Stratfor', 'Stroud',\n",
              "       'Suffolk Coastal', 'Sunderland', 'Surrey Heath', 'Sutton', 'Swale',\n",
              "       'Swansea', 'Swindon', 'Tameside', 'Tamworth', 'Tandridge',\n",
              "       'Taunton Deane', 'Teignbridge', 'Telford and Wrekin', 'Tendring',\n",
              "       'Test Valley', 'Tewkesbury', 'Thanet', 'The Vale of Glamorgan',\n",
              "       'Three Rivers', 'Thurrock', 'Tonbridge and Malling', 'Torbay',\n",
              "       'Torfaen', 'Torridge', 'Tower Hamlets', 'Trafford',\n",
              "       'Tunbridge Wells', 'Uttlesford', 'Vale of White Horse',\n",
              "       'Wakefield', 'Walsall', 'Waltham Forest', 'Wandsworth',\n",
              "       'Warrington', 'Warwick', 'Watford', 'Waveney', 'Waverley',\n",
              "       'Wealden', 'Wellingborough', 'Welwyn Hatfield', 'West Berkshire',\n",
              "       'West Devon', 'West Dorset', 'West Lancashire', 'West Lindsey',\n",
              "       'West Oxfordshire', 'West Somerset', 'Westminster',\n",
              "       'Weymouth and Portland', 'Wigan', 'Wiltshire', 'Winchester',\n",
              "       'Windsor and Maidenhead', 'Wirral', 'Woking', 'Wokingham',\n",
              "       'Wolverhampton', 'Worcester', 'Worthing', 'Wrexham', 'Wychavon',\n",
              "       'Wycombe', 'Wyre', 'Wyre Forest', 'York', 'Isles of Scilly'],\n",
              "      dtype=object)"
            ]
          },
          "metadata": {},
          "execution_count": 5
        }
      ]
    },
    {
      "cell_type": "code",
      "source": [
        "city = 'West Oxfordshire'\n",
        "\n",
        "df_city = df.loc[df['city'] == city]\n",
        "df_city"
      ],
      "metadata": {
        "colab": {
          "base_uri": "https://localhost:8080/",
          "height": 424
        },
        "id": "udi8WHx3gOSy",
        "outputId": "5a8b3b35-af63-4a68-d23e-fcfd973c1867"
      },
      "execution_count": null,
      "outputs": [
        {
          "output_type": "execute_result",
          "data": {
            "text/plain": [
              "       Longitude   Latitude  month  year  median house price  burglarys city  \\\n",
              "327    -1.506846  51.783793     12    10            315250.0            29.0   \n",
              "673    -1.550582  51.788562      1    11            375000.0            40.0   \n",
              "1020   -1.516103  51.826781      2    11            337500.0            27.0   \n",
              "1367   -1.495754  51.793400      3    11            385000.0            43.0   \n",
              "1714   -1.514900  51.790915      4    11            334500.0            32.0   \n",
              "...          ...        ...    ...   ...                 ...             ...   \n",
              "43840  -1.479569  51.793599      6    21            353750.0            16.0   \n",
              "44171  -1.541098  51.793760      7    21            357500.0            39.0   \n",
              "44504  -1.490620  51.848264      8    21            360000.0            15.0   \n",
              "44836  -1.487316  51.816310      9    21            392500.0            21.0   \n",
              "45172  -1.526655  51.857335     10    21            392000.0            26.0   \n",
              "\n",
              "       burglarys lsoa              city year month  \n",
              "327               2.0  West Oxfordshire    2010-12  \n",
              "673               2.0  West Oxfordshire    2011-01  \n",
              "1020              1.0  West Oxfordshire    2011-02  \n",
              "1367              2.0  West Oxfordshire    2011-03  \n",
              "1714              1.5  West Oxfordshire    2011-04  \n",
              "...               ...               ...        ...  \n",
              "43840             1.0  West Oxfordshire    2021-06  \n",
              "44171             2.0  West Oxfordshire    2021-07  \n",
              "44504             1.0  West Oxfordshire    2021-08  \n",
              "44836             1.0  West Oxfordshire    2021-09  \n",
              "45172             2.0  West Oxfordshire    2021-10  \n",
              "\n",
              "[131 rows x 9 columns]"
            ],
            "text/html": [
              "\n",
              "  <div id=\"df-f59e0c49-cb94-46ef-95cc-1986bcc04e72\">\n",
              "    <div class=\"colab-df-container\">\n",
              "      <div>\n",
              "<style scoped>\n",
              "    .dataframe tbody tr th:only-of-type {\n",
              "        vertical-align: middle;\n",
              "    }\n",
              "\n",
              "    .dataframe tbody tr th {\n",
              "        vertical-align: top;\n",
              "    }\n",
              "\n",
              "    .dataframe thead th {\n",
              "        text-align: right;\n",
              "    }\n",
              "</style>\n",
              "<table border=\"1\" class=\"dataframe\">\n",
              "  <thead>\n",
              "    <tr style=\"text-align: right;\">\n",
              "      <th></th>\n",
              "      <th>Longitude</th>\n",
              "      <th>Latitude</th>\n",
              "      <th>month</th>\n",
              "      <th>year</th>\n",
              "      <th>median house price</th>\n",
              "      <th>burglarys city</th>\n",
              "      <th>burglarys lsoa</th>\n",
              "      <th>city</th>\n",
              "      <th>year month</th>\n",
              "    </tr>\n",
              "  </thead>\n",
              "  <tbody>\n",
              "    <tr>\n",
              "      <th>327</th>\n",
              "      <td>-1.506846</td>\n",
              "      <td>51.783793</td>\n",
              "      <td>12</td>\n",
              "      <td>10</td>\n",
              "      <td>315250.0</td>\n",
              "      <td>29.0</td>\n",
              "      <td>2.0</td>\n",
              "      <td>West Oxfordshire</td>\n",
              "      <td>2010-12</td>\n",
              "    </tr>\n",
              "    <tr>\n",
              "      <th>673</th>\n",
              "      <td>-1.550582</td>\n",
              "      <td>51.788562</td>\n",
              "      <td>1</td>\n",
              "      <td>11</td>\n",
              "      <td>375000.0</td>\n",
              "      <td>40.0</td>\n",
              "      <td>2.0</td>\n",
              "      <td>West Oxfordshire</td>\n",
              "      <td>2011-01</td>\n",
              "    </tr>\n",
              "    <tr>\n",
              "      <th>1020</th>\n",
              "      <td>-1.516103</td>\n",
              "      <td>51.826781</td>\n",
              "      <td>2</td>\n",
              "      <td>11</td>\n",
              "      <td>337500.0</td>\n",
              "      <td>27.0</td>\n",
              "      <td>1.0</td>\n",
              "      <td>West Oxfordshire</td>\n",
              "      <td>2011-02</td>\n",
              "    </tr>\n",
              "    <tr>\n",
              "      <th>1367</th>\n",
              "      <td>-1.495754</td>\n",
              "      <td>51.793400</td>\n",
              "      <td>3</td>\n",
              "      <td>11</td>\n",
              "      <td>385000.0</td>\n",
              "      <td>43.0</td>\n",
              "      <td>2.0</td>\n",
              "      <td>West Oxfordshire</td>\n",
              "      <td>2011-03</td>\n",
              "    </tr>\n",
              "    <tr>\n",
              "      <th>1714</th>\n",
              "      <td>-1.514900</td>\n",
              "      <td>51.790915</td>\n",
              "      <td>4</td>\n",
              "      <td>11</td>\n",
              "      <td>334500.0</td>\n",
              "      <td>32.0</td>\n",
              "      <td>1.5</td>\n",
              "      <td>West Oxfordshire</td>\n",
              "      <td>2011-04</td>\n",
              "    </tr>\n",
              "    <tr>\n",
              "      <th>...</th>\n",
              "      <td>...</td>\n",
              "      <td>...</td>\n",
              "      <td>...</td>\n",
              "      <td>...</td>\n",
              "      <td>...</td>\n",
              "      <td>...</td>\n",
              "      <td>...</td>\n",
              "      <td>...</td>\n",
              "      <td>...</td>\n",
              "    </tr>\n",
              "    <tr>\n",
              "      <th>43840</th>\n",
              "      <td>-1.479569</td>\n",
              "      <td>51.793599</td>\n",
              "      <td>6</td>\n",
              "      <td>21</td>\n",
              "      <td>353750.0</td>\n",
              "      <td>16.0</td>\n",
              "      <td>1.0</td>\n",
              "      <td>West Oxfordshire</td>\n",
              "      <td>2021-06</td>\n",
              "    </tr>\n",
              "    <tr>\n",
              "      <th>44171</th>\n",
              "      <td>-1.541098</td>\n",
              "      <td>51.793760</td>\n",
              "      <td>7</td>\n",
              "      <td>21</td>\n",
              "      <td>357500.0</td>\n",
              "      <td>39.0</td>\n",
              "      <td>2.0</td>\n",
              "      <td>West Oxfordshire</td>\n",
              "      <td>2021-07</td>\n",
              "    </tr>\n",
              "    <tr>\n",
              "      <th>44504</th>\n",
              "      <td>-1.490620</td>\n",
              "      <td>51.848264</td>\n",
              "      <td>8</td>\n",
              "      <td>21</td>\n",
              "      <td>360000.0</td>\n",
              "      <td>15.0</td>\n",
              "      <td>1.0</td>\n",
              "      <td>West Oxfordshire</td>\n",
              "      <td>2021-08</td>\n",
              "    </tr>\n",
              "    <tr>\n",
              "      <th>44836</th>\n",
              "      <td>-1.487316</td>\n",
              "      <td>51.816310</td>\n",
              "      <td>9</td>\n",
              "      <td>21</td>\n",
              "      <td>392500.0</td>\n",
              "      <td>21.0</td>\n",
              "      <td>1.0</td>\n",
              "      <td>West Oxfordshire</td>\n",
              "      <td>2021-09</td>\n",
              "    </tr>\n",
              "    <tr>\n",
              "      <th>45172</th>\n",
              "      <td>-1.526655</td>\n",
              "      <td>51.857335</td>\n",
              "      <td>10</td>\n",
              "      <td>21</td>\n",
              "      <td>392000.0</td>\n",
              "      <td>26.0</td>\n",
              "      <td>2.0</td>\n",
              "      <td>West Oxfordshire</td>\n",
              "      <td>2021-10</td>\n",
              "    </tr>\n",
              "  </tbody>\n",
              "</table>\n",
              "<p>131 rows × 9 columns</p>\n",
              "</div>\n",
              "      <button class=\"colab-df-convert\" onclick=\"convertToInteractive('df-f59e0c49-cb94-46ef-95cc-1986bcc04e72')\"\n",
              "              title=\"Convert this dataframe to an interactive table.\"\n",
              "              style=\"display:none;\">\n",
              "        \n",
              "  <svg xmlns=\"http://www.w3.org/2000/svg\" height=\"24px\"viewBox=\"0 0 24 24\"\n",
              "       width=\"24px\">\n",
              "    <path d=\"M0 0h24v24H0V0z\" fill=\"none\"/>\n",
              "    <path d=\"M18.56 5.44l.94 2.06.94-2.06 2.06-.94-2.06-.94-.94-2.06-.94 2.06-2.06.94zm-11 1L8.5 8.5l.94-2.06 2.06-.94-2.06-.94L8.5 2.5l-.94 2.06-2.06.94zm10 10l.94 2.06.94-2.06 2.06-.94-2.06-.94-.94-2.06-.94 2.06-2.06.94z\"/><path d=\"M17.41 7.96l-1.37-1.37c-.4-.4-.92-.59-1.43-.59-.52 0-1.04.2-1.43.59L10.3 9.45l-7.72 7.72c-.78.78-.78 2.05 0 2.83L4 21.41c.39.39.9.59 1.41.59.51 0 1.02-.2 1.41-.59l7.78-7.78 2.81-2.81c.8-.78.8-2.07 0-2.86zM5.41 20L4 18.59l7.72-7.72 1.47 1.35L5.41 20z\"/>\n",
              "  </svg>\n",
              "      </button>\n",
              "      \n",
              "  <style>\n",
              "    .colab-df-container {\n",
              "      display:flex;\n",
              "      flex-wrap:wrap;\n",
              "      gap: 12px;\n",
              "    }\n",
              "\n",
              "    .colab-df-convert {\n",
              "      background-color: #E8F0FE;\n",
              "      border: none;\n",
              "      border-radius: 50%;\n",
              "      cursor: pointer;\n",
              "      display: none;\n",
              "      fill: #1967D2;\n",
              "      height: 32px;\n",
              "      padding: 0 0 0 0;\n",
              "      width: 32px;\n",
              "    }\n",
              "\n",
              "    .colab-df-convert:hover {\n",
              "      background-color: #E2EBFA;\n",
              "      box-shadow: 0px 1px 2px rgba(60, 64, 67, 0.3), 0px 1px 3px 1px rgba(60, 64, 67, 0.15);\n",
              "      fill: #174EA6;\n",
              "    }\n",
              "\n",
              "    [theme=dark] .colab-df-convert {\n",
              "      background-color: #3B4455;\n",
              "      fill: #D2E3FC;\n",
              "    }\n",
              "\n",
              "    [theme=dark] .colab-df-convert:hover {\n",
              "      background-color: #434B5C;\n",
              "      box-shadow: 0px 1px 3px 1px rgba(0, 0, 0, 0.15);\n",
              "      filter: drop-shadow(0px 1px 2px rgba(0, 0, 0, 0.3));\n",
              "      fill: #FFFFFF;\n",
              "    }\n",
              "  </style>\n",
              "\n",
              "      <script>\n",
              "        const buttonEl =\n",
              "          document.querySelector('#df-f59e0c49-cb94-46ef-95cc-1986bcc04e72 button.colab-df-convert');\n",
              "        buttonEl.style.display =\n",
              "          google.colab.kernel.accessAllowed ? 'block' : 'none';\n",
              "\n",
              "        async function convertToInteractive(key) {\n",
              "          const element = document.querySelector('#df-f59e0c49-cb94-46ef-95cc-1986bcc04e72');\n",
              "          const dataTable =\n",
              "            await google.colab.kernel.invokeFunction('convertToInteractive',\n",
              "                                                     [key], {});\n",
              "          if (!dataTable) return;\n",
              "\n",
              "          const docLinkHtml = 'Like what you see? Visit the ' +\n",
              "            '<a target=\"_blank\" href=https://colab.research.google.com/notebooks/data_table.ipynb>data table notebook</a>'\n",
              "            + ' to learn more about interactive tables.';\n",
              "          element.innerHTML = '';\n",
              "          dataTable['output_type'] = 'display_data';\n",
              "          await google.colab.output.renderOutput(dataTable, element);\n",
              "          const docLink = document.createElement('div');\n",
              "          docLink.innerHTML = docLinkHtml;\n",
              "          element.appendChild(docLink);\n",
              "        }\n",
              "      </script>\n",
              "    </div>\n",
              "  </div>\n",
              "  "
            ]
          },
          "metadata": {},
          "execution_count": 6
        }
      ]
    },
    {
      "cell_type": "code",
      "source": [
        "df.head()"
      ],
      "metadata": {
        "id": "fYfWjFfWvyiS",
        "colab": {
          "base_uri": "https://localhost:8080/",
          "height": 206
        },
        "outputId": "1d58b1c0-7cbf-4deb-f570-40575c851ba6"
      },
      "execution_count": null,
      "outputs": [
        {
          "output_type": "execute_result",
          "data": {
            "text/plain": [
              "   Longitude   Latitude  month  year  median house price  burglarys city  \\\n",
              "0  -0.252285  50.834953     12    10            290500.0            33.0   \n",
              "1  -3.440349  54.698378     12    10            106500.0            34.0   \n",
              "2  -1.388190  53.027519     12    10            157500.0            57.0   \n",
              "3  -0.635302  50.807425     12    10            265500.0            62.0   \n",
              "4  -1.256562  53.105927     12    10            126500.0            78.0   \n",
              "\n",
              "   burglarys lsoa          city year month  \n",
              "0             2.0          Adur    2010-12  \n",
              "1             2.5     Allerdale    2010-12  \n",
              "2             2.0  Amber Valley    2010-12  \n",
              "3             2.0          Arun    2010-12  \n",
              "4             2.0      Ashfield    2010-12  "
            ],
            "text/html": [
              "\n",
              "  <div id=\"df-a8d7460b-5362-40f4-b334-3c1e095aa79d\">\n",
              "    <div class=\"colab-df-container\">\n",
              "      <div>\n",
              "<style scoped>\n",
              "    .dataframe tbody tr th:only-of-type {\n",
              "        vertical-align: middle;\n",
              "    }\n",
              "\n",
              "    .dataframe tbody tr th {\n",
              "        vertical-align: top;\n",
              "    }\n",
              "\n",
              "    .dataframe thead th {\n",
              "        text-align: right;\n",
              "    }\n",
              "</style>\n",
              "<table border=\"1\" class=\"dataframe\">\n",
              "  <thead>\n",
              "    <tr style=\"text-align: right;\">\n",
              "      <th></th>\n",
              "      <th>Longitude</th>\n",
              "      <th>Latitude</th>\n",
              "      <th>month</th>\n",
              "      <th>year</th>\n",
              "      <th>median house price</th>\n",
              "      <th>burglarys city</th>\n",
              "      <th>burglarys lsoa</th>\n",
              "      <th>city</th>\n",
              "      <th>year month</th>\n",
              "    </tr>\n",
              "  </thead>\n",
              "  <tbody>\n",
              "    <tr>\n",
              "      <th>0</th>\n",
              "      <td>-0.252285</td>\n",
              "      <td>50.834953</td>\n",
              "      <td>12</td>\n",
              "      <td>10</td>\n",
              "      <td>290500.0</td>\n",
              "      <td>33.0</td>\n",
              "      <td>2.0</td>\n",
              "      <td>Adur</td>\n",
              "      <td>2010-12</td>\n",
              "    </tr>\n",
              "    <tr>\n",
              "      <th>1</th>\n",
              "      <td>-3.440349</td>\n",
              "      <td>54.698378</td>\n",
              "      <td>12</td>\n",
              "      <td>10</td>\n",
              "      <td>106500.0</td>\n",
              "      <td>34.0</td>\n",
              "      <td>2.5</td>\n",
              "      <td>Allerdale</td>\n",
              "      <td>2010-12</td>\n",
              "    </tr>\n",
              "    <tr>\n",
              "      <th>2</th>\n",
              "      <td>-1.388190</td>\n",
              "      <td>53.027519</td>\n",
              "      <td>12</td>\n",
              "      <td>10</td>\n",
              "      <td>157500.0</td>\n",
              "      <td>57.0</td>\n",
              "      <td>2.0</td>\n",
              "      <td>Amber Valley</td>\n",
              "      <td>2010-12</td>\n",
              "    </tr>\n",
              "    <tr>\n",
              "      <th>3</th>\n",
              "      <td>-0.635302</td>\n",
              "      <td>50.807425</td>\n",
              "      <td>12</td>\n",
              "      <td>10</td>\n",
              "      <td>265500.0</td>\n",
              "      <td>62.0</td>\n",
              "      <td>2.0</td>\n",
              "      <td>Arun</td>\n",
              "      <td>2010-12</td>\n",
              "    </tr>\n",
              "    <tr>\n",
              "      <th>4</th>\n",
              "      <td>-1.256562</td>\n",
              "      <td>53.105927</td>\n",
              "      <td>12</td>\n",
              "      <td>10</td>\n",
              "      <td>126500.0</td>\n",
              "      <td>78.0</td>\n",
              "      <td>2.0</td>\n",
              "      <td>Ashfield</td>\n",
              "      <td>2010-12</td>\n",
              "    </tr>\n",
              "  </tbody>\n",
              "</table>\n",
              "</div>\n",
              "      <button class=\"colab-df-convert\" onclick=\"convertToInteractive('df-a8d7460b-5362-40f4-b334-3c1e095aa79d')\"\n",
              "              title=\"Convert this dataframe to an interactive table.\"\n",
              "              style=\"display:none;\">\n",
              "        \n",
              "  <svg xmlns=\"http://www.w3.org/2000/svg\" height=\"24px\"viewBox=\"0 0 24 24\"\n",
              "       width=\"24px\">\n",
              "    <path d=\"M0 0h24v24H0V0z\" fill=\"none\"/>\n",
              "    <path d=\"M18.56 5.44l.94 2.06.94-2.06 2.06-.94-2.06-.94-.94-2.06-.94 2.06-2.06.94zm-11 1L8.5 8.5l.94-2.06 2.06-.94-2.06-.94L8.5 2.5l-.94 2.06-2.06.94zm10 10l.94 2.06.94-2.06 2.06-.94-2.06-.94-.94-2.06-.94 2.06-2.06.94z\"/><path d=\"M17.41 7.96l-1.37-1.37c-.4-.4-.92-.59-1.43-.59-.52 0-1.04.2-1.43.59L10.3 9.45l-7.72 7.72c-.78.78-.78 2.05 0 2.83L4 21.41c.39.39.9.59 1.41.59.51 0 1.02-.2 1.41-.59l7.78-7.78 2.81-2.81c.8-.78.8-2.07 0-2.86zM5.41 20L4 18.59l7.72-7.72 1.47 1.35L5.41 20z\"/>\n",
              "  </svg>\n",
              "      </button>\n",
              "      \n",
              "  <style>\n",
              "    .colab-df-container {\n",
              "      display:flex;\n",
              "      flex-wrap:wrap;\n",
              "      gap: 12px;\n",
              "    }\n",
              "\n",
              "    .colab-df-convert {\n",
              "      background-color: #E8F0FE;\n",
              "      border: none;\n",
              "      border-radius: 50%;\n",
              "      cursor: pointer;\n",
              "      display: none;\n",
              "      fill: #1967D2;\n",
              "      height: 32px;\n",
              "      padding: 0 0 0 0;\n",
              "      width: 32px;\n",
              "    }\n",
              "\n",
              "    .colab-df-convert:hover {\n",
              "      background-color: #E2EBFA;\n",
              "      box-shadow: 0px 1px 2px rgba(60, 64, 67, 0.3), 0px 1px 3px 1px rgba(60, 64, 67, 0.15);\n",
              "      fill: #174EA6;\n",
              "    }\n",
              "\n",
              "    [theme=dark] .colab-df-convert {\n",
              "      background-color: #3B4455;\n",
              "      fill: #D2E3FC;\n",
              "    }\n",
              "\n",
              "    [theme=dark] .colab-df-convert:hover {\n",
              "      background-color: #434B5C;\n",
              "      box-shadow: 0px 1px 3px 1px rgba(0, 0, 0, 0.15);\n",
              "      filter: drop-shadow(0px 1px 2px rgba(0, 0, 0, 0.3));\n",
              "      fill: #FFFFFF;\n",
              "    }\n",
              "  </style>\n",
              "\n",
              "      <script>\n",
              "        const buttonEl =\n",
              "          document.querySelector('#df-a8d7460b-5362-40f4-b334-3c1e095aa79d button.colab-df-convert');\n",
              "        buttonEl.style.display =\n",
              "          google.colab.kernel.accessAllowed ? 'block' : 'none';\n",
              "\n",
              "        async function convertToInteractive(key) {\n",
              "          const element = document.querySelector('#df-a8d7460b-5362-40f4-b334-3c1e095aa79d');\n",
              "          const dataTable =\n",
              "            await google.colab.kernel.invokeFunction('convertToInteractive',\n",
              "                                                     [key], {});\n",
              "          if (!dataTable) return;\n",
              "\n",
              "          const docLinkHtml = 'Like what you see? Visit the ' +\n",
              "            '<a target=\"_blank\" href=https://colab.research.google.com/notebooks/data_table.ipynb>data table notebook</a>'\n",
              "            + ' to learn more about interactive tables.';\n",
              "          element.innerHTML = '';\n",
              "          dataTable['output_type'] = 'display_data';\n",
              "          await google.colab.output.renderOutput(dataTable, element);\n",
              "          const docLink = document.createElement('div');\n",
              "          docLink.innerHTML = docLinkHtml;\n",
              "          element.appendChild(docLink);\n",
              "        }\n",
              "      </script>\n",
              "    </div>\n",
              "  </div>\n",
              "  "
            ]
          },
          "metadata": {},
          "execution_count": 7
        }
      ]
    },
    {
      "cell_type": "code",
      "source": [
        "df[['month','burglarys city']].plot(x='month', y='burglarys city')"
      ],
      "metadata": {
        "id": "8ZdBKDNww0uH",
        "colab": {
          "base_uri": "https://localhost:8080/",
          "height": 298
        },
        "outputId": "61ab8c67-3fbe-478f-ff98-2c246f0db298"
      },
      "execution_count": null,
      "outputs": [
        {
          "output_type": "execute_result",
          "data": {
            "text/plain": [
              "<matplotlib.axes._subplots.AxesSubplot at 0x7f74dff78810>"
            ]
          },
          "metadata": {},
          "execution_count": 8
        },
        {
          "output_type": "display_data",
          "data": {
            "text/plain": [
              "<Figure size 432x288 with 1 Axes>"
            ],
            "image/png": "[encoded data removed]"
          },
          "metadata": {
            "needs_background": "light"
          }
        }
      ]
    },
    {
      "cell_type": "code",
      "source": [
        "df_city[['year month', 'burglarys city', 'median house price']].plot(x='year month', y='burglarys city', title='Burglarys in '+ city, figsize=(20,5))"
      ],
      "metadata": {
        "colab": {
          "base_uri": "https://localhost:8080/",
          "height": 369
        },
        "id": "3aUQXU9Mr_-t",
        "outputId": "29ba2824-dc64-4edb-a27d-a55a27b552a1"
      },
      "execution_count": null,
      "outputs": [
        {
          "output_type": "execute_result",
          "data": {
            "text/plain": [
              "<matplotlib.axes._subplots.AxesSubplot at 0x7f74e07cd990>"
            ]
          },
          "metadata": {},
          "execution_count": 9
        },
        {
          "output_type": "display_data",
          "data": {
            "text/plain": [
              "<Figure size 1440x360 with 1 Axes>"
            ],
            "image/png": "[encoded data removed]"
          },
          "metadata": {
            "needs_background": "light"
          }
        }
      ]
    },
    {
      "cell_type": "code",
      "source": [
        "rolling_mean = df_city['burglarys city'].rolling(window = 12).mean()\n"
      ],
      "metadata": {
        "id": "cdYf2EHuiBx-"
      },
      "execution_count": null,
      "outputs": []
    },
    {
      "cell_type": "code",
      "source": [
        "#plt.plot(rolling_mean, color = 'red', label = 'Rolling Mean'')\n",
        "\n",
        "df_city['rolling_mean'] = rolling_mean\n",
        "\n",
        "df_city.head()\n"
      ],
      "metadata": {
        "colab": {
          "base_uri": "https://localhost:8080/",
          "height": 317
        },
        "id": "Gx8tf_tEl4Rp",
        "outputId": "5a176d67-fb8e-420d-9499-9dbd48436252"
      },
      "execution_count": null,
      "outputs": [
        {
          "output_type": "stream",
          "name": "stderr",
          "text": [
            "/usr/local/lib/python3.7/dist-packages/ipykernel_launcher.py:3: SettingWithCopyWarning: \n",
            "A value is trying to be set on a copy of a slice from a DataFrame.\n",
            "Try using .loc[row_indexer,col_indexer] = value instead\n",
            "\n",
            "See the caveats in the documentation: https://pandas.pydata.org/pandas-docs/stable/user_guide/indexing.html#returning-a-view-versus-a-copy\n",
            "  This is separate from the ipykernel package so we can avoid doing imports until\n"
          ]
        },
        {
          "output_type": "execute_result",
          "data": {
            "text/plain": [
              "      Longitude   Latitude  month  year  median house price  burglarys city  \\\n",
              "327   -1.506846  51.783793     12    10            315250.0            29.0   \n",
              "673   -1.550582  51.788562      1    11            375000.0            40.0   \n",
              "1020  -1.516103  51.826781      2    11            337500.0            27.0   \n",
              "1367  -1.495754  51.793400      3    11            385000.0            43.0   \n",
              "1714  -1.514900  51.790915      4    11            334500.0            32.0   \n",
              "\n",
              "      burglarys lsoa              city year month  rolling_mean  \n",
              "327              2.0  West Oxfordshire    2010-12           NaN  \n",
              "673              2.0  West Oxfordshire    2011-01           NaN  \n",
              "1020             1.0  West Oxfordshire    2011-02           NaN  \n",
              "1367             2.0  West Oxfordshire    2011-03           NaN  \n",
              "1714             1.5  West Oxfordshire    2011-04           NaN  "
            ],
            "text/html": [
              "\n",
              "  <div id=\"df-d25fd79d-d224-425e-b659-52a84d29bbdb\">\n",
              "    <div class=\"colab-df-container\">\n",
              "      <div>\n",
              "<style scoped>\n",
              "    .dataframe tbody tr th:only-of-type {\n",
              "        vertical-align: middle;\n",
              "    }\n",
              "\n",
              "    .dataframe tbody tr th {\n",
              "        vertical-align: top;\n",
              "    }\n",
              "\n",
              "    .dataframe thead th {\n",
              "        text-align: right;\n",
              "    }\n",
              "</style>\n",
              "<table border=\"1\" class=\"dataframe\">\n",
              "  <thead>\n",
              "    <tr style=\"text-align: right;\">\n",
              "      <th></th>\n",
              "      <th>Longitude</th>\n",
              "      <th>Latitude</th>\n",
              "      <th>month</th>\n",
              "      <th>year</th>\n",
              "      <th>median house price</th>\n",
              "      <th>burglarys city</th>\n",
              "      <th>burglarys lsoa</th>\n",
              "      <th>city</th>\n",
              "      <th>year month</th>\n",
              "      <th>rolling_mean</th>\n",
              "    </tr>\n",
              "  </thead>\n",
              "  <tbody>\n",
              "    <tr>\n",
              "      <th>327</th>\n",
              "      <td>-1.506846</td>\n",
              "      <td>51.783793</td>\n",
              "      <td>12</td>\n",
              "      <td>10</td>\n",
              "      <td>315250.0</td>\n",
              "      <td>29.0</td>\n",
              "      <td>2.0</td>\n",
              "      <td>West Oxfordshire</td>\n",
              "      <td>2010-12</td>\n",
              "      <td>NaN</td>\n",
              "    </tr>\n",
              "    <tr>\n",
              "      <th>673</th>\n",
              "      <td>-1.550582</td>\n",
              "      <td>51.788562</td>\n",
              "      <td>1</td>\n",
              "      <td>11</td>\n",
              "      <td>375000.0</td>\n",
              "      <td>40.0</td>\n",
              "      <td>2.0</td>\n",
              "      <td>West Oxfordshire</td>\n",
              "      <td>2011-01</td>\n",
              "      <td>NaN</td>\n",
              "    </tr>\n",
              "    <tr>\n",
              "      <th>1020</th>\n",
              "      <td>-1.516103</td>\n",
              "      <td>51.826781</td>\n",
              "      <td>2</td>\n",
              "      <td>11</td>\n",
              "      <td>337500.0</td>\n",
              "      <td>27.0</td>\n",
              "      <td>1.0</td>\n",
              "      <td>West Oxfordshire</td>\n",
              "      <td>2011-02</td>\n",
              "      <td>NaN</td>\n",
              "    </tr>\n",
              "    <tr>\n",
              "      <th>1367</th>\n",
              "      <td>-1.495754</td>\n",
              "      <td>51.793400</td>\n",
              "      <td>3</td>\n",
              "      <td>11</td>\n",
              "      <td>385000.0</td>\n",
              "      <td>43.0</td>\n",
              "      <td>2.0</td>\n",
              "      <td>West Oxfordshire</td>\n",
              "      <td>2011-03</td>\n",
              "      <td>NaN</td>\n",
              "    </tr>\n",
              "    <tr>\n",
              "      <th>1714</th>\n",
              "      <td>-1.514900</td>\n",
              "      <td>51.790915</td>\n",
              "      <td>4</td>\n",
              "      <td>11</td>\n",
              "      <td>334500.0</td>\n",
              "      <td>32.0</td>\n",
              "      <td>1.5</td>\n",
              "      <td>West Oxfordshire</td>\n",
              "      <td>2011-04</td>\n",
              "      <td>NaN</td>\n",
              "    </tr>\n",
              "  </tbody>\n",
              "</table>\n",
              "</div>\n",
              "      <button class=\"colab-df-convert\" onclick=\"convertToInteractive('df-d25fd79d-d224-425e-b659-52a84d29bbdb')\"\n",
              "              title=\"Convert this dataframe to an interactive table.\"\n",
              "              style=\"display:none;\">\n",
              "        \n",
              "  <svg xmlns=\"http://www.w3.org/2000/svg\" height=\"24px\"viewBox=\"0 0 24 24\"\n",
              "       width=\"24px\">\n",
              "    <path d=\"M0 0h24v24H0V0z\" fill=\"none\"/>\n",
              "    <path d=\"M18.56 5.44l.94 2.06.94-2.06 2.06-.94-2.06-.94-.94-2.06-.94 2.06-2.06.94zm-11 1L8.5 8.5l.94-2.06 2.06-.94-2.06-.94L8.5 2.5l-.94 2.06-2.06.94zm10 10l.94 2.06.94-2.06 2.06-.94-2.06-.94-.94-2.06-.94 2.06-2.06.94z\"/><path d=\"M17.41 7.96l-1.37-1.37c-.4-.4-.92-.59-1.43-.59-.52 0-1.04.2-1.43.59L10.3 9.45l-7.72 7.72c-.78.78-.78 2.05 0 2.83L4 21.41c.39.39.9.59 1.41.59.51 0 1.02-.2 1.41-.59l7.78-7.78 2.81-2.81c.8-.78.8-2.07 0-2.86zM5.41 20L4 18.59l7.72-7.72 1.47 1.35L5.41 20z\"/>\n",
              "  </svg>\n",
              "      </button>\n",
              "      \n",
              "  <style>\n",
              "    .colab-df-container {\n",
              "      display:flex;\n",
              "      flex-wrap:wrap;\n",
              "      gap: 12px;\n",
              "    }\n",
              "\n",
              "    .colab-df-convert {\n",
              "      background-color: #E8F0FE;\n",
              "      border: none;\n",
              "      border-radius: 50%;\n",
              "      cursor: pointer;\n",
              "      display: none;\n",
              "      fill: #1967D2;\n",
              "      height: 32px;\n",
              "      padding: 0 0 0 0;\n",
              "      width: 32px;\n",
              "    }\n",
              "\n",
              "    .colab-df-convert:hover {\n",
              "      background-color: #E2EBFA;\n",
              "      box-shadow: 0px 1px 2px rgba(60, 64, 67, 0.3), 0px 1px 3px 1px rgba(60, 64, 67, 0.15);\n",
              "      fill: #174EA6;\n",
              "    }\n",
              "\n",
              "    [theme=dark] .colab-df-convert {\n",
              "      background-color: #3B4455;\n",
              "      fill: #D2E3FC;\n",
              "    }\n",
              "\n",
              "    [theme=dark] .colab-df-convert:hover {\n",
              "      background-color: #434B5C;\n",
              "      box-shadow: 0px 1px 3px 1px rgba(0, 0, 0, 0.15);\n",
              "      filter: drop-shadow(0px 1px 2px rgba(0, 0, 0, 0.3));\n",
              "      fill: #FFFFFF;\n",
              "    }\n",
              "  </style>\n",
              "\n",
              "      <script>\n",
              "        const buttonEl =\n",
              "          document.querySelector('#df-d25fd79d-d224-425e-b659-52a84d29bbdb button.colab-df-convert');\n",
              "        buttonEl.style.display =\n",
              "          google.colab.kernel.accessAllowed ? 'block' : 'none';\n",
              "\n",
              "        async function convertToInteractive(key) {\n",
              "          const element = document.querySelector('#df-d25fd79d-d224-425e-b659-52a84d29bbdb');\n",
              "          const dataTable =\n",
              "            await google.colab.kernel.invokeFunction('convertToInteractive',\n",
              "                                                     [key], {});\n",
              "          if (!dataTable) return;\n",
              "\n",
              "          const docLinkHtml = 'Like what you see? Visit the ' +\n",
              "            '<a target=\"_blank\" href=https://colab.research.google.com/notebooks/data_table.ipynb>data table notebook</a>'\n",
              "            + ' to learn more about interactive tables.';\n",
              "          element.innerHTML = '';\n",
              "          dataTable['output_type'] = 'display_data';\n",
              "          await google.colab.output.renderOutput(dataTable, element);\n",
              "          const docLink = document.createElement('div');\n",
              "          docLink.innerHTML = docLinkHtml;\n",
              "          element.appendChild(docLink);\n",
              "        }\n",
              "      </script>\n",
              "    </div>\n",
              "  </div>\n",
              "  "
            ]
          },
          "metadata": {},
          "execution_count": 11
        }
      ]
    },
    {
      "cell_type": "code",
      "source": [
        "df_city.plot(x='year month', y='rolling_mean', figsize=(20,5))"
      ],
      "metadata": {
        "colab": {
          "base_uri": "https://localhost:8080/",
          "height": 353
        },
        "id": "HhESjlb6GEgX",
        "outputId": "ee070e7a-82f9-4f58-e442-81e019566baf"
      },
      "execution_count": null,
      "outputs": [
        {
          "output_type": "execute_result",
          "data": {
            "text/plain": [
              "<matplotlib.axes._subplots.AxesSubplot at 0x7f74e0757c50>"
            ]
          },
          "metadata": {},
          "execution_count": 12
        },
        {
          "output_type": "display_data",
          "data": {
            "text/plain": [
              "<Figure size 1440x360 with 1 Axes>"
            ],
            "image/png": "[encoded data removed]"
          },
          "metadata": {
            "needs_background": "light"
          }
        }
      ]
    },
    {
      "cell_type": "code",
      "source": [
        "# Reset index to stop expected value error\n",
        "df_city_index_reset = df_city.reset_index(drop = True)\n",
        "\n",
        "#Sort it on year/month to perform ARIMA \n",
        "df_city_sorted = df_city_index_reset.set_index(df_city_index_reset['year month'])\n",
        "df_city_sorted\n",
        "\n",
        "#Create test partition\n",
        "df_city_train = df_city_sorted['2010-12':'2017-12']\n",
        "df_city_test  = df_city_sorted['2018-01':'2019-12']\n",
        "print('Train Dataset:',df_city_train.shape)\n",
        "print('Test Dataset:',df_city_test.shape)"
      ],
      "metadata": {
        "colab": {
          "base_uri": "https://localhost:8080/"
        },
        "id": "ph23OzMWxgOV",
        "outputId": "ea2683db-386f-4f7f-f456-7406ed27c0e1"
      },
      "execution_count": null,
      "outputs": [
        {
          "output_type": "stream",
          "name": "stdout",
          "text": [
            "Train Dataset: (85, 10)\n",
            "Test Dataset: (24, 10)\n"
          ]
        }
      ]
    },
    {
      "cell_type": "code",
      "source": [
        "# df_city_train = df_city_train[['year month', 'burglarys city']]\n",
        "# df_city_test = df_city_test[['year month', 'burglarys city']]"
      ],
      "metadata": {
        "id": "UIkXu0v1y5iE"
      },
      "execution_count": null,
      "outputs": []
    },
    {
      "cell_type": "code",
      "source": [
        "df_city_train['Longitude']"
      ],
      "metadata": {
        "colab": {
          "base_uri": "https://localhost:8080/"
        },
        "id": "6AiRt8S34npN",
        "outputId": "4b69eab4-26dd-425b-ce19-319e7028dbbb"
      },
      "execution_count": null,
      "outputs": [
        {
          "output_type": "execute_result",
          "data": {
            "text/plain": [
              "year month\n",
              "2010-12   -1.506846\n",
              "2011-01   -1.550582\n",
              "2011-02   -1.516103\n",
              "2011-03   -1.495754\n",
              "2011-04   -1.514900\n",
              "             ...   \n",
              "2017-08   -1.544070\n",
              "2017-09   -1.531649\n",
              "2017-10   -1.551669\n",
              "2017-11   -1.546215\n",
              "2017-12   -1.485403\n",
              "Name: Longitude, Length: 85, dtype: float64"
            ]
          },
          "metadata": {},
          "execution_count": 15
        }
      ]
    },
    {
      "cell_type": "markdown",
      "source": [
        "# Code below not working yet"
      ],
      "metadata": {
        "id": "Hz7I7e5zBjQB"
      }
    },
    {
      "cell_type": "code",
      "source": [
        "# #Import MSE module\n",
        "# from sklearn.metrics import mean_squared_error\n",
        "# from math import sqrt\n",
        "\n",
        "# #Create a history list and prediction list used for the ARIMA function\n",
        "# history = [x for x in df_city_train]\n",
        "# predictions = list()\n",
        "\n",
        "# #Create the ARIMA for-loop\n",
        "# for t in range(len(df_city_test)):\n",
        "# \tmodel = ARIMA(history, order=(4,1,0))\n",
        "# \tmodel_fit = model.fit()\n",
        "# \toutput = model_fit.forecast()\n",
        "# \tyhat = output[0]\n",
        "# \tpredictions.append(yhat)\n",
        "# \tobs = df_city_test[t]\n",
        "# \thistory.append(obs)\n",
        "# \tprint('predicted=%f, expected=%f' % (yhat, obs))\n",
        "# # evaluate forecasts\n",
        "# rmse = sqrt(mean_squared_error(df_city_test, predictions))\n",
        "# print('Test RMSE: %.3f' % rmse)\n",
        "# # plot forecasts against actual outcomes\n",
        "# pyplot.plot(test)\n",
        "# pyplot.plot(predictions, color='red')\n",
        "# pyplot.show()"
      ],
      "metadata": {
        "id": "AfyXuKeIzBEH"
      },
      "execution_count": null,
      "outputs": []
    },
    {
      "cell_type": "markdown",
      "source": [
        "## Attempt 2"
      ],
      "metadata": {
        "id": "UUZ3lookBytr"
      }
    },
    {
      "cell_type": "code",
      "source": [
        "pip install pmdarima"
      ],
      "metadata": {
        "colab": {
          "base_uri": "https://localhost:8080/",
          "height": 610
        },
        "id": "tJLlekCBB4XP",
        "outputId": "a9fce8ed-9e3d-432d-9435-af624665987c"
      },
      "execution_count": null,
      "outputs": [
        {
          "output_type": "stream",
          "name": "stdout",
          "text": [
            "Collecting pmdarima\n",
            "  Downloading pmdarima-1.8.5-cp37-cp37m-manylinux_2_17_x86_64.manylinux2014_x86_64.manylinux_2_24_x86_64.whl (1.4 MB)\n",
            "\u001b[?25l\r\u001b[K     |▎                               | 10 kB 19.3 MB/s eta 0:00:01\r\u001b[K     |▌                               | 20 kB 24.9 MB/s eta 0:00:01\r\u001b[K     |▊                               | 30 kB 30.3 MB/s eta 0:00:01\r\u001b[K     |█                               | 40 kB 24.6 MB/s eta 0:00:01\r\u001b[K     |█▏                              | 51 kB 18.0 MB/s eta 0:00:01\r\u001b[K     |█▍                              | 61 kB 20.3 MB/s eta 0:00:01\r\u001b[K     |█▋                              | 71 kB 22.0 MB/s eta 0:00:01\r\u001b[K     |██                              | 81 kB 23.6 MB/s eta 0:00:01\r\u001b[K     |██▏                             | 92 kB 25.6 MB/s eta 0:00:01\r\u001b[K     |██▍                             | 102 kB 24.9 MB/s eta 0:00:01\r\u001b[K     |██▋                             | 112 kB 24.9 MB/s eta 0:00:01\r\u001b[K     |██▉                             | 122 kB 24.9 MB/s eta 0:00:01\r\u001b[K     |███                             | 133 kB 24.9 MB/s eta 0:00:01\r\u001b[K     |███▎                            | 143 kB 24.9 MB/s eta 0:00:01\r\u001b[K     |███▌                            | 153 kB 24.9 MB/s eta 0:00:01\r\u001b[K     |███▉                            | 163 kB 24.9 MB/s eta 0:00:01\r\u001b[K     |████                            | 174 kB 24.9 MB/s eta 0:00:01\r\u001b[K     |████▎                           | 184 kB 24.9 MB/s eta 0:00:01\r\u001b[K     |████▌                           | 194 kB 24.9 MB/s eta 0:00:01\r\u001b[K     |████▊                           | 204 kB 24.9 MB/s eta 0:00:01\r\u001b[K     |█████                           | 215 kB 24.9 MB/s eta 0:00:01\r\u001b[K     |█████▏                          | 225 kB 24.9 MB/s eta 0:00:01\r\u001b[K     |█████▍                          | 235 kB 24.9 MB/s eta 0:00:01\r\u001b[K     |█████▊                          | 245 kB 24.9 MB/s eta 0:00:01\r\u001b[K     |██████                          | 256 kB 24.9 MB/s eta 0:00:01\r\u001b[K     |██████▏                         | 266 kB 24.9 MB/s eta 0:00:01\r\u001b[K     |██████▍                         | 276 kB 24.9 MB/s eta 0:00:01\r\u001b[K     |██████▋                         | 286 kB 24.9 MB/s eta 0:00:01\r\u001b[K     |██████▉                         | 296 kB 24.9 MB/s eta 0:00:01\r\u001b[K     |███████                         | 307 kB 24.9 MB/s eta 0:00:01\r\u001b[K     |███████▎                        | 317 kB 24.9 MB/s eta 0:00:01\r\u001b[K     |███████▋                        | 327 kB 24.9 MB/s eta 0:00:01\r\u001b[K     |███████▉                        | 337 kB 24.9 MB/s eta 0:00:01\r\u001b[K     |████████                        | 348 kB 24.9 MB/s eta 0:00:01\r\u001b[K     |████████▎                       | 358 kB 24.9 MB/s eta 0:00:01\r\u001b[K     |████████▌                       | 368 kB 24.9 MB/s eta 0:00:01\r\u001b[K     |████████▊                       | 378 kB 24.9 MB/s eta 0:00:01\r\u001b[K     |█████████                       | 389 kB 24.9 MB/s eta 0:00:01\r\u001b[K     |█████████▎                      | 399 kB 24.9 MB/s eta 0:00:01\r\u001b[K     |█████████▌                      | 409 kB 24.9 MB/s eta 0:00:01\r\u001b[K     |█████████▊                      | 419 kB 24.9 MB/s eta 0:00:01\r\u001b[K     |██████████                      | 430 kB 24.9 MB/s eta 0:00:01\r\u001b[K     |██████████▏                     | 440 kB 24.9 MB/s eta 0:00:01\r\u001b[K     |██████████▍                     | 450 kB 24.9 MB/s eta 0:00:01\r\u001b[K     |██████████▋                     | 460 kB 24.9 MB/s eta 0:00:01\r\u001b[K     |██████████▉                     | 471 kB 24.9 MB/s eta 0:00:01\r\u001b[K     |███████████▏                    | 481 kB 24.9 MB/s eta 0:00:01\r\u001b[K     |███████████▍                    | 491 kB 24.9 MB/s eta 0:00:01\r\u001b[K     |███████████▋                    | 501 kB 24.9 MB/s eta 0:00:01\r\u001b[K     |███████████▉                    | 512 kB 24.9 MB/s eta 0:00:01\r\u001b[K     |████████████                    | 522 kB 24.9 MB/s eta 0:00:01\r\u001b[K     |████████████▎                   | 532 kB 24.9 MB/s eta 0:00:01\r\u001b[K     |████████████▌                   | 542 kB 24.9 MB/s eta 0:00:01\r\u001b[K     |████████████▊                   | 552 kB 24.9 MB/s eta 0:00:01\r\u001b[K     |█████████████                   | 563 kB 24.9 MB/s eta 0:00:01\r\u001b[K     |█████████████▎                  | 573 kB 24.9 MB/s eta 0:00:01\r\u001b[K     |█████████████▌                  | 583 kB 24.9 MB/s eta 0:00:01\r\u001b[K     |█████████████▊                  | 593 kB 24.9 MB/s eta 0:00:01\r\u001b[K     |██████████████                  | 604 kB 24.9 MB/s eta 0:00:01\r\u001b[K     |██████████████▏                 | 614 kB 24.9 MB/s eta 0:00:01\r\u001b[K     |██████████████▍                 | 624 kB 24.9 MB/s eta 0:00:01\r\u001b[K     |██████████████▋                 | 634 kB 24.9 MB/s eta 0:00:01\r\u001b[K     |███████████████                 | 645 kB 24.9 MB/s eta 0:00:01\r\u001b[K     |███████████████▏                | 655 kB 24.9 MB/s eta 0:00:01\r\u001b[K     |███████████████▍                | 665 kB 24.9 MB/s eta 0:00:01\r\u001b[K     |███████████████▋                | 675 kB 24.9 MB/s eta 0:00:01\r\u001b[K     |███████████████▉                | 686 kB 24.9 MB/s eta 0:00:01\r\u001b[K     |████████████████                | 696 kB 24.9 MB/s eta 0:00:01\r\u001b[K     |████████████████▎               | 706 kB 24.9 MB/s eta 0:00:01\r\u001b[K     |████████████████▋               | 716 kB 24.9 MB/s eta 0:00:01\r\u001b[K     |████████████████▉               | 727 kB 24.9 MB/s eta 0:00:01\r\u001b[K     |█████████████████               | 737 kB 24.9 MB/s eta 0:00:01\r\u001b[K     |█████████████████▎              | 747 kB 24.9 MB/s eta 0:00:01\r\u001b[K     |█████████████████▌              | 757 kB 24.9 MB/s eta 0:00:01\r\u001b[K     |█████████████████▊              | 768 kB 24.9 MB/s eta 0:00:01\r\u001b[K     |██████████████████              | 778 kB 24.9 MB/s eta 0:00:01\r\u001b[K     |██████████████████▏             | 788 kB 24.9 MB/s eta 0:00:01\r\u001b[K     |██████████████████▌             | 798 kB 24.9 MB/s eta 0:00:01\r\u001b[K     |██████████████████▊             | 808 kB 24.9 MB/s eta 0:00:01\r\u001b[K     |███████████████████             | 819 kB 24.9 MB/s eta 0:00:01\r\u001b[K     |███████████████████▏            | 829 kB 24.9 MB/s eta 0:00:01\r\u001b[K     |███████████████████▍            | 839 kB 24.9 MB/s eta 0:00:01\r\u001b[K     |███████████████████▋            | 849 kB 24.9 MB/s eta 0:00:01\r\u001b[K     |███████████████████▉            | 860 kB 24.9 MB/s eta 0:00:01\r\u001b[K     |████████████████████            | 870 kB 24.9 MB/s eta 0:00:01\r\u001b[K     |████████████████████▍           | 880 kB 24.9 MB/s eta 0:00:01\r\u001b[K     |████████████████████▋           | 890 kB 24.9 MB/s eta 0:00:01\r\u001b[K     |████████████████████▉           | 901 kB 24.9 MB/s eta 0:00:01\r\u001b[K     |█████████████████████           | 911 kB 24.9 MB/s eta 0:00:01\r\u001b[K     |█████████████████████▎          | 921 kB 24.9 MB/s eta 0:00:01\r\u001b[K     |█████████████████████▌          | 931 kB 24.9 MB/s eta 0:00:01\r\u001b[K     |█████████████████████▊          | 942 kB 24.9 MB/s eta 0:00:01\r\u001b[K     |██████████████████████          | 952 kB 24.9 MB/s eta 0:00:01\r\u001b[K     |██████████████████████▎         | 962 kB 24.9 MB/s eta 0:00:01\r\u001b[K     |██████████████████████▌         | 972 kB 24.9 MB/s eta 0:00:01\r\u001b[K     |██████████████████████▊         | 983 kB 24.9 MB/s eta 0:00:01\r\u001b[K     |███████████████████████         | 993 kB 24.9 MB/s eta 0:00:01\r\u001b[K     |███████████████████████▏        | 1.0 MB 24.9 MB/s eta 0:00:01\r\u001b[K     |███████████████████████▍        | 1.0 MB 24.9 MB/s eta 0:00:01\r\u001b[K     |███████████████████████▋        | 1.0 MB 24.9 MB/s eta 0:00:01\r\u001b[K     |████████████████████████        | 1.0 MB 24.9 MB/s eta 0:00:01\r\u001b[K     |████████████████████████▏       | 1.0 MB 24.9 MB/s eta 0:00:01\r\u001b[K     |████████████████████████▍       | 1.1 MB 24.9 MB/s eta 0:00:01\r\u001b[K     |████████████████████████▋       | 1.1 MB 24.9 MB/s eta 0:00:01\r\u001b[K     |████████████████████████▉       | 1.1 MB 24.9 MB/s eta 0:00:01\r\u001b[K     |█████████████████████████       | 1.1 MB 24.9 MB/s eta 0:00:01\r\u001b[K     |█████████████████████████▎      | 1.1 MB 24.9 MB/s eta 0:00:01\r\u001b[K     |█████████████████████████▌      | 1.1 MB 24.9 MB/s eta 0:00:01\r\u001b[K     |█████████████████████████▉      | 1.1 MB 24.9 MB/s eta 0:00:01\r\u001b[K     |██████████████████████████      | 1.1 MB 24.9 MB/s eta 0:00:01\r\u001b[K     |██████████████████████████▎     | 1.1 MB 24.9 MB/s eta 0:00:01\r\u001b[K     |██████████████████████████▌     | 1.1 MB 24.9 MB/s eta 0:00:01\r\u001b[K     |██████████████████████████▊     | 1.2 MB 24.9 MB/s eta 0:00:01\r\u001b[K     |███████████████████████████     | 1.2 MB 24.9 MB/s eta 0:00:01\r\u001b[K     |███████████████████████████▏    | 1.2 MB 24.9 MB/s eta 0:00:01\r\u001b[K     |███████████████████████████▍    | 1.2 MB 24.9 MB/s eta 0:00:01\r\u001b[K     |███████████████████████████▊    | 1.2 MB 24.9 MB/s eta 0:00:01\r\u001b[K     |████████████████████████████    | 1.2 MB 24.9 MB/s eta 0:00:01\r\u001b[K     |████████████████████████████▏   | 1.2 MB 24.9 MB/s eta 0:00:01\r\u001b[K     |████████████████████████████▍   | 1.2 MB 24.9 MB/s eta 0:00:01\r\u001b[K     |████████████████████████████▋   | 1.2 MB 24.9 MB/s eta 0:00:01\r\u001b[K     |████████████████████████████▉   | 1.2 MB 24.9 MB/s eta 0:00:01\r\u001b[K     |█████████████████████████████   | 1.3 MB 24.9 MB/s eta 0:00:01\r\u001b[K     |█████████████████████████████▎  | 1.3 MB 24.9 MB/s eta 0:00:01\r\u001b[K     |█████████████████████████████▋  | 1.3 MB 24.9 MB/s eta 0:00:01\r\u001b[K     |█████████████████████████████▉  | 1.3 MB 24.9 MB/s eta 0:00:01\r\u001b[K     |██████████████████████████████  | 1.3 MB 24.9 MB/s eta 0:00:01\r\u001b[K     |██████████████████████████████▎ | 1.3 MB 24.9 MB/s eta 0:00:01\r\u001b[K     |██████████████████████████████▌ | 1.3 MB 24.9 MB/s eta 0:00:01\r\u001b[K     |██████████████████████████████▊ | 1.3 MB 24.9 MB/s eta 0:00:01\r\u001b[K     |███████████████████████████████ | 1.3 MB 24.9 MB/s eta 0:00:01\r\u001b[K     |███████████████████████████████▎| 1.4 MB 24.9 MB/s eta 0:00:01\r\u001b[K     |███████████████████████████████▌| 1.4 MB 24.9 MB/s eta 0:00:01\r\u001b[K     |███████████████████████████████▊| 1.4 MB 24.9 MB/s eta 0:00:01\r\u001b[K     |████████████████████████████████| 1.4 MB 24.9 MB/s eta 0:00:01\r\u001b[K     |████████████████████████████████| 1.4 MB 24.9 MB/s \n",
            "\u001b[?25hRequirement already satisfied: scipy>=1.3.2 in /usr/local/lib/python3.7/dist-packages (from pmdarima) (1.4.1)\n",
            "Requirement already satisfied: Cython!=0.29.18,>=0.29 in /usr/local/lib/python3.7/dist-packages (from pmdarima) (0.29.28)\n",
            "Requirement already satisfied: urllib3 in /usr/local/lib/python3.7/dist-packages (from pmdarima) (1.24.3)\n",
            "Requirement already satisfied: pandas>=0.19 in /usr/local/lib/python3.7/dist-packages (from pmdarima) (1.3.5)\n",
            "Requirement already satisfied: numpy>=1.19.3 in /usr/local/lib/python3.7/dist-packages (from pmdarima) (1.21.5)\n",
            "Requirement already satisfied: setuptools!=50.0.0,>=38.6.0 in /usr/local/lib/python3.7/dist-packages (from pmdarima) (57.4.0)\n",
            "Requirement already satisfied: scikit-learn>=0.22 in /usr/local/lib/python3.7/dist-packages (from pmdarima) (1.0.2)\n",
            "Requirement already satisfied: joblib>=0.11 in /usr/local/lib/python3.7/dist-packages (from pmdarima) (1.1.0)\n",
            "Collecting statsmodels!=0.12.0,>=0.11\n",
            "  Downloading statsmodels-0.13.2-cp37-cp37m-manylinux_2_17_x86_64.manylinux2014_x86_64.whl (9.8 MB)\n",
            "\u001b[K     |████████████████████████████████| 9.8 MB 56.5 MB/s \n",
            "\u001b[?25hRequirement already satisfied: python-dateutil>=2.7.3 in /usr/local/lib/python3.7/dist-packages (from pandas>=0.19->pmdarima) (2.8.2)\n",
            "Requirement already satisfied: pytz>=2017.3 in /usr/local/lib/python3.7/dist-packages (from pandas>=0.19->pmdarima) (2018.9)\n",
            "Requirement already satisfied: six>=1.5 in /usr/local/lib/python3.7/dist-packages (from python-dateutil>=2.7.3->pandas>=0.19->pmdarima) (1.15.0)\n",
            "Requirement already satisfied: threadpoolctl>=2.0.0 in /usr/local/lib/python3.7/dist-packages (from scikit-learn>=0.22->pmdarima) (3.1.0)\n",
            "Requirement already satisfied: packaging>=21.3 in /usr/local/lib/python3.7/dist-packages (from statsmodels!=0.12.0,>=0.11->pmdarima) (21.3)\n",
            "Requirement already satisfied: patsy>=0.5.2 in /usr/local/lib/python3.7/dist-packages (from statsmodels!=0.12.0,>=0.11->pmdarima) (0.5.2)\n",
            "Requirement already satisfied: pyparsing!=3.0.5,>=2.0.2 in /usr/local/lib/python3.7/dist-packages (from packaging>=21.3->statsmodels!=0.12.0,>=0.11->pmdarima) (3.0.7)\n",
            "Installing collected packages: statsmodels, pmdarima\n",
            "  Attempting uninstall: statsmodels\n",
            "    Found existing installation: statsmodels 0.10.2\n",
            "    Uninstalling statsmodels-0.10.2:\n",
            "      Successfully uninstalled statsmodels-0.10.2\n",
            "Successfully installed pmdarima-1.8.5 statsmodels-0.13.2\n"
          ]
        },
        {
          "output_type": "display_data",
          "data": {
            "application/vnd.colab-display-data+json": {
              "pip_warning": {
                "packages": [
                  "statsmodels"
                ]
              }
            }
          },
          "metadata": {}
        }
      ]
    },
    {
      "cell_type": "code",
      "source": [
        "print('shape of data:', df_city_sorted.shape)\n",
        "df_city_sorted.head()"
      ],
      "metadata": {
        "colab": {
          "base_uri": "https://localhost:8080/",
          "height": 256
        },
        "id": "g6ldG_tmCDjP",
        "outputId": "a41840ab-4086-4033-a7f1-4e490c6f4051"
      },
      "execution_count": null,
      "outputs": [
        {
          "output_type": "stream",
          "name": "stdout",
          "text": [
            "shape of data: (131, 10)\n"
          ]
        },
        {
          "output_type": "execute_result",
          "data": {
            "text/plain": [
              "            Longitude   Latitude  month  year  median house price  \\\n",
              "year month                                                          \n",
              "2010-12     -1.506846  51.783793     12    10            315250.0   \n",
              "2011-01     -1.550582  51.788562      1    11            375000.0   \n",
              "2011-02     -1.516103  51.826781      2    11            337500.0   \n",
              "2011-03     -1.495754  51.793400      3    11            385000.0   \n",
              "2011-04     -1.514900  51.790915      4    11            334500.0   \n",
              "\n",
              "            burglarys city  burglarys lsoa              city year month  \\\n",
              "year month                                                                \n",
              "2010-12               29.0             2.0  West Oxfordshire    2010-12   \n",
              "2011-01               40.0             2.0  West Oxfordshire    2011-01   \n",
              "2011-02               27.0             1.0  West Oxfordshire    2011-02   \n",
              "2011-03               43.0             2.0  West Oxfordshire    2011-03   \n",
              "2011-04               32.0             1.5  West Oxfordshire    2011-04   \n",
              "\n",
              "            rolling_mean  \n",
              "year month                \n",
              "2010-12              NaN  \n",
              "2011-01              NaN  \n",
              "2011-02              NaN  \n",
              "2011-03              NaN  \n",
              "2011-04              NaN  "
            ],
            "text/html": [
              "\n",
              "  <div id=\"df-8e3f903f-b020-43ca-b729-8f7ec234faf6\">\n",
              "    <div class=\"colab-df-container\">\n",
              "      <div>\n",
              "<style scoped>\n",
              "    .dataframe tbody tr th:only-of-type {\n",
              "        vertical-align: middle;\n",
              "    }\n",
              "\n",
              "    .dataframe tbody tr th {\n",
              "        vertical-align: top;\n",
              "    }\n",
              "\n",
              "    .dataframe thead th {\n",
              "        text-align: right;\n",
              "    }\n",
              "</style>\n",
              "<table border=\"1\" class=\"dataframe\">\n",
              "  <thead>\n",
              "    <tr style=\"text-align: right;\">\n",
              "      <th></th>\n",
              "      <th>Longitude</th>\n",
              "      <th>Latitude</th>\n",
              "      <th>month</th>\n",
              "      <th>year</th>\n",
              "      <th>median house price</th>\n",
              "      <th>burglarys city</th>\n",
              "      <th>burglarys lsoa</th>\n",
              "      <th>city</th>\n",
              "      <th>year month</th>\n",
              "      <th>rolling_mean</th>\n",
              "    </tr>\n",
              "    <tr>\n",
              "      <th>year month</th>\n",
              "      <th></th>\n",
              "      <th></th>\n",
              "      <th></th>\n",
              "      <th></th>\n",
              "      <th></th>\n",
              "      <th></th>\n",
              "      <th></th>\n",
              "      <th></th>\n",
              "      <th></th>\n",
              "      <th></th>\n",
              "    </tr>\n",
              "  </thead>\n",
              "  <tbody>\n",
              "    <tr>\n",
              "      <th>2010-12</th>\n",
              "      <td>-1.506846</td>\n",
              "      <td>51.783793</td>\n",
              "      <td>12</td>\n",
              "      <td>10</td>\n",
              "      <td>315250.0</td>\n",
              "      <td>29.0</td>\n",
              "      <td>2.0</td>\n",
              "      <td>West Oxfordshire</td>\n",
              "      <td>2010-12</td>\n",
              "      <td>NaN</td>\n",
              "    </tr>\n",
              "    <tr>\n",
              "      <th>2011-01</th>\n",
              "      <td>-1.550582</td>\n",
              "      <td>51.788562</td>\n",
              "      <td>1</td>\n",
              "      <td>11</td>\n",
              "      <td>375000.0</td>\n",
              "      <td>40.0</td>\n",
              "      <td>2.0</td>\n",
              "      <td>West Oxfordshire</td>\n",
              "      <td>2011-01</td>\n",
              "      <td>NaN</td>\n",
              "    </tr>\n",
              "    <tr>\n",
              "      <th>2011-02</th>\n",
              "      <td>-1.516103</td>\n",
              "      <td>51.826781</td>\n",
              "      <td>2</td>\n",
              "      <td>11</td>\n",
              "      <td>337500.0</td>\n",
              "      <td>27.0</td>\n",
              "      <td>1.0</td>\n",
              "      <td>West Oxfordshire</td>\n",
              "      <td>2011-02</td>\n",
              "      <td>NaN</td>\n",
              "    </tr>\n",
              "    <tr>\n",
              "      <th>2011-03</th>\n",
              "      <td>-1.495754</td>\n",
              "      <td>51.793400</td>\n",
              "      <td>3</td>\n",
              "      <td>11</td>\n",
              "      <td>385000.0</td>\n",
              "      <td>43.0</td>\n",
              "      <td>2.0</td>\n",
              "      <td>West Oxfordshire</td>\n",
              "      <td>2011-03</td>\n",
              "      <td>NaN</td>\n",
              "    </tr>\n",
              "    <tr>\n",
              "      <th>2011-04</th>\n",
              "      <td>-1.514900</td>\n",
              "      <td>51.790915</td>\n",
              "      <td>4</td>\n",
              "      <td>11</td>\n",
              "      <td>334500.0</td>\n",
              "      <td>32.0</td>\n",
              "      <td>1.5</td>\n",
              "      <td>West Oxfordshire</td>\n",
              "      <td>2011-04</td>\n",
              "      <td>NaN</td>\n",
              "    </tr>\n",
              "  </tbody>\n",
              "</table>\n",
              "</div>\n",
              "      <button class=\"colab-df-convert\" onclick=\"convertToInteractive('df-8e3f903f-b020-43ca-b729-8f7ec234faf6')\"\n",
              "              title=\"Convert this dataframe to an interactive table.\"\n",
              "              style=\"display:none;\">\n",
              "        \n",
              "  <svg xmlns=\"http://www.w3.org/2000/svg\" height=\"24px\"viewBox=\"0 0 24 24\"\n",
              "       width=\"24px\">\n",
              "    <path d=\"M0 0h24v24H0V0z\" fill=\"none\"/>\n",
              "    <path d=\"M18.56 5.44l.94 2.06.94-2.06 2.06-.94-2.06-.94-.94-2.06-.94 2.06-2.06.94zm-11 1L8.5 8.5l.94-2.06 2.06-.94-2.06-.94L8.5 2.5l-.94 2.06-2.06.94zm10 10l.94 2.06.94-2.06 2.06-.94-2.06-.94-.94-2.06-.94 2.06-2.06.94z\"/><path d=\"M17.41 7.96l-1.37-1.37c-.4-.4-.92-.59-1.43-.59-.52 0-1.04.2-1.43.59L10.3 9.45l-7.72 7.72c-.78.78-.78 2.05 0 2.83L4 21.41c.39.39.9.59 1.41.59.51 0 1.02-.2 1.41-.59l7.78-7.78 2.81-2.81c.8-.78.8-2.07 0-2.86zM5.41 20L4 18.59l7.72-7.72 1.47 1.35L5.41 20z\"/>\n",
              "  </svg>\n",
              "      </button>\n",
              "      \n",
              "  <style>\n",
              "    .colab-df-container {\n",
              "      display:flex;\n",
              "      flex-wrap:wrap;\n",
              "      gap: 12px;\n",
              "    }\n",
              "\n",
              "    .colab-df-convert {\n",
              "      background-color: #E8F0FE;\n",
              "      border: none;\n",
              "      border-radius: 50%;\n",
              "      cursor: pointer;\n",
              "      display: none;\n",
              "      fill: #1967D2;\n",
              "      height: 32px;\n",
              "      padding: 0 0 0 0;\n",
              "      width: 32px;\n",
              "    }\n",
              "\n",
              "    .colab-df-convert:hover {\n",
              "      background-color: #E2EBFA;\n",
              "      box-shadow: 0px 1px 2px rgba(60, 64, 67, 0.3), 0px 1px 3px 1px rgba(60, 64, 67, 0.15);\n",
              "      fill: #174EA6;\n",
              "    }\n",
              "\n",
              "    [theme=dark] .colab-df-convert {\n",
              "      background-color: #3B4455;\n",
              "      fill: #D2E3FC;\n",
              "    }\n",
              "\n",
              "    [theme=dark] .colab-df-convert:hover {\n",
              "      background-color: #434B5C;\n",
              "      box-shadow: 0px 1px 3px 1px rgba(0, 0, 0, 0.15);\n",
              "      filter: drop-shadow(0px 1px 2px rgba(0, 0, 0, 0.3));\n",
              "      fill: #FFFFFF;\n",
              "    }\n",
              "  </style>\n",
              "\n",
              "      <script>\n",
              "        const buttonEl =\n",
              "          document.querySelector('#df-8e3f903f-b020-43ca-b729-8f7ec234faf6 button.colab-df-convert');\n",
              "        buttonEl.style.display =\n",
              "          google.colab.kernel.accessAllowed ? 'block' : 'none';\n",
              "\n",
              "        async function convertToInteractive(key) {\n",
              "          const element = document.querySelector('#df-8e3f903f-b020-43ca-b729-8f7ec234faf6');\n",
              "          const dataTable =\n",
              "            await google.colab.kernel.invokeFunction('convertToInteractive',\n",
              "                                                     [key], {});\n",
              "          if (!dataTable) return;\n",
              "\n",
              "          const docLinkHtml = 'Like what you see? Visit the ' +\n",
              "            '<a target=\"_blank\" href=https://colab.research.google.com/notebooks/data_table.ipynb>data table notebook</a>'\n",
              "            + ' to learn more about interactive tables.';\n",
              "          element.innerHTML = '';\n",
              "          dataTable['output_type'] = 'display_data';\n",
              "          await google.colab.output.renderOutput(dataTable, element);\n",
              "          const docLink = document.createElement('div');\n",
              "          docLink.innerHTML = docLinkHtml;\n",
              "          element.appendChild(docLink);\n",
              "        }\n",
              "      </script>\n",
              "    </div>\n",
              "  </div>\n",
              "  "
            ]
          },
          "metadata": {},
          "execution_count": 18
        }
      ]
    },
    {
      "cell_type": "code",
      "source": [
        "df_city_sorted.index"
      ],
      "metadata": {
        "colab": {
          "base_uri": "https://localhost:8080/"
        },
        "id": "ZjbF48fDCP-A",
        "outputId": "c003736f-08b1-427c-9c9f-cddc34be2772"
      },
      "execution_count": null,
      "outputs": [
        {
          "output_type": "execute_result",
          "data": {
            "text/plain": [
              "Index(['2010-12', '2011-01', '2011-02', '2011-03', '2011-04', '2011-05',\n",
              "       '2011-06', '2011-07', '2011-08', '2011-09',\n",
              "       ...\n",
              "       '2021-01', '2021-02', '2021-03', '2021-04', '2021-05', '2021-06',\n",
              "       '2021-07', '2021-08', '2021-09', '2021-10'],\n",
              "      dtype='object', name='year month', length=131)"
            ]
          },
          "metadata": {},
          "execution_count": 19
        }
      ]
    },
    {
      "cell_type": "markdown",
      "source": [
        "# Stationarity check\n",
        "\n",
        "\n"
      ],
      "metadata": {
        "id": "xtoskw3eF-ul"
      }
    },
    {
      "cell_type": "code",
      "source": [
        "from statsmodels.tsa.stattools import adfuller"
      ],
      "metadata": {
        "id": "ajh5ExpJF31s"
      },
      "execution_count": null,
      "outputs": []
    },
    {
      "cell_type": "code",
      "source": [
        "def ad_test(dataset):\n",
        "  dftest = adfuller(dataset, autolag = 'AIC')\n",
        "  print('1. ADF: ',dftest[0])\n",
        "  print('2. P-value: ',dftest[1])\n",
        "  print('3. Num of Lags: ',dftest[2])\n",
        "  print('4. Num of observations for ADF REgressiom and Critical Values Calculation :',dftest[3])\n",
        "  print('5. Critical values: ')\n",
        "  for key, val in dftest[4].items():\n",
        "    print('\\t',key,':', val)"
      ],
      "metadata": {
        "id": "yf9GAxDSF8zT"
      },
      "execution_count": null,
      "outputs": []
    },
    {
      "cell_type": "code",
      "source": [
        "ad_test(df_city_sorted['burglarys city'])"
      ],
      "metadata": {
        "colab": {
          "base_uri": "https://localhost:8080/"
        },
        "id": "6S0BvxeRYeAv",
        "outputId": "a2b77f16-3d60-43cf-ed2e-e8c78d1a49fd"
      },
      "execution_count": null,
      "outputs": [
        {
          "output_type": "stream",
          "name": "stdout",
          "text": [
            "1. ADF:  -3.5215489742641117\n",
            "2. P-value:  0.007450613437173693\n",
            "3. Num of Lags:  2\n",
            "4. Num of observations for ADF REgressiom and Critical Values Calculation : 128\n",
            "5. Critical values: \n",
            "\t 1% : -3.4825006939887997\n",
            "\t 5% : -2.884397984161377\n",
            "\t 10% : -2.578960197753906\n"
          ]
        }
      ]
    },
    {
      "cell_type": "markdown",
      "source": [
        "Determine order for ARIMA Model"
      ],
      "metadata": {
        "id": "JbfLBHnXY1XL"
      }
    },
    {
      "cell_type": "code",
      "source": [
        "#pip uninstall scipy"
      ],
      "metadata": {
        "colab": {
          "base_uri": "https://localhost:8080/"
        },
        "id": "j1W-I-U68YR-",
        "outputId": "52215410-2d5d-4a40-a66d-5cd9b5432c90"
      },
      "execution_count": null,
      "outputs": [
        {
          "output_type": "stream",
          "name": "stdout",
          "text": [
            "Found existing installation: scipy 1.2.0\n",
            "Uninstalling scipy-1.2.0:\n",
            "  Would remove:\n",
            "    /usr/local/lib/python3.7/dist-packages/scipy-1.2.0.dist-info/*\n",
            "    /usr/local/lib/python3.7/dist-packages/scipy/*\n",
            "Proceed (y/n)? n\n"
          ]
        }
      ]
    },
    {
      "cell_type": "code",
      "source": [
        "pip install scipy==1.2.0"
      ],
      "metadata": {
        "colab": {
          "base_uri": "https://localhost:8080/"
        },
        "id": "WFiZ-keAZwJL",
        "outputId": "03688321-7710-4e36-e208-cbf7ce386a0c"
      },
      "execution_count": null,
      "outputs": [
        {
          "output_type": "stream",
          "name": "stdout",
          "text": [
            "Requirement already satisfied: scipy==1.2.0 in /usr/local/lib/python3.7/dist-packages (1.2.0)\n",
            "Requirement already satisfied: numpy>=1.8.2 in /usr/local/lib/python3.7/dist-packages (from scipy==1.2.0) (1.21.5)\n"
          ]
        }
      ]
    },
    {
      "cell_type": "code",
      "source": [
        "from platform import python_version\n",
        "\n",
        "print(python_version())"
      ],
      "metadata": {
        "id": "4scOO5Zv8qjU",
        "outputId": "20aeab08-af87-4053-e741-164f820c4467",
        "colab": {
          "base_uri": "https://localhost:8080/"
        }
      },
      "execution_count": null,
      "outputs": [
        {
          "output_type": "stream",
          "name": "stdout",
          "text": [
            "3.7.12\n"
          ]
        }
      ]
    },
    {
      "cell_type": "code",
      "source": [
        "scipy.__version__"
      ],
      "metadata": {
        "colab": {
          "base_uri": "https://localhost:8080/",
          "height": 36
        },
        "id": "IkOzTfkc6TJv",
        "outputId": "50da278e-fa75-4ddf-f1c3-5651ede980a7"
      },
      "execution_count": null,
      "outputs": [
        {
          "output_type": "execute_result",
          "data": {
            "text/plain": [
              "'1.4.1'"
            ],
            "application/vnd.google.colaboratory.intrinsic+json": {
              "type": "string"
            }
          },
          "metadata": {},
          "execution_count": 63
        }
      ]
    },
    {
      "cell_type": "code",
      "source": [
        "from pmdarima import auto_arima\n",
        "# #Ignore warnings\n",
        "# import warnings\n",
        "# warnings.filterwarnings('ignore')"
      ],
      "metadata": {
        "colab": {
          "base_uri": "https://localhost:8080/",
          "height": 533
        },
        "id": "d3BvbzovY41q",
        "outputId": "1d3f2504-2147-451e-f72a-55f2814254b3"
      },
      "execution_count": null,
      "outputs": [
        {
          "output_type": "error",
          "ename": "ImportError",
          "evalue": "ignored",
          "traceback": [
            "\u001b[0;31m---------------------------------------------------------------------------\u001b[0m",
            "\u001b[0;31mImportError\u001b[0m                               Traceback (most recent call last)",
            "\u001b[0;32m<ipython-input-58-57b6a6585cf6>\u001b[0m in \u001b[0;36m<module>\u001b[0;34m()\u001b[0m\n\u001b[0;32m----> 1\u001b[0;31m \u001b[0;32mfrom\u001b[0m \u001b[0mpmdarima\u001b[0m \u001b[0;32mimport\u001b[0m \u001b[0mauto_arima\u001b[0m\u001b[0;34m\u001b[0m\u001b[0;34m\u001b[0m\u001b[0m\n\u001b[0m\u001b[1;32m      2\u001b[0m \u001b[0;31m# #Ignore warnings\u001b[0m\u001b[0;34m\u001b[0m\u001b[0;34m\u001b[0m\u001b[0;34m\u001b[0m\u001b[0m\n\u001b[1;32m      3\u001b[0m \u001b[0;31m# import warnings\u001b[0m\u001b[0;34m\u001b[0m\u001b[0;34m\u001b[0m\u001b[0;34m\u001b[0m\u001b[0m\n\u001b[1;32m      4\u001b[0m \u001b[0;31m# warnings.filterwarnings('ignore')\u001b[0m\u001b[0;34m\u001b[0m\u001b[0;34m\u001b[0m\u001b[0;34m\u001b[0m\u001b[0m\n",
            "\u001b[0;32m/usr/local/lib/python3.7/dist-packages/pmdarima/__init__.py\u001b[0m in \u001b[0;36m<module>\u001b[0;34m()\u001b[0m\n\u001b[1;32m     27\u001b[0m \u001b[0;34m\u001b[0m\u001b[0m\n\u001b[1;32m     28\u001b[0m     \u001b[0;31m# Stuff we want at top-level\u001b[0m\u001b[0;34m\u001b[0m\u001b[0;34m\u001b[0m\u001b[0;34m\u001b[0m\u001b[0m\n\u001b[0;32m---> 29\u001b[0;31m     \u001b[0;32mfrom\u001b[0m \u001b[0;34m.\u001b[0m\u001b[0marima\u001b[0m \u001b[0;32mimport\u001b[0m \u001b[0mauto_arima\u001b[0m\u001b[0;34m,\u001b[0m \u001b[0mARIMA\u001b[0m\u001b[0;34m,\u001b[0m \u001b[0mAutoARIMA\u001b[0m\u001b[0;34m\u001b[0m\u001b[0;34m\u001b[0m\u001b[0m\n\u001b[0m\u001b[1;32m     30\u001b[0m     \u001b[0;32mfrom\u001b[0m \u001b[0;34m.\u001b[0m\u001b[0mutils\u001b[0m \u001b[0;32mimport\u001b[0m \u001b[0macf\u001b[0m\u001b[0;34m,\u001b[0m \u001b[0mautocorr_plot\u001b[0m\u001b[0;34m,\u001b[0m \u001b[0mc\u001b[0m\u001b[0;34m,\u001b[0m \u001b[0mpacf\u001b[0m\u001b[0;34m,\u001b[0m \u001b[0mplot_acf\u001b[0m\u001b[0;34m,\u001b[0m \u001b[0mplot_pacf\u001b[0m\u001b[0;34m\u001b[0m\u001b[0;34m\u001b[0m\u001b[0m\n\u001b[1;32m     31\u001b[0m \u001b[0;34m\u001b[0m\u001b[0m\n",
            "\u001b[0;32m/usr/local/lib/python3.7/dist-packages/pmdarima/arima/__init__.py\u001b[0m in \u001b[0;36m<module>\u001b[0;34m()\u001b[0m\n\u001b[1;32m      4\u001b[0m \u001b[0;34m\u001b[0m\u001b[0m\n\u001b[1;32m      5\u001b[0m \u001b[0;32mfrom\u001b[0m \u001b[0;34m.\u001b[0m\u001b[0mapprox\u001b[0m \u001b[0;32mimport\u001b[0m \u001b[0;34m*\u001b[0m\u001b[0;34m\u001b[0m\u001b[0;34m\u001b[0m\u001b[0m\n\u001b[0;32m----> 6\u001b[0;31m \u001b[0;32mfrom\u001b[0m \u001b[0;34m.\u001b[0m\u001b[0marima\u001b[0m \u001b[0;32mimport\u001b[0m \u001b[0;34m*\u001b[0m\u001b[0;34m\u001b[0m\u001b[0;34m\u001b[0m\u001b[0m\n\u001b[0m\u001b[1;32m      7\u001b[0m \u001b[0;32mfrom\u001b[0m \u001b[0;34m.\u001b[0m\u001b[0mauto\u001b[0m \u001b[0;32mimport\u001b[0m \u001b[0;34m*\u001b[0m\u001b[0;34m\u001b[0m\u001b[0;34m\u001b[0m\u001b[0m\n\u001b[1;32m      8\u001b[0m \u001b[0;32mfrom\u001b[0m \u001b[0;34m.\u001b[0m\u001b[0mutils\u001b[0m \u001b[0;32mimport\u001b[0m \u001b[0;34m*\u001b[0m\u001b[0;34m\u001b[0m\u001b[0;34m\u001b[0m\u001b[0m\n",
            "\u001b[0;32m/usr/local/lib/python3.7/dist-packages/pmdarima/arima/arima.py\u001b[0m in \u001b[0;36m<module>\u001b[0;34m()\u001b[0m\n\u001b[1;32m     15\u001b[0m \u001b[0;32mfrom\u001b[0m \u001b[0mstatsmodels\u001b[0m\u001b[0;34m.\u001b[0m\u001b[0mtsa\u001b[0m\u001b[0;34m.\u001b[0m\u001b[0marima_model\u001b[0m \u001b[0;32mimport\u001b[0m \u001b[0mARIMA\u001b[0m \u001b[0;32mas\u001b[0m \u001b[0m_ARIMA\u001b[0m\u001b[0;34m\u001b[0m\u001b[0;34m\u001b[0m\u001b[0m\n\u001b[1;32m     16\u001b[0m \u001b[0;32mfrom\u001b[0m \u001b[0mstatsmodels\u001b[0m\u001b[0;34m.\u001b[0m\u001b[0mtsa\u001b[0m\u001b[0;34m.\u001b[0m\u001b[0mbase\u001b[0m\u001b[0;34m.\u001b[0m\u001b[0mtsa_model\u001b[0m \u001b[0;32mimport\u001b[0m \u001b[0mTimeSeriesModelResults\u001b[0m\u001b[0;34m\u001b[0m\u001b[0;34m\u001b[0m\u001b[0m\n\u001b[0;32m---> 17\u001b[0;31m \u001b[0;32mfrom\u001b[0m \u001b[0mstatsmodels\u001b[0m \u001b[0;32mimport\u001b[0m \u001b[0mapi\u001b[0m \u001b[0;32mas\u001b[0m \u001b[0msm\u001b[0m\u001b[0;34m\u001b[0m\u001b[0;34m\u001b[0m\u001b[0m\n\u001b[0m\u001b[1;32m     18\u001b[0m \u001b[0;34m\u001b[0m\u001b[0m\n\u001b[1;32m     19\u001b[0m \u001b[0;32mfrom\u001b[0m \u001b[0mscipy\u001b[0m\u001b[0;34m.\u001b[0m\u001b[0mstats\u001b[0m \u001b[0;32mimport\u001b[0m \u001b[0mgaussian_kde\u001b[0m\u001b[0;34m,\u001b[0m \u001b[0mnorm\u001b[0m\u001b[0;34m\u001b[0m\u001b[0;34m\u001b[0m\u001b[0m\n",
            "\u001b[0;32m/usr/local/lib/python3.7/dist-packages/statsmodels/api.py\u001b[0m in \u001b[0;36m<module>\u001b[0;34m()\u001b[0m\n\u001b[1;32m      9\u001b[0m \u001b[0;32mfrom\u001b[0m \u001b[0;34m.\u001b[0m \u001b[0;32mimport\u001b[0m \u001b[0mregression\u001b[0m\u001b[0;34m\u001b[0m\u001b[0;34m\u001b[0m\u001b[0m\n\u001b[1;32m     10\u001b[0m \u001b[0;32mfrom\u001b[0m \u001b[0;34m.\u001b[0m\u001b[0mregression\u001b[0m\u001b[0;34m.\u001b[0m\u001b[0mlinear_model\u001b[0m \u001b[0;32mimport\u001b[0m \u001b[0mOLS\u001b[0m\u001b[0;34m,\u001b[0m \u001b[0mGLS\u001b[0m\u001b[0;34m,\u001b[0m \u001b[0mWLS\u001b[0m\u001b[0;34m,\u001b[0m \u001b[0mGLSAR\u001b[0m\u001b[0;34m\u001b[0m\u001b[0;34m\u001b[0m\u001b[0m\n\u001b[0;32m---> 11\u001b[0;31m \u001b[0;32mfrom\u001b[0m \u001b[0;34m.\u001b[0m\u001b[0mregression\u001b[0m\u001b[0;34m.\u001b[0m\u001b[0mrecursive_ls\u001b[0m \u001b[0;32mimport\u001b[0m \u001b[0mRecursiveLS\u001b[0m\u001b[0;34m\u001b[0m\u001b[0;34m\u001b[0m\u001b[0m\n\u001b[0m\u001b[1;32m     12\u001b[0m \u001b[0;32mfrom\u001b[0m \u001b[0;34m.\u001b[0m\u001b[0mregression\u001b[0m\u001b[0;34m.\u001b[0m\u001b[0mquantile_regression\u001b[0m \u001b[0;32mimport\u001b[0m \u001b[0mQuantReg\u001b[0m\u001b[0;34m\u001b[0m\u001b[0;34m\u001b[0m\u001b[0m\n\u001b[1;32m     13\u001b[0m \u001b[0;32mfrom\u001b[0m \u001b[0;34m.\u001b[0m\u001b[0mregression\u001b[0m\u001b[0;34m.\u001b[0m\u001b[0mmixed_linear_model\u001b[0m \u001b[0;32mimport\u001b[0m \u001b[0mMixedLM\u001b[0m\u001b[0;34m\u001b[0m\u001b[0;34m\u001b[0m\u001b[0m\n",
            "\u001b[0;32m/usr/local/lib/python3.7/dist-packages/statsmodels/regression/recursive_ls.py\u001b[0m in \u001b[0;36m<module>\u001b[0;34m()\u001b[0m\n\u001b[1;32m      9\u001b[0m \u001b[0;32mimport\u001b[0m \u001b[0mpandas\u001b[0m \u001b[0;32mas\u001b[0m \u001b[0mpd\u001b[0m\u001b[0;34m\u001b[0m\u001b[0;34m\u001b[0m\u001b[0m\n\u001b[1;32m     10\u001b[0m \u001b[0;34m\u001b[0m\u001b[0m\n\u001b[0;32m---> 11\u001b[0;31m \u001b[0;32mfrom\u001b[0m \u001b[0mstatsmodels\u001b[0m\u001b[0;34m.\u001b[0m\u001b[0mcompat\u001b[0m\u001b[0;34m.\u001b[0m\u001b[0mpandas\u001b[0m \u001b[0;32mimport\u001b[0m \u001b[0mAppender\u001b[0m\u001b[0;34m\u001b[0m\u001b[0;34m\u001b[0m\u001b[0m\n\u001b[0m\u001b[1;32m     12\u001b[0m \u001b[0;34m\u001b[0m\u001b[0m\n\u001b[1;32m     13\u001b[0m \u001b[0;32mfrom\u001b[0m \u001b[0mstatsmodels\u001b[0m\u001b[0;34m.\u001b[0m\u001b[0mtools\u001b[0m\u001b[0;34m.\u001b[0m\u001b[0mdata\u001b[0m \u001b[0;32mimport\u001b[0m \u001b[0m_is_using_pandas\u001b[0m\u001b[0;34m\u001b[0m\u001b[0;34m\u001b[0m\u001b[0m\n",
            "\u001b[0;31mImportError\u001b[0m: cannot import name 'Appender' from 'statsmodels.compat.pandas' (/usr/local/lib/python3.7/dist-packages/statsmodels/compat/pandas.py)",
            "",
            "\u001b[0;31m---------------------------------------------------------------------------\u001b[0;32m\nNOTE: If your import is failing due to a missing package, you can\nmanually install dependencies using either !pip or !apt.\n\nTo view examples of installing some common dependencies, click the\n\"Open Examples\" button below.\n\u001b[0;31m---------------------------------------------------------------------------\u001b[0m\n"
          ],
          "errorDetails": {
            "actions": [
              {
                "action": "open_url",
                "actionText": "Open Examples",
                "url": "/notebooks/snippets/importing_libraries.ipynb"
              }
            ]
          }
        }
      ]
    },
    {
      "cell_type": "code",
      "source": [
        "stepwise_fit = auto_arima(df_city_sorted['burglarys city'], trace=True, suppress_warnings=True)\n",
        "stepwise_fit.summary()"
      ],
      "metadata": {
        "colab": {
          "base_uri": "https://localhost:8080/",
          "height": 193
        },
        "id": "U-f5zliqazzM",
        "outputId": "64ed58a3-745f-43c4-c50e-8c65f340492f"
      },
      "execution_count": null,
      "outputs": [
        {
          "output_type": "error",
          "ename": "NameError",
          "evalue": "ignored",
          "traceback": [
            "\u001b[0;31m---------------------------------------------------------------------------\u001b[0m",
            "\u001b[0;31mNameError\u001b[0m                                 Traceback (most recent call last)",
            "\u001b[0;32m<ipython-input-57-5543e5694058>\u001b[0m in \u001b[0;36m<module>\u001b[0;34m()\u001b[0m\n\u001b[0;32m----> 1\u001b[0;31m \u001b[0mstepwise_fit\u001b[0m \u001b[0;34m=\u001b[0m \u001b[0mauto_arima\u001b[0m\u001b[0;34m(\u001b[0m\u001b[0mdf_city_sorted\u001b[0m\u001b[0;34m[\u001b[0m\u001b[0;34m'burglarys city'\u001b[0m\u001b[0;34m]\u001b[0m\u001b[0;34m,\u001b[0m \u001b[0mtrace\u001b[0m\u001b[0;34m=\u001b[0m\u001b[0;32mTrue\u001b[0m\u001b[0;34m,\u001b[0m \u001b[0msuppress_warnings\u001b[0m\u001b[0;34m=\u001b[0m\u001b[0;32mTrue\u001b[0m\u001b[0;34m)\u001b[0m\u001b[0;34m\u001b[0m\u001b[0;34m\u001b[0m\u001b[0m\n\u001b[0m\u001b[1;32m      2\u001b[0m \u001b[0mstepwise_fit\u001b[0m\u001b[0;34m.\u001b[0m\u001b[0msummary\u001b[0m\u001b[0;34m(\u001b[0m\u001b[0;34m)\u001b[0m\u001b[0;34m\u001b[0m\u001b[0;34m\u001b[0m\u001b[0m\n",
            "\u001b[0;31mNameError\u001b[0m: name 'auto_arima' is not defined"
          ]
        }
      ]
    }
  ]
}