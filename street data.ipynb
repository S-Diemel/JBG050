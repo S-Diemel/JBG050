{
 "cells": [
  {
   "cell_type": "code",
   "execution_count": 9,
   "metadata": {
    "collapsed": true
   },
   "outputs": [],
   "source": [
    "import pandas as pd\n",
    "import plotly.express as px\n",
    "import numpy as np\n",
    "import os"
   ]
  },
  {
   "cell_type": "code",
   "execution_count": 10,
   "outputs": [],
   "source": [
    "directory =\"C:\\\\Users\\\\20203666\\\\Documents\\\\JBG050-data\\\\Data\"\n",
    "folders = os.listdir(directory)"
   ],
   "metadata": {
    "collapsed": false,
    "pycharm": {
     "name": "#%%\n"
    }
   }
  },
  {
   "cell_type": "code",
   "execution_count": 16,
   "outputs": [],
   "source": [
    "district='avon-and-somerset'"
   ],
   "metadata": {
    "collapsed": false,
    "pycharm": {
     "name": "#%%\n"
    }
   }
  },
  {
   "cell_type": "code",
   "execution_count": 17,
   "outputs": [
    {
     "data": {
      "text/plain": "'C:\\\\Users\\\\20203666\\\\Documents\\\\JBG050-data\\\\Data\\\\2011-01\\\\2011-01-avon-and-somerset-street.csv'"
     },
     "execution_count": 17,
     "metadata": {},
     "output_type": "execute_result"
    }
   ],
   "source": [
    "folders = folders[1:]\n",
    "files = []\n",
    "for item in folders:\n",
    "    folder = os.listdir(directory+'\\\\'+item)\n",
    "    for file in folder:\n",
    "        if file.endswith(f'{district}-street.csv'):\n",
    "            files.append(directory+'\\\\'+item+\"\\\\\"+file)\n",
    "\n",
    "files[0]"
   ],
   "metadata": {
    "collapsed": false,
    "pycharm": {
     "name": "#%%\n"
    }
   }
  },
  {
   "cell_type": "code",
   "execution_count": 18,
   "outputs": [
    {
     "data": {
      "text/plain": "['C:\\\\Users\\\\20203666\\\\Documents\\\\JBG050-data\\\\Data\\\\2011-01\\\\2011-01-avon-and-somerset-street.csv',\n 'C:\\\\Users\\\\20203666\\\\Documents\\\\JBG050-data\\\\Data\\\\2011-02\\\\2011-02-avon-and-somerset-street.csv',\n 'C:\\\\Users\\\\20203666\\\\Documents\\\\JBG050-data\\\\Data\\\\2011-03\\\\2011-03-avon-and-somerset-street.csv',\n 'C:\\\\Users\\\\20203666\\\\Documents\\\\JBG050-data\\\\Data\\\\2011-04\\\\2011-04-avon-and-somerset-street.csv',\n 'C:\\\\Users\\\\20203666\\\\Documents\\\\JBG050-data\\\\Data\\\\2011-05\\\\2011-05-avon-and-somerset-street.csv',\n 'C:\\\\Users\\\\20203666\\\\Documents\\\\JBG050-data\\\\Data\\\\2011-06\\\\2011-06-avon-and-somerset-street.csv',\n 'C:\\\\Users\\\\20203666\\\\Documents\\\\JBG050-data\\\\Data\\\\2011-07\\\\2011-07-avon-and-somerset-street.csv',\n 'C:\\\\Users\\\\20203666\\\\Documents\\\\JBG050-data\\\\Data\\\\2011-08\\\\2011-08-avon-and-somerset-street.csv',\n 'C:\\\\Users\\\\20203666\\\\Documents\\\\JBG050-data\\\\Data\\\\2011-09\\\\2011-09-avon-and-somerset-street.csv',\n 'C:\\\\Users\\\\20203666\\\\Documents\\\\JBG050-data\\\\Data\\\\2011-10\\\\2011-10-avon-and-somerset-street.csv',\n 'C:\\\\Users\\\\20203666\\\\Documents\\\\JBG050-data\\\\Data\\\\2011-11\\\\2011-11-avon-and-somerset-street.csv',\n 'C:\\\\Users\\\\20203666\\\\Documents\\\\JBG050-data\\\\Data\\\\2011-12\\\\2011-12-avon-and-somerset-street.csv',\n 'C:\\\\Users\\\\20203666\\\\Documents\\\\JBG050-data\\\\Data\\\\2012-01\\\\2012-01-avon-and-somerset-street.csv',\n 'C:\\\\Users\\\\20203666\\\\Documents\\\\JBG050-data\\\\Data\\\\2012-02\\\\2012-02-avon-and-somerset-street.csv',\n 'C:\\\\Users\\\\20203666\\\\Documents\\\\JBG050-data\\\\Data\\\\2012-03\\\\2012-03-avon-and-somerset-street.csv',\n 'C:\\\\Users\\\\20203666\\\\Documents\\\\JBG050-data\\\\Data\\\\2012-04\\\\2012-04-avon-and-somerset-street.csv',\n 'C:\\\\Users\\\\20203666\\\\Documents\\\\JBG050-data\\\\Data\\\\2012-05\\\\2012-05-avon-and-somerset-street.csv',\n 'C:\\\\Users\\\\20203666\\\\Documents\\\\JBG050-data\\\\Data\\\\2012-06\\\\2012-06-avon-and-somerset-street.csv',\n 'C:\\\\Users\\\\20203666\\\\Documents\\\\JBG050-data\\\\Data\\\\2012-07\\\\2012-07-avon-and-somerset-street.csv',\n 'C:\\\\Users\\\\20203666\\\\Documents\\\\JBG050-data\\\\Data\\\\2012-08\\\\2012-08-avon-and-somerset-street.csv',\n 'C:\\\\Users\\\\20203666\\\\Documents\\\\JBG050-data\\\\Data\\\\2012-09\\\\2012-09-avon-and-somerset-street.csv',\n 'C:\\\\Users\\\\20203666\\\\Documents\\\\JBG050-data\\\\Data\\\\2012-10\\\\2012-10-avon-and-somerset-street.csv',\n 'C:\\\\Users\\\\20203666\\\\Documents\\\\JBG050-data\\\\Data\\\\2012-11\\\\2012-11-avon-and-somerset-street.csv',\n 'C:\\\\Users\\\\20203666\\\\Documents\\\\JBG050-data\\\\Data\\\\2012-12\\\\2012-12-avon-and-somerset-street.csv',\n 'C:\\\\Users\\\\20203666\\\\Documents\\\\JBG050-data\\\\Data\\\\2013-01\\\\2013-01-avon-and-somerset-street.csv',\n 'C:\\\\Users\\\\20203666\\\\Documents\\\\JBG050-data\\\\Data\\\\2013-02\\\\2013-02-avon-and-somerset-street.csv',\n 'C:\\\\Users\\\\20203666\\\\Documents\\\\JBG050-data\\\\Data\\\\2013-03\\\\2013-03-avon-and-somerset-street.csv',\n 'C:\\\\Users\\\\20203666\\\\Documents\\\\JBG050-data\\\\Data\\\\2013-04\\\\2013-04-avon-and-somerset-street.csv',\n 'C:\\\\Users\\\\20203666\\\\Documents\\\\JBG050-data\\\\Data\\\\2013-05\\\\2013-05-avon-and-somerset-street.csv',\n 'C:\\\\Users\\\\20203666\\\\Documents\\\\JBG050-data\\\\Data\\\\2013-06\\\\2013-06-avon-and-somerset-street.csv',\n 'C:\\\\Users\\\\20203666\\\\Documents\\\\JBG050-data\\\\Data\\\\2013-07\\\\2013-07-avon-and-somerset-street.csv',\n 'C:\\\\Users\\\\20203666\\\\Documents\\\\JBG050-data\\\\Data\\\\2013-08\\\\2013-08-avon-and-somerset-street.csv',\n 'C:\\\\Users\\\\20203666\\\\Documents\\\\JBG050-data\\\\Data\\\\2013-09\\\\2013-09-avon-and-somerset-street.csv',\n 'C:\\\\Users\\\\20203666\\\\Documents\\\\JBG050-data\\\\Data\\\\2013-10\\\\2013-10-avon-and-somerset-street.csv',\n 'C:\\\\Users\\\\20203666\\\\Documents\\\\JBG050-data\\\\Data\\\\2013-11\\\\2013-11-avon-and-somerset-street.csv',\n 'C:\\\\Users\\\\20203666\\\\Documents\\\\JBG050-data\\\\Data\\\\2013-12\\\\2013-12-avon-and-somerset-street.csv',\n 'C:\\\\Users\\\\20203666\\\\Documents\\\\JBG050-data\\\\Data\\\\2014-01\\\\2014-01-avon-and-somerset-street.csv',\n 'C:\\\\Users\\\\20203666\\\\Documents\\\\JBG050-data\\\\Data\\\\2014-02\\\\2014-02-avon-and-somerset-street.csv',\n 'C:\\\\Users\\\\20203666\\\\Documents\\\\JBG050-data\\\\Data\\\\2014-03\\\\2014-03-avon-and-somerset-street.csv',\n 'C:\\\\Users\\\\20203666\\\\Documents\\\\JBG050-data\\\\Data\\\\2014-04\\\\2014-04-avon-and-somerset-street.csv',\n 'C:\\\\Users\\\\20203666\\\\Documents\\\\JBG050-data\\\\Data\\\\2014-05\\\\2014-05-avon-and-somerset-street.csv',\n 'C:\\\\Users\\\\20203666\\\\Documents\\\\JBG050-data\\\\Data\\\\2014-06\\\\2014-06-avon-and-somerset-street.csv',\n 'C:\\\\Users\\\\20203666\\\\Documents\\\\JBG050-data\\\\Data\\\\2014-07\\\\2014-07-avon-and-somerset-street.csv',\n 'C:\\\\Users\\\\20203666\\\\Documents\\\\JBG050-data\\\\Data\\\\2014-08\\\\2014-08-avon-and-somerset-street.csv',\n 'C:\\\\Users\\\\20203666\\\\Documents\\\\JBG050-data\\\\Data\\\\2014-09\\\\2014-09-avon-and-somerset-street.csv',\n 'C:\\\\Users\\\\20203666\\\\Documents\\\\JBG050-data\\\\Data\\\\2014-10\\\\2014-10-avon-and-somerset-street.csv',\n 'C:\\\\Users\\\\20203666\\\\Documents\\\\JBG050-data\\\\Data\\\\2014-11\\\\2014-11-avon-and-somerset-street.csv',\n 'C:\\\\Users\\\\20203666\\\\Documents\\\\JBG050-data\\\\Data\\\\2014-12\\\\2014-12-avon-and-somerset-street.csv',\n 'C:\\\\Users\\\\20203666\\\\Documents\\\\JBG050-data\\\\Data\\\\2015-01\\\\2015-01-avon-and-somerset-street.csv',\n 'C:\\\\Users\\\\20203666\\\\Documents\\\\JBG050-data\\\\Data\\\\2015-02\\\\2015-02-avon-and-somerset-street.csv',\n 'C:\\\\Users\\\\20203666\\\\Documents\\\\JBG050-data\\\\Data\\\\2015-03\\\\2015-03-avon-and-somerset-street.csv',\n 'C:\\\\Users\\\\20203666\\\\Documents\\\\JBG050-data\\\\Data\\\\2015-04\\\\2015-04-avon-and-somerset-street.csv',\n 'C:\\\\Users\\\\20203666\\\\Documents\\\\JBG050-data\\\\Data\\\\2015-05\\\\2015-05-avon-and-somerset-street.csv',\n 'C:\\\\Users\\\\20203666\\\\Documents\\\\JBG050-data\\\\Data\\\\2015-06\\\\2015-06-avon-and-somerset-street.csv',\n 'C:\\\\Users\\\\20203666\\\\Documents\\\\JBG050-data\\\\Data\\\\2015-07\\\\2015-07-avon-and-somerset-street.csv',\n 'C:\\\\Users\\\\20203666\\\\Documents\\\\JBG050-data\\\\Data\\\\2015-08\\\\2015-08-avon-and-somerset-street.csv',\n 'C:\\\\Users\\\\20203666\\\\Documents\\\\JBG050-data\\\\Data\\\\2015-09\\\\2015-09-avon-and-somerset-street.csv',\n 'C:\\\\Users\\\\20203666\\\\Documents\\\\JBG050-data\\\\Data\\\\2015-10\\\\2015-10-avon-and-somerset-street.csv',\n 'C:\\\\Users\\\\20203666\\\\Documents\\\\JBG050-data\\\\Data\\\\2015-11\\\\2015-11-avon-and-somerset-street.csv',\n 'C:\\\\Users\\\\20203666\\\\Documents\\\\JBG050-data\\\\Data\\\\2015-12\\\\2015-12-avon-and-somerset-street.csv',\n 'C:\\\\Users\\\\20203666\\\\Documents\\\\JBG050-data\\\\Data\\\\2016-01\\\\2016-01-avon-and-somerset-street.csv',\n 'C:\\\\Users\\\\20203666\\\\Documents\\\\JBG050-data\\\\Data\\\\2016-02\\\\2016-02-avon-and-somerset-street.csv',\n 'C:\\\\Users\\\\20203666\\\\Documents\\\\JBG050-data\\\\Data\\\\2016-03\\\\2016-03-avon-and-somerset-street.csv',\n 'C:\\\\Users\\\\20203666\\\\Documents\\\\JBG050-data\\\\Data\\\\2016-04\\\\2016-04-avon-and-somerset-street.csv',\n 'C:\\\\Users\\\\20203666\\\\Documents\\\\JBG050-data\\\\Data\\\\2016-05\\\\2016-05-avon-and-somerset-street.csv',\n 'C:\\\\Users\\\\20203666\\\\Documents\\\\JBG050-data\\\\Data\\\\2016-06\\\\2016-06-avon-and-somerset-street.csv',\n 'C:\\\\Users\\\\20203666\\\\Documents\\\\JBG050-data\\\\Data\\\\2016-07\\\\2016-07-avon-and-somerset-street.csv',\n 'C:\\\\Users\\\\20203666\\\\Documents\\\\JBG050-data\\\\Data\\\\2016-08\\\\2016-08-avon-and-somerset-street.csv',\n 'C:\\\\Users\\\\20203666\\\\Documents\\\\JBG050-data\\\\Data\\\\2016-09\\\\2016-09-avon-and-somerset-street.csv',\n 'C:\\\\Users\\\\20203666\\\\Documents\\\\JBG050-data\\\\Data\\\\2016-10\\\\2016-10-avon-and-somerset-street.csv',\n 'C:\\\\Users\\\\20203666\\\\Documents\\\\JBG050-data\\\\Data\\\\2016-11\\\\2016-11-avon-and-somerset-street.csv',\n 'C:\\\\Users\\\\20203666\\\\Documents\\\\JBG050-data\\\\Data\\\\2016-12\\\\2016-12-avon-and-somerset-street.csv',\n 'C:\\\\Users\\\\20203666\\\\Documents\\\\JBG050-data\\\\Data\\\\2017-01\\\\2017-01-avon-and-somerset-street.csv',\n 'C:\\\\Users\\\\20203666\\\\Documents\\\\JBG050-data\\\\Data\\\\2017-02\\\\2017-02-avon-and-somerset-street.csv',\n 'C:\\\\Users\\\\20203666\\\\Documents\\\\JBG050-data\\\\Data\\\\2017-03\\\\2017-03-avon-and-somerset-street.csv',\n 'C:\\\\Users\\\\20203666\\\\Documents\\\\JBG050-data\\\\Data\\\\2017-04\\\\2017-04-avon-and-somerset-street.csv',\n 'C:\\\\Users\\\\20203666\\\\Documents\\\\JBG050-data\\\\Data\\\\2017-05\\\\2017-05-avon-and-somerset-street.csv',\n 'C:\\\\Users\\\\20203666\\\\Documents\\\\JBG050-data\\\\Data\\\\2017-06\\\\2017-06-avon-and-somerset-street.csv',\n 'C:\\\\Users\\\\20203666\\\\Documents\\\\JBG050-data\\\\Data\\\\2017-07\\\\2017-07-avon-and-somerset-street.csv',\n 'C:\\\\Users\\\\20203666\\\\Documents\\\\JBG050-data\\\\Data\\\\2017-08\\\\2017-08-avon-and-somerset-street.csv',\n 'C:\\\\Users\\\\20203666\\\\Documents\\\\JBG050-data\\\\Data\\\\2017-09\\\\2017-09-avon-and-somerset-street.csv',\n 'C:\\\\Users\\\\20203666\\\\Documents\\\\JBG050-data\\\\Data\\\\2017-10\\\\2017-10-avon-and-somerset-street.csv',\n 'C:\\\\Users\\\\20203666\\\\Documents\\\\JBG050-data\\\\Data\\\\2017-11\\\\2017-11-avon-and-somerset-street.csv',\n 'C:\\\\Users\\\\20203666\\\\Documents\\\\JBG050-data\\\\Data\\\\2017-12\\\\2017-12-avon-and-somerset-street.csv',\n 'C:\\\\Users\\\\20203666\\\\Documents\\\\JBG050-data\\\\Data\\\\2018-01\\\\2018-01-avon-and-somerset-street.csv',\n 'C:\\\\Users\\\\20203666\\\\Documents\\\\JBG050-data\\\\Data\\\\2018-02\\\\2018-02-avon-and-somerset-street.csv',\n 'C:\\\\Users\\\\20203666\\\\Documents\\\\JBG050-data\\\\Data\\\\2018-03\\\\2018-03-avon-and-somerset-street.csv',\n 'C:\\\\Users\\\\20203666\\\\Documents\\\\JBG050-data\\\\Data\\\\2018-04\\\\2018-04-avon-and-somerset-street.csv',\n 'C:\\\\Users\\\\20203666\\\\Documents\\\\JBG050-data\\\\Data\\\\2018-05\\\\2018-05-avon-and-somerset-street.csv',\n 'C:\\\\Users\\\\20203666\\\\Documents\\\\JBG050-data\\\\Data\\\\2018-06\\\\2018-06-avon-and-somerset-street.csv',\n 'C:\\\\Users\\\\20203666\\\\Documents\\\\JBG050-data\\\\Data\\\\2018-07\\\\2018-07-avon-and-somerset-street.csv',\n 'C:\\\\Users\\\\20203666\\\\Documents\\\\JBG050-data\\\\Data\\\\2018-08\\\\2018-08-avon-and-somerset-street.csv',\n 'C:\\\\Users\\\\20203666\\\\Documents\\\\JBG050-data\\\\Data\\\\2018-09\\\\2018-09-avon-and-somerset-street.csv',\n 'C:\\\\Users\\\\20203666\\\\Documents\\\\JBG050-data\\\\Data\\\\2018-10\\\\2018-10-avon-and-somerset-street.csv',\n 'C:\\\\Users\\\\20203666\\\\Documents\\\\JBG050-data\\\\Data\\\\2018-11\\\\2018-11-avon-and-somerset-street.csv',\n 'C:\\\\Users\\\\20203666\\\\Documents\\\\JBG050-data\\\\Data\\\\2018-12\\\\2018-12-avon-and-somerset-street.csv',\n 'C:\\\\Users\\\\20203666\\\\Documents\\\\JBG050-data\\\\Data\\\\2019-01\\\\2019-01-avon-and-somerset-street.csv',\n 'C:\\\\Users\\\\20203666\\\\Documents\\\\JBG050-data\\\\Data\\\\2019-02\\\\2019-02-avon-and-somerset-street.csv',\n 'C:\\\\Users\\\\20203666\\\\Documents\\\\JBG050-data\\\\Data\\\\2019-03\\\\2019-03-avon-and-somerset-street.csv',\n 'C:\\\\Users\\\\20203666\\\\Documents\\\\JBG050-data\\\\Data\\\\2019-04\\\\2019-04-avon-and-somerset-street.csv',\n 'C:\\\\Users\\\\20203666\\\\Documents\\\\JBG050-data\\\\Data\\\\2019-05\\\\2019-05-avon-and-somerset-street.csv',\n 'C:\\\\Users\\\\20203666\\\\Documents\\\\JBG050-data\\\\Data\\\\2019-06\\\\2019-06-avon-and-somerset-street.csv',\n 'C:\\\\Users\\\\20203666\\\\Documents\\\\JBG050-data\\\\Data\\\\2019-07\\\\2019-07-avon-and-somerset-street.csv',\n 'C:\\\\Users\\\\20203666\\\\Documents\\\\JBG050-data\\\\Data\\\\2019-08\\\\2019-08-avon-and-somerset-street.csv',\n 'C:\\\\Users\\\\20203666\\\\Documents\\\\JBG050-data\\\\Data\\\\2019-09\\\\2019-09-avon-and-somerset-street.csv',\n 'C:\\\\Users\\\\20203666\\\\Documents\\\\JBG050-data\\\\Data\\\\2019-10\\\\2019-10-avon-and-somerset-street.csv',\n 'C:\\\\Users\\\\20203666\\\\Documents\\\\JBG050-data\\\\Data\\\\2019-11\\\\2019-11-avon-and-somerset-street.csv',\n 'C:\\\\Users\\\\20203666\\\\Documents\\\\JBG050-data\\\\Data\\\\2019-12\\\\2019-12-avon-and-somerset-street.csv',\n 'C:\\\\Users\\\\20203666\\\\Documents\\\\JBG050-data\\\\Data\\\\2020-01\\\\2020-01-avon-and-somerset-street.csv',\n 'C:\\\\Users\\\\20203666\\\\Documents\\\\JBG050-data\\\\Data\\\\2020-02\\\\2020-02-avon-and-somerset-street.csv',\n 'C:\\\\Users\\\\20203666\\\\Documents\\\\JBG050-data\\\\Data\\\\2020-03\\\\2020-03-avon-and-somerset-street.csv',\n 'C:\\\\Users\\\\20203666\\\\Documents\\\\JBG050-data\\\\Data\\\\2020-04\\\\2020-04-avon-and-somerset-street.csv',\n 'C:\\\\Users\\\\20203666\\\\Documents\\\\JBG050-data\\\\Data\\\\2020-05\\\\2020-05-avon-and-somerset-street.csv',\n 'C:\\\\Users\\\\20203666\\\\Documents\\\\JBG050-data\\\\Data\\\\2020-06\\\\2020-06-avon-and-somerset-street.csv',\n 'C:\\\\Users\\\\20203666\\\\Documents\\\\JBG050-data\\\\Data\\\\2020-07\\\\2020-07-avon-and-somerset-street.csv',\n 'C:\\\\Users\\\\20203666\\\\Documents\\\\JBG050-data\\\\Data\\\\2020-08\\\\2020-08-avon-and-somerset-street.csv',\n 'C:\\\\Users\\\\20203666\\\\Documents\\\\JBG050-data\\\\Data\\\\2020-09\\\\2020-09-avon-and-somerset-street.csv',\n 'C:\\\\Users\\\\20203666\\\\Documents\\\\JBG050-data\\\\Data\\\\2020-10\\\\2020-10-avon-and-somerset-street.csv',\n 'C:\\\\Users\\\\20203666\\\\Documents\\\\JBG050-data\\\\Data\\\\2020-11\\\\2020-11-avon-and-somerset-street.csv',\n 'C:\\\\Users\\\\20203666\\\\Documents\\\\JBG050-data\\\\Data\\\\2020-12\\\\2020-12-avon-and-somerset-street.csv',\n 'C:\\\\Users\\\\20203666\\\\Documents\\\\JBG050-data\\\\Data\\\\2021-01\\\\2021-01-avon-and-somerset-street.csv',\n 'C:\\\\Users\\\\20203666\\\\Documents\\\\JBG050-data\\\\Data\\\\2021-02\\\\2021-02-avon-and-somerset-street.csv',\n 'C:\\\\Users\\\\20203666\\\\Documents\\\\JBG050-data\\\\Data\\\\2021-03\\\\2021-03-avon-and-somerset-street.csv',\n 'C:\\\\Users\\\\20203666\\\\Documents\\\\JBG050-data\\\\Data\\\\2021-04\\\\2021-04-avon-and-somerset-street.csv',\n 'C:\\\\Users\\\\20203666\\\\Documents\\\\JBG050-data\\\\Data\\\\2021-05\\\\2021-05-avon-and-somerset-street.csv',\n 'C:\\\\Users\\\\20203666\\\\Documents\\\\JBG050-data\\\\Data\\\\2021-06\\\\2021-06-avon-and-somerset-street.csv',\n 'C:\\\\Users\\\\20203666\\\\Documents\\\\JBG050-data\\\\Data\\\\2021-07\\\\2021-07-avon-and-somerset-street.csv',\n 'C:\\\\Users\\\\20203666\\\\Documents\\\\JBG050-data\\\\Data\\\\2021-08\\\\2021-08-avon-and-somerset-street.csv',\n 'C:\\\\Users\\\\20203666\\\\Documents\\\\JBG050-data\\\\Data\\\\2021-09\\\\2021-09-avon-and-somerset-street.csv',\n 'C:\\\\Users\\\\20203666\\\\Documents\\\\JBG050-data\\\\Data\\\\2021-10\\\\2021-10-avon-and-somerset-street.csv']"
     },
     "execution_count": 18,
     "metadata": {},
     "output_type": "execute_result"
    }
   ],
   "source": [
    "files"
   ],
   "metadata": {
    "collapsed": false,
    "pycharm": {
     "name": "#%%\n"
    }
   }
  },
  {
   "cell_type": "code",
   "execution_count": null,
   "outputs": [],
   "source": [],
   "metadata": {
    "collapsed": false,
    "pycharm": {
     "name": "#%%\n"
    }
   }
  },
  {
   "cell_type": "code",
   "execution_count": null,
   "outputs": [],
   "source": [],
   "metadata": {
    "collapsed": false,
    "pycharm": {
     "name": "#%%\n"
    }
   }
  },
  {
   "cell_type": "code",
   "execution_count": null,
   "outputs": [],
   "source": [],
   "metadata": {
    "collapsed": false,
    "pycharm": {
     "name": "#%%\n"
    }
   }
  },
  {
   "cell_type": "code",
   "execution_count": null,
   "outputs": [],
   "source": [],
   "metadata": {
    "collapsed": false,
    "pycharm": {
     "name": "#%%\n"
    }
   }
  }
 ],
 "metadata": {
  "kernelspec": {
   "display_name": "Python 3",
   "language": "python",
   "name": "python3"
  },
  "language_info": {
   "codemirror_mode": {
    "name": "ipython",
    "version": 2
   },
   "file_extension": ".py",
   "mimetype": "text/x-python",
   "name": "python",
   "nbconvert_exporter": "python",
   "pygments_lexer": "ipython2",
   "version": "2.7.6"
  }
 },
 "nbformat": 4,
 "nbformat_minor": 0
}