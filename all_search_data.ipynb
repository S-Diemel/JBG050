{
 "cells": [
  {
   "cell_type": "code",
   "execution_count": 1,
   "metadata": {
    "collapsed": true
   },
   "outputs": [],
   "source": [
    "import re\n",
    "import pandas as pd\n",
    "import sqlite3\n",
    "import os"
   ]
  },
  {
   "cell_type": "code",
   "execution_count": null,
   "outputs": [],
   "source": [
    "folders = os.listdir(\"C:\\\\Users\\\\20203666\\\\Documents\\\\JBG050-data\\\\Data\")"
   ],
   "metadata": {
    "collapsed": false,
    "pycharm": {
     "name": "#%%\n"
    }
   }
  },
  {
   "cell_type": "code",
   "execution_count": null,
   "outputs": [],
   "source": [
    "folders = folders[1:]\n",
    "files = []\n",
    "for item in folders:\n",
    "    folder = os.listdir(\"C:\\\\Users\\\\20203666\\\\Documents\\\\JBG050-data\\\\Data\\\\\"+item)\n",
    "    for file in folder:\n",
    "        if file.endswith(\"search.csv\"):\n",
    "            files.append(\"C:\\\\Users\\\\20203666\\\\Documents\\\\JBG050-data\\\\Data\\\\\"+item+\"\\\\\"+file)\n",
    "\n",
    "files[0]"
   ],
   "metadata": {
    "collapsed": false,
    "pycharm": {
     "name": "#%%\n"
    }
   }
  },
  {
   "cell_type": "code",
   "execution_count": null,
   "outputs": [],
   "source": [
    "df_all = pd.read_csv(files[0])\n",
    "i=1\n",
    "for file in files[1:]:\n",
    "    print(i)\n",
    "    df = pd.read_csv(file)\n",
    "    df_all = df_all.append(df, ignore_index=True)\n",
    "    i=i+1\n",
    "df_all"
   ],
   "metadata": {
    "collapsed": false,
    "pycharm": {
     "name": "#%%\n"
    }
   }
  },
  {
   "cell_type": "code",
   "execution_count": null,
   "outputs": [],
   "source": [
    "df_all.to_csv(\"C:\\\\Users\\\\20203666\\\\Documents\\\\JBG050-data\\\\Data\\\\all_search.csv\")"
   ],
   "metadata": {
    "collapsed": false,
    "pycharm": {
     "name": "#%%\n"
    }
   }
  },
  {
   "cell_type": "code",
   "execution_count": null,
   "outputs": [],
   "source": [],
   "metadata": {
    "collapsed": false,
    "pycharm": {
     "name": "#%%\n"
    }
   }
  },
  {
   "cell_type": "code",
   "execution_count": null,
   "outputs": [],
   "source": [],
   "metadata": {
    "collapsed": false,
    "pycharm": {
     "name": "#%%\n"
    }
   }
  }
 ],
 "metadata": {
  "kernelspec": {
   "display_name": "Python 3",
   "language": "python",
   "name": "python3"
  },
  "language_info": {
   "codemirror_mode": {
    "name": "ipython",
    "version": 2
   },
   "file_extension": ".py",
   "mimetype": "text/x-python",
   "name": "python",
   "nbconvert_exporter": "python",
   "pygments_lexer": "ipython2",
   "version": "2.7.6"
  }
 },
 "nbformat": 4,
 "nbformat_minor": 0
}