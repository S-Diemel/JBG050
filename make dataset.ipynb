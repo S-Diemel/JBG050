{
 "cells": [
  {
   "cell_type": "code",
   "execution_count": 50,
   "metadata": {
    "collapsed": true
   },
   "outputs": [],
   "source": [
    "import pandas as pd\n",
    "import plotly.express as px\n",
    "import numpy as np"
   ]
  },
  {
   "cell_type": "code",
   "execution_count": 51,
   "outputs": [
    {
     "name": "stderr",
     "output_type": "stream",
     "text": [
      "C:\\ProgramData\\Anaconda3\\envs\\my_env\\lib\\site-packages\\IPython\\core\\interactiveshell.py:3444: DtypeWarning: Columns (4) have mixed types.Specify dtype option on import or set low_memory=False.\n",
      "  exec(code_obj, self.user_global_ns, self.user_ns)\n"
     ]
    },
    {
     "data": {
      "text/plain": "         Unnamed: 0                       Type                       Date  \\\n0                 0              Person search  2014-03-31T23:05:00+00:00   \n1                 1              Person search  2014-03-31T23:05:00+00:00   \n2                 2              Person search  2014-03-31T23:05:00+00:00   \n3                 3              Person search  2014-03-31T23:05:00+00:00   \n4                 4              Person search  2014-03-31T23:05:00+00:00   \n...             ...                        ...                        ...   \n2898959     2898959  Person and Vehicle search  2021-10-31T23:20:00+00:00   \n2898960     2898960              Person search  2021-10-31T23:20:00+00:00   \n2898961     2898961              Person search  2021-10-31T23:20:00+00:00   \n2898962     2898962              Person search  2021-10-31T23:40:00+00:00   \n2898963     2898963  Person and Vehicle search  2021-10-31T23:45:00+00:00   \n\n        Part of a policing operation Policing operation   Latitude  Longitude  \\\n0                                NaN                NaN        NaN        NaN   \n1                                NaN                NaN  50.844310  -1.067920   \n2                                NaN                NaN  50.844310  -1.067920   \n3                                NaN                NaN  50.813747  -1.078507   \n4                                NaN                NaN  50.844310  -1.067920   \n...                              ...                ...        ...        ...   \n2898959                         True                NaN  53.777483  -1.776611   \n2898960                         True                NaN  53.777483  -1.776611   \n2898961                         True                NaN  53.777483  -1.776611   \n2898962                        False                NaN  53.850550  -1.840857   \n2898963                        False                NaN  53.782293  -1.782292   \n\n        Gender Age range                             Self-defined ethnicity  \\\n0         Male     25-34                                    Not Stated (NS)   \n1         Male     18-24                         White - White British (W1)   \n2         Male     18-24                         White - White British (W1)   \n3         Male   over 34                         White - White British (W1)   \n4         Male     18-24                         White - White British (W1)   \n...        ...       ...                                                ...   \n2898959   Male     18-24  White - English/Welsh/Scottish/Northern Irish/...   \n2898960   Male     18-24  White - English/Welsh/Scottish/Northern Irish/...   \n2898961   Male     25-34                    Asian/Asian British - Pakistani   \n2898962   Male     18-24  White - English/Welsh/Scottish/Northern Irish/...   \n2898963   Male   over 34                   White - Gypsy or Irish Traveller   \n\n        Officer-defined ethnicity  \\\n0                           Other   \n1                           White   \n2                           White   \n3                           White   \n4                           White   \n...                           ...   \n2898959                     White   \n2898960                     White   \n2898961                     Asian   \n2898962                     White   \n2898963                     White   \n\n                                               Legislation  \\\n0        Police and Criminal Evidence Act 1984 (section 1)   \n1        Police and Criminal Evidence Act 1984 (section 1)   \n2        Police and Criminal Evidence Act 1984 (section 1)   \n3        Police and Criminal Evidence Act 1984 (section 1)   \n4        Police and Criminal Evidence Act 1984 (section 1)   \n...                                                    ...   \n2898959              Misuse of Drugs Act 1971 (section 23)   \n2898960              Misuse of Drugs Act 1971 (section 23)   \n2898961              Misuse of Drugs Act 1971 (section 23)   \n2898962  Police and Criminal Evidence Act 1984 (section 1)   \n2898963              Misuse of Drugs Act 1971 (section 23)   \n\n                 Object of search                            Outcome  \\\n0                    Stolen goods  Nothing found - no further action   \n1                    Stolen goods  Nothing found - no further action   \n2                    Stolen goods  Nothing found - no further action   \n3        Article for use in theft  Nothing found - no further action   \n4                    Stolen goods  Nothing found - no further action   \n...                           ...                                ...   \n2898959          Controlled drugs       A no further action disposal   \n2898960          Controlled drugs       A no further action disposal   \n2898961          Controlled drugs       A no further action disposal   \n2898962          Controlled drugs       A no further action disposal   \n2898963          Controlled drugs               Community resolution   \n\n        Outcome linked to object of search  \\\n0                                      NaN   \n1                                      NaN   \n2                                      NaN   \n3                                      NaN   \n4                                      NaN   \n...                                    ...   \n2898959                               True   \n2898960                              False   \n2898961                              False   \n2898962                               True   \n2898963                               True   \n\n        Removal of more than just outer clothing  \n0                                            NaN  \n1                                            NaN  \n2                                            NaN  \n3                                            NaN  \n4                                            NaN  \n...                                          ...  \n2898959                                    False  \n2898960                                    False  \n2898961                                    False  \n2898962                                    False  \n2898963                                    False  \n\n[2898964 rows x 16 columns]",
      "text/html": "<div>\n<style scoped>\n    .dataframe tbody tr th:only-of-type {\n        vertical-align: middle;\n    }\n\n    .dataframe tbody tr th {\n        vertical-align: top;\n    }\n\n    .dataframe thead th {\n        text-align: right;\n    }\n</style>\n<table border=\"1\" class=\"dataframe\">\n  <thead>\n    <tr style=\"text-align: right;\">\n      <th></th>\n      <th>Unnamed: 0</th>\n      <th>Type</th>\n      <th>Date</th>\n      <th>Part of a policing operation</th>\n      <th>Policing operation</th>\n      <th>Latitude</th>\n      <th>Longitude</th>\n      <th>Gender</th>\n      <th>Age range</th>\n      <th>Self-defined ethnicity</th>\n      <th>Officer-defined ethnicity</th>\n      <th>Legislation</th>\n      <th>Object of search</th>\n      <th>Outcome</th>\n      <th>Outcome linked to object of search</th>\n      <th>Removal of more than just outer clothing</th>\n    </tr>\n  </thead>\n  <tbody>\n    <tr>\n      <th>0</th>\n      <td>0</td>\n      <td>Person search</td>\n      <td>2014-03-31T23:05:00+00:00</td>\n      <td>NaN</td>\n      <td>NaN</td>\n      <td>NaN</td>\n      <td>NaN</td>\n      <td>Male</td>\n      <td>25-34</td>\n      <td>Not Stated (NS)</td>\n      <td>Other</td>\n      <td>Police and Criminal Evidence Act 1984 (section 1)</td>\n      <td>Stolen goods</td>\n      <td>Nothing found - no further action</td>\n      <td>NaN</td>\n      <td>NaN</td>\n    </tr>\n    <tr>\n      <th>1</th>\n      <td>1</td>\n      <td>Person search</td>\n      <td>2014-03-31T23:05:00+00:00</td>\n      <td>NaN</td>\n      <td>NaN</td>\n      <td>50.844310</td>\n      <td>-1.067920</td>\n      <td>Male</td>\n      <td>18-24</td>\n      <td>White - White British (W1)</td>\n      <td>White</td>\n      <td>Police and Criminal Evidence Act 1984 (section 1)</td>\n      <td>Stolen goods</td>\n      <td>Nothing found - no further action</td>\n      <td>NaN</td>\n      <td>NaN</td>\n    </tr>\n    <tr>\n      <th>2</th>\n      <td>2</td>\n      <td>Person search</td>\n      <td>2014-03-31T23:05:00+00:00</td>\n      <td>NaN</td>\n      <td>NaN</td>\n      <td>50.844310</td>\n      <td>-1.067920</td>\n      <td>Male</td>\n      <td>18-24</td>\n      <td>White - White British (W1)</td>\n      <td>White</td>\n      <td>Police and Criminal Evidence Act 1984 (section 1)</td>\n      <td>Stolen goods</td>\n      <td>Nothing found - no further action</td>\n      <td>NaN</td>\n      <td>NaN</td>\n    </tr>\n    <tr>\n      <th>3</th>\n      <td>3</td>\n      <td>Person search</td>\n      <td>2014-03-31T23:05:00+00:00</td>\n      <td>NaN</td>\n      <td>NaN</td>\n      <td>50.813747</td>\n      <td>-1.078507</td>\n      <td>Male</td>\n      <td>over 34</td>\n      <td>White - White British (W1)</td>\n      <td>White</td>\n      <td>Police and Criminal Evidence Act 1984 (section 1)</td>\n      <td>Article for use in theft</td>\n      <td>Nothing found - no further action</td>\n      <td>NaN</td>\n      <td>NaN</td>\n    </tr>\n    <tr>\n      <th>4</th>\n      <td>4</td>\n      <td>Person search</td>\n      <td>2014-03-31T23:05:00+00:00</td>\n      <td>NaN</td>\n      <td>NaN</td>\n      <td>50.844310</td>\n      <td>-1.067920</td>\n      <td>Male</td>\n      <td>18-24</td>\n      <td>White - White British (W1)</td>\n      <td>White</td>\n      <td>Police and Criminal Evidence Act 1984 (section 1)</td>\n      <td>Stolen goods</td>\n      <td>Nothing found - no further action</td>\n      <td>NaN</td>\n      <td>NaN</td>\n    </tr>\n    <tr>\n      <th>...</th>\n      <td>...</td>\n      <td>...</td>\n      <td>...</td>\n      <td>...</td>\n      <td>...</td>\n      <td>...</td>\n      <td>...</td>\n      <td>...</td>\n      <td>...</td>\n      <td>...</td>\n      <td>...</td>\n      <td>...</td>\n      <td>...</td>\n      <td>...</td>\n      <td>...</td>\n      <td>...</td>\n    </tr>\n    <tr>\n      <th>2898959</th>\n      <td>2898959</td>\n      <td>Person and Vehicle search</td>\n      <td>2021-10-31T23:20:00+00:00</td>\n      <td>True</td>\n      <td>NaN</td>\n      <td>53.777483</td>\n      <td>-1.776611</td>\n      <td>Male</td>\n      <td>18-24</td>\n      <td>White - English/Welsh/Scottish/Northern Irish/...</td>\n      <td>White</td>\n      <td>Misuse of Drugs Act 1971 (section 23)</td>\n      <td>Controlled drugs</td>\n      <td>A no further action disposal</td>\n      <td>True</td>\n      <td>False</td>\n    </tr>\n    <tr>\n      <th>2898960</th>\n      <td>2898960</td>\n      <td>Person search</td>\n      <td>2021-10-31T23:20:00+00:00</td>\n      <td>True</td>\n      <td>NaN</td>\n      <td>53.777483</td>\n      <td>-1.776611</td>\n      <td>Male</td>\n      <td>18-24</td>\n      <td>White - English/Welsh/Scottish/Northern Irish/...</td>\n      <td>White</td>\n      <td>Misuse of Drugs Act 1971 (section 23)</td>\n      <td>Controlled drugs</td>\n      <td>A no further action disposal</td>\n      <td>False</td>\n      <td>False</td>\n    </tr>\n    <tr>\n      <th>2898961</th>\n      <td>2898961</td>\n      <td>Person search</td>\n      <td>2021-10-31T23:20:00+00:00</td>\n      <td>True</td>\n      <td>NaN</td>\n      <td>53.777483</td>\n      <td>-1.776611</td>\n      <td>Male</td>\n      <td>25-34</td>\n      <td>Asian/Asian British - Pakistani</td>\n      <td>Asian</td>\n      <td>Misuse of Drugs Act 1971 (section 23)</td>\n      <td>Controlled drugs</td>\n      <td>A no further action disposal</td>\n      <td>False</td>\n      <td>False</td>\n    </tr>\n    <tr>\n      <th>2898962</th>\n      <td>2898962</td>\n      <td>Person search</td>\n      <td>2021-10-31T23:40:00+00:00</td>\n      <td>False</td>\n      <td>NaN</td>\n      <td>53.850550</td>\n      <td>-1.840857</td>\n      <td>Male</td>\n      <td>18-24</td>\n      <td>White - English/Welsh/Scottish/Northern Irish/...</td>\n      <td>White</td>\n      <td>Police and Criminal Evidence Act 1984 (section 1)</td>\n      <td>Controlled drugs</td>\n      <td>A no further action disposal</td>\n      <td>True</td>\n      <td>False</td>\n    </tr>\n    <tr>\n      <th>2898963</th>\n      <td>2898963</td>\n      <td>Person and Vehicle search</td>\n      <td>2021-10-31T23:45:00+00:00</td>\n      <td>False</td>\n      <td>NaN</td>\n      <td>53.782293</td>\n      <td>-1.782292</td>\n      <td>Male</td>\n      <td>over 34</td>\n      <td>White - Gypsy or Irish Traveller</td>\n      <td>White</td>\n      <td>Misuse of Drugs Act 1971 (section 23)</td>\n      <td>Controlled drugs</td>\n      <td>Community resolution</td>\n      <td>True</td>\n      <td>False</td>\n    </tr>\n  </tbody>\n</table>\n<p>2898964 rows × 16 columns</p>\n</div>"
     },
     "execution_count": 51,
     "metadata": {},
     "output_type": "execute_result"
    }
   ],
   "source": [
    "df = pd.read_csv(\"C:\\\\Users\\\\20203666\\\\Documents\\\\JBG050-data\\\\Data\\\\all_search.csv\")\n",
    "df"
   ],
   "metadata": {
    "collapsed": false,
    "pycharm": {
     "name": "#%%\n"
    }
   }
  },
  {
   "cell_type": "code",
   "execution_count": 52,
   "outputs": [
    {
     "data": {
      "text/plain": "         Unnamed: 0                       Type                      Date  \\\n0                 1              Person search 2014-03-31 23:05:00+00:00   \n1                 2              Person search 2014-03-31 23:05:00+00:00   \n2                 3              Person search 2014-03-31 23:05:00+00:00   \n3                 4              Person search 2014-03-31 23:05:00+00:00   \n4                 5              Person search 2014-03-31 23:45:00+00:00   \n...             ...                        ...                       ...   \n2216598     2898959  Person and Vehicle search 2021-10-31 23:20:00+00:00   \n2216599     2898960              Person search 2021-10-31 23:20:00+00:00   \n2216600     2898961              Person search 2021-10-31 23:20:00+00:00   \n2216601     2898962              Person search 2021-10-31 23:40:00+00:00   \n2216602     2898963  Person and Vehicle search 2021-10-31 23:45:00+00:00   \n\n        Part of a policing operation Policing operation   Latitude  Longitude  \\\n0                                NaN                NaN  50.844310  -1.067920   \n1                                NaN                NaN  50.844310  -1.067920   \n2                                NaN                NaN  50.813747  -1.078507   \n3                                NaN                NaN  50.844310  -1.067920   \n4                                NaN                NaN  50.914817  -1.329434   \n...                              ...                ...        ...        ...   \n2216598                         True                NaN  53.777483  -1.776611   \n2216599                         True                NaN  53.777483  -1.776611   \n2216600                         True                NaN  53.777483  -1.776611   \n2216601                        False                NaN  53.850550  -1.840857   \n2216602                        False                NaN  53.782293  -1.782292   \n\n        Gender Age range                             Self-defined ethnicity  \\\n0         Male     18-24                         White - White British (W1)   \n1         Male     18-24                         White - White British (W1)   \n2         Male   over 34                         White - White British (W1)   \n3         Male     18-24                         White - White British (W1)   \n4         Male     18-24                         White - White British (W1)   \n...        ...       ...                                                ...   \n2216598   Male     18-24  White - English/Welsh/Scottish/Northern Irish/...   \n2216599   Male     18-24  White - English/Welsh/Scottish/Northern Irish/...   \n2216600   Male     25-34                    Asian/Asian British - Pakistani   \n2216601   Male     18-24  White - English/Welsh/Scottish/Northern Irish/...   \n2216602   Male   over 34                   White - Gypsy or Irish Traveller   \n\n         ...                                        Legislation  \\\n0        ...  Police and Criminal Evidence Act 1984 (section 1)   \n1        ...  Police and Criminal Evidence Act 1984 (section 1)   \n2        ...  Police and Criminal Evidence Act 1984 (section 1)   \n3        ...  Police and Criminal Evidence Act 1984 (section 1)   \n4        ...  Police and Criminal Evidence Act 1984 (section 1)   \n...      ...                                                ...   \n2216598  ...              Misuse of Drugs Act 1971 (section 23)   \n2216599  ...              Misuse of Drugs Act 1971 (section 23)   \n2216600  ...              Misuse of Drugs Act 1971 (section 23)   \n2216601  ...  Police and Criminal Evidence Act 1984 (section 1)   \n2216602  ...              Misuse of Drugs Act 1971 (section 23)   \n\n                 Object of search                            Outcome  \\\n0                    Stolen goods  Nothing found - no further action   \n1                    Stolen goods  Nothing found - no further action   \n2        Article for use in theft  Nothing found - no further action   \n3                    Stolen goods  Nothing found - no further action   \n4        Article for use in theft  Nothing found - no further action   \n...                           ...                                ...   \n2216598          Controlled drugs       A no further action disposal   \n2216599          Controlled drugs       A no further action disposal   \n2216600          Controlled drugs       A no further action disposal   \n2216601          Controlled drugs       A no further action disposal   \n2216602          Controlled drugs               Community resolution   \n\n        Outcome linked to object of search  \\\n0                                      NaN   \n1                                      NaN   \n2                                      NaN   \n3                                      NaN   \n4                                      NaN   \n...                                    ...   \n2216598                               True   \n2216599                              False   \n2216600                              False   \n2216601                               True   \n2216602                               True   \n\n        Removal of more than just outer clothing day of week  month  hour  \\\n0                                            NaN           0      3    23   \n1                                            NaN           0      3    23   \n2                                            NaN           0      3    23   \n3                                            NaN           0      3    23   \n4                                            NaN           0      3    23   \n...                                          ...         ...    ...   ...   \n2216598                                    False           6     10    23   \n2216599                                    False           6     10    23   \n2216600                                    False           6     10    23   \n2216601                                    False           6     10    23   \n2216602                                    False           6     10    23   \n\n         Latitude2  year  \n0         0.844310     4  \n1         0.844310     4  \n2         0.813747     4  \n3         0.844310     4  \n4         0.914817     4  \n...            ...   ...  \n2216598   3.777483    11  \n2216599   3.777483    11  \n2216600   3.777483    11  \n2216601   3.850550    11  \n2216602   3.782293    11  \n\n[2216603 rows x 21 columns]",
      "text/html": "<div>\n<style scoped>\n    .dataframe tbody tr th:only-of-type {\n        vertical-align: middle;\n    }\n\n    .dataframe tbody tr th {\n        vertical-align: top;\n    }\n\n    .dataframe thead th {\n        text-align: right;\n    }\n</style>\n<table border=\"1\" class=\"dataframe\">\n  <thead>\n    <tr style=\"text-align: right;\">\n      <th></th>\n      <th>Unnamed: 0</th>\n      <th>Type</th>\n      <th>Date</th>\n      <th>Part of a policing operation</th>\n      <th>Policing operation</th>\n      <th>Latitude</th>\n      <th>Longitude</th>\n      <th>Gender</th>\n      <th>Age range</th>\n      <th>Self-defined ethnicity</th>\n      <th>...</th>\n      <th>Legislation</th>\n      <th>Object of search</th>\n      <th>Outcome</th>\n      <th>Outcome linked to object of search</th>\n      <th>Removal of more than just outer clothing</th>\n      <th>day of week</th>\n      <th>month</th>\n      <th>hour</th>\n      <th>Latitude2</th>\n      <th>year</th>\n    </tr>\n  </thead>\n  <tbody>\n    <tr>\n      <th>0</th>\n      <td>1</td>\n      <td>Person search</td>\n      <td>2014-03-31 23:05:00+00:00</td>\n      <td>NaN</td>\n      <td>NaN</td>\n      <td>50.844310</td>\n      <td>-1.067920</td>\n      <td>Male</td>\n      <td>18-24</td>\n      <td>White - White British (W1)</td>\n      <td>...</td>\n      <td>Police and Criminal Evidence Act 1984 (section 1)</td>\n      <td>Stolen goods</td>\n      <td>Nothing found - no further action</td>\n      <td>NaN</td>\n      <td>NaN</td>\n      <td>0</td>\n      <td>3</td>\n      <td>23</td>\n      <td>0.844310</td>\n      <td>4</td>\n    </tr>\n    <tr>\n      <th>1</th>\n      <td>2</td>\n      <td>Person search</td>\n      <td>2014-03-31 23:05:00+00:00</td>\n      <td>NaN</td>\n      <td>NaN</td>\n      <td>50.844310</td>\n      <td>-1.067920</td>\n      <td>Male</td>\n      <td>18-24</td>\n      <td>White - White British (W1)</td>\n      <td>...</td>\n      <td>Police and Criminal Evidence Act 1984 (section 1)</td>\n      <td>Stolen goods</td>\n      <td>Nothing found - no further action</td>\n      <td>NaN</td>\n      <td>NaN</td>\n      <td>0</td>\n      <td>3</td>\n      <td>23</td>\n      <td>0.844310</td>\n      <td>4</td>\n    </tr>\n    <tr>\n      <th>2</th>\n      <td>3</td>\n      <td>Person search</td>\n      <td>2014-03-31 23:05:00+00:00</td>\n      <td>NaN</td>\n      <td>NaN</td>\n      <td>50.813747</td>\n      <td>-1.078507</td>\n      <td>Male</td>\n      <td>over 34</td>\n      <td>White - White British (W1)</td>\n      <td>...</td>\n      <td>Police and Criminal Evidence Act 1984 (section 1)</td>\n      <td>Article for use in theft</td>\n      <td>Nothing found - no further action</td>\n      <td>NaN</td>\n      <td>NaN</td>\n      <td>0</td>\n      <td>3</td>\n      <td>23</td>\n      <td>0.813747</td>\n      <td>4</td>\n    </tr>\n    <tr>\n      <th>3</th>\n      <td>4</td>\n      <td>Person search</td>\n      <td>2014-03-31 23:05:00+00:00</td>\n      <td>NaN</td>\n      <td>NaN</td>\n      <td>50.844310</td>\n      <td>-1.067920</td>\n      <td>Male</td>\n      <td>18-24</td>\n      <td>White - White British (W1)</td>\n      <td>...</td>\n      <td>Police and Criminal Evidence Act 1984 (section 1)</td>\n      <td>Stolen goods</td>\n      <td>Nothing found - no further action</td>\n      <td>NaN</td>\n      <td>NaN</td>\n      <td>0</td>\n      <td>3</td>\n      <td>23</td>\n      <td>0.844310</td>\n      <td>4</td>\n    </tr>\n    <tr>\n      <th>4</th>\n      <td>5</td>\n      <td>Person search</td>\n      <td>2014-03-31 23:45:00+00:00</td>\n      <td>NaN</td>\n      <td>NaN</td>\n      <td>50.914817</td>\n      <td>-1.329434</td>\n      <td>Male</td>\n      <td>18-24</td>\n      <td>White - White British (W1)</td>\n      <td>...</td>\n      <td>Police and Criminal Evidence Act 1984 (section 1)</td>\n      <td>Article for use in theft</td>\n      <td>Nothing found - no further action</td>\n      <td>NaN</td>\n      <td>NaN</td>\n      <td>0</td>\n      <td>3</td>\n      <td>23</td>\n      <td>0.914817</td>\n      <td>4</td>\n    </tr>\n    <tr>\n      <th>...</th>\n      <td>...</td>\n      <td>...</td>\n      <td>...</td>\n      <td>...</td>\n      <td>...</td>\n      <td>...</td>\n      <td>...</td>\n      <td>...</td>\n      <td>...</td>\n      <td>...</td>\n      <td>...</td>\n      <td>...</td>\n      <td>...</td>\n      <td>...</td>\n      <td>...</td>\n      <td>...</td>\n      <td>...</td>\n      <td>...</td>\n      <td>...</td>\n      <td>...</td>\n      <td>...</td>\n    </tr>\n    <tr>\n      <th>2216598</th>\n      <td>2898959</td>\n      <td>Person and Vehicle search</td>\n      <td>2021-10-31 23:20:00+00:00</td>\n      <td>True</td>\n      <td>NaN</td>\n      <td>53.777483</td>\n      <td>-1.776611</td>\n      <td>Male</td>\n      <td>18-24</td>\n      <td>White - English/Welsh/Scottish/Northern Irish/...</td>\n      <td>...</td>\n      <td>Misuse of Drugs Act 1971 (section 23)</td>\n      <td>Controlled drugs</td>\n      <td>A no further action disposal</td>\n      <td>True</td>\n      <td>False</td>\n      <td>6</td>\n      <td>10</td>\n      <td>23</td>\n      <td>3.777483</td>\n      <td>11</td>\n    </tr>\n    <tr>\n      <th>2216599</th>\n      <td>2898960</td>\n      <td>Person search</td>\n      <td>2021-10-31 23:20:00+00:00</td>\n      <td>True</td>\n      <td>NaN</td>\n      <td>53.777483</td>\n      <td>-1.776611</td>\n      <td>Male</td>\n      <td>18-24</td>\n      <td>White - English/Welsh/Scottish/Northern Irish/...</td>\n      <td>...</td>\n      <td>Misuse of Drugs Act 1971 (section 23)</td>\n      <td>Controlled drugs</td>\n      <td>A no further action disposal</td>\n      <td>False</td>\n      <td>False</td>\n      <td>6</td>\n      <td>10</td>\n      <td>23</td>\n      <td>3.777483</td>\n      <td>11</td>\n    </tr>\n    <tr>\n      <th>2216600</th>\n      <td>2898961</td>\n      <td>Person search</td>\n      <td>2021-10-31 23:20:00+00:00</td>\n      <td>True</td>\n      <td>NaN</td>\n      <td>53.777483</td>\n      <td>-1.776611</td>\n      <td>Male</td>\n      <td>25-34</td>\n      <td>Asian/Asian British - Pakistani</td>\n      <td>...</td>\n      <td>Misuse of Drugs Act 1971 (section 23)</td>\n      <td>Controlled drugs</td>\n      <td>A no further action disposal</td>\n      <td>False</td>\n      <td>False</td>\n      <td>6</td>\n      <td>10</td>\n      <td>23</td>\n      <td>3.777483</td>\n      <td>11</td>\n    </tr>\n    <tr>\n      <th>2216601</th>\n      <td>2898962</td>\n      <td>Person search</td>\n      <td>2021-10-31 23:40:00+00:00</td>\n      <td>False</td>\n      <td>NaN</td>\n      <td>53.850550</td>\n      <td>-1.840857</td>\n      <td>Male</td>\n      <td>18-24</td>\n      <td>White - English/Welsh/Scottish/Northern Irish/...</td>\n      <td>...</td>\n      <td>Police and Criminal Evidence Act 1984 (section 1)</td>\n      <td>Controlled drugs</td>\n      <td>A no further action disposal</td>\n      <td>True</td>\n      <td>False</td>\n      <td>6</td>\n      <td>10</td>\n      <td>23</td>\n      <td>3.850550</td>\n      <td>11</td>\n    </tr>\n    <tr>\n      <th>2216602</th>\n      <td>2898963</td>\n      <td>Person and Vehicle search</td>\n      <td>2021-10-31 23:45:00+00:00</td>\n      <td>False</td>\n      <td>NaN</td>\n      <td>53.782293</td>\n      <td>-1.782292</td>\n      <td>Male</td>\n      <td>over 34</td>\n      <td>White - Gypsy or Irish Traveller</td>\n      <td>...</td>\n      <td>Misuse of Drugs Act 1971 (section 23)</td>\n      <td>Controlled drugs</td>\n      <td>Community resolution</td>\n      <td>True</td>\n      <td>False</td>\n      <td>6</td>\n      <td>10</td>\n      <td>23</td>\n      <td>3.782293</td>\n      <td>11</td>\n    </tr>\n  </tbody>\n</table>\n<p>2216603 rows × 21 columns</p>\n</div>"
     },
     "execution_count": 52,
     "metadata": {},
     "output_type": "execute_result"
    }
   ],
   "source": [
    "df['Date'] = pd.to_datetime(df['Date'])\n",
    "df['day of week'] = df['Date'].dt.dayofweek\n",
    "df['month'] = df['Date'].dt.month\n",
    "df['hour'] = df['Date'].dt.hour\n",
    "df['Latitude2'] = df['Latitude']-50\n",
    "df['year'] = df['Date'].dt.year -2010\n",
    "df = df[df['Longitude'].notnull()]\n",
    "df.reset_index(drop=True, inplace=True)\n",
    "df"
   ],
   "metadata": {
    "collapsed": false,
    "pycharm": {
     "name": "#%%\n"
    }
   }
  },
  {
   "cell_type": "code",
   "execution_count": 18,
   "outputs": [],
   "source": [],
   "metadata": {
    "collapsed": false,
    "pycharm": {
     "name": "#%%\n"
    }
   }
  },
  {
   "cell_type": "code",
   "execution_count": 53,
   "outputs": [
    {
     "name": "stderr",
     "output_type": "stream",
     "text": [
      "C:\\ProgramData\\Anaconda3\\envs\\my_env\\lib\\site-packages\\pandas\\core\\indexing.py:1817: SettingWithCopyWarning: \n",
      "A value is trying to be set on a copy of a slice from a DataFrame.\n",
      "Try using .loc[row_indexer,col_indexer] = value instead\n",
      "\n",
      "See the caveats in the documentation: https://pandas.pydata.org/pandas-docs/stable/user_guide/indexing.html#returning-a-view-versus-a-copy\n",
      "  self._setitem_single_column(loc, value, pi)\n"
     ]
    }
   ],
   "source": [
    "df.loc[((df['Outcome']=='A no further action disposal')|(df['Outcome']=='Nothing found - no further action')), 'Outcome'] = 'Nothing found'\n",
    "df.loc[(df['Outcome']=='Suspect arrested'), 'Outcome'] = 'Arrest'\n",
    "df.loc[(df['Outcome']=='Local resolution'), 'Outcome'] = 'Community resolution'\n",
    "df.loc[((df['Outcome']=='Offender given drugs possession warning')|(df['Outcome']=='Khat or Cannabis warning')|(df['Outcome']=='Caution (simple or conditional)')|(df['Outcome']=='Offender cautioned')|(df['Outcome']=='Suspected psychoactive substances seized - No further action')), 'Outcome'] = 'Warning'\n",
    "df.loc[((df['Outcome']=='Summons / charged by post')|(df['Outcome']=='Suspect summonsed to court')), 'Outcome'] = 'Summons'\n",
    "df.loc[((df['Outcome']=='Penalty Notice for Disorder')|(df['Outcome']=='Offender given penalty notice')), 'Outcome'] = 'Fine'\n",
    "df = df[df['Outcome']!='Article found - Detailed outcome unavailable']\n",
    "df.reset_index(drop=True, inplace=True)"
   ],
   "metadata": {
    "collapsed": false,
    "pycharm": {
     "name": "#%%\n"
    }
   }
  },
  {
   "cell_type": "code",
   "execution_count": 54,
   "outputs": [],
   "source": [
    "ethnicities = ['White - English/Welsh/Scottish/Northern Irish/British',\n",
    "               'Other ethnic group - Not stated',\n",
    "               'White - White British (W1)',\n",
    "               'White - Any other White background',\n",
    "               'Black/African/Caribbean/Black British - Any other Black/African/Caribbean background',\n",
    "               'Black/African/Caribbean/Black British - African',\n",
    "               'Asian/Asian British - Any other Asian background',\n",
    "               'Black/African/Caribbean/Black British - Caribbean',\n",
    "               'Asian/Asian British - Pakistani',\n",
    "               'Asian/Asian British - Bangladeshi',\n",
    "               'Not Stated (NS)',\n",
    "               'Other ethnic group - Any other ethnic group',\n",
    "               'White - Any other White ethnic background (W9)',\n",
    "               'Mixed/Multiple ethnic groups - Any other Mixed/Multiple ethnic background',\n",
    "               'Asian/Asian British - Indian',\n",
    "\n",
    "               'Mixed/Multiple ethnic groups - White and Black Caribbean',\n",
    "               'Black or Black British - Caribbean (B1)',\n",
    "               'Black or Black British - Any other Black ethnic background (B9)',\n",
    "               'Black or Black British - African (B2)',\n",
    "\n",
    "               'Asian or Asian British - Pakistani (A2)',\n",
    "               'White - Irish',\n",
    "               'Asian or Asian British - Any other Asian ethnic background (A9)',\n",
    "\n",
    "               'Mixed/Multiple ethnic groups - White and Black African',\n",
    "               'Asian or Asian British - Indian (A1)',\n",
    "               'Mixed - White and Black Caribbean (M1)',\n",
    "               'Mixed/Multiple ethnic groups - White and Asian',\n",
    "               'Asian or Asian British - Bangladeshi (A3)',\n",
    "               'Chinese or other ethnic group - Any other ethnic group (O9)',\n",
    "               'Mixed - Any other Mixed ethnic background (M9)',\n",
    "               'White - Gypsy or Irish Traveller',\n",
    "               'White - White Irish (W2)',\n",
    "               'Asian/Asian British - Chinese',\n",
    "               'Mixed - White and Black African (M2)',\n",
    "               'Mixed - White and Asian (M3)',\n",
    "               'Chinese or other ethnic group - Chinese (O1)',\n",
    "               'Other ethnic group - Arab']\n",
    "\n",
    "eth_w =['White - English/Welsh/Scottish/Northern Irish/British','White - White British (W1)','White - Any other White background',\n",
    "        'White - Any other White ethnic background (W9)','White - Irish','White - Gypsy or Irish Traveller',\n",
    "        'White - White Irish (W2)',]\n",
    "\n",
    "eth_b= ['Black/African/Caribbean/Black British - Any other Black/African/Caribbean background',\n",
    "        'Black/African/Caribbean/Black British - African','Black/African/Caribbean/Black British - Caribbean','Black or Black British - Caribbean (B1)','Black or Black British - Any other Black ethnic background (B9)',\n",
    "        'Black or Black British - African (B2)',]\n",
    "\n",
    "eth_a= ['Asian/Asian British - Any other Asian background','Asian/Asian British - Pakistani',\n",
    "        'Asian/Asian British - Bangladeshi','Asian/Asian British - Indian','Asian or Asian British - Pakistani (A2)',\n",
    "        'Asian or Asian British - Any other Asian ethnic background (A9)','Asian or Asian British - Indian (A1)',\n",
    "        'Asian or Asian British - Bangladeshi (A3)','Chinese or other ethnic group - Any other ethnic group (O9)',\n",
    "        'Asian/Asian British - Chinese','Chinese or other ethnic group - Chinese (O1)',]\n",
    "\n",
    "eth_o= ['Other ethnic group - Not stated','Not Stated (NS)','Other ethnic group - Any other ethnic group','Other ethnic group - Arab']\n",
    "\n",
    "eth_m= ['Mixed/Multiple ethnic groups - Any other Mixed/Multiple ethnic background',\n",
    "        'Mixed/Multiple ethnic groups - White and Black Caribbean','Mixed/Multiple ethnic groups - White and Black African',\n",
    "        'Mixed - White and Black Caribbean (M1)','Mixed/Multiple ethnic groups - White and Asian',\n",
    "        'Mixed - Any other Mixed ethnic background (M9)','Mixed - White and Black African (M2)','Mixed - White and Asian (M3)']\n",
    "\n",
    "all_eth = [eth_w,eth_b,eth_a,eth_o,eth_m]"
   ],
   "metadata": {
    "collapsed": false,
    "pycharm": {
     "name": "#%%\n"
    }
   }
  },
  {
   "cell_type": "code",
   "execution_count": 55,
   "outputs": [],
   "source": [
    "i=0\n",
    "for eth in all_eth:\n",
    "    for cat in eth:\n",
    "        if i==0:\n",
    "            df.loc[(df['Self-defined ethnicity']==cat), 'Self-defined ethnicity'] = 'White'\n",
    "        if i==1:\n",
    "            df.loc[(df['Self-defined ethnicity']==cat), 'Self-defined ethnicity'] = 'Black'\n",
    "        if i==2:\n",
    "            df.loc[(df['Self-defined ethnicity']==cat), 'Self-defined ethnicity'] = 'Asian'\n",
    "        if i==3:\n",
    "            df.loc[(df['Self-defined ethnicity']==cat), 'Self-defined ethnicity'] = 'Other'\n",
    "        if i==4:\n",
    "            df.loc[(df['Self-defined ethnicity']==cat), 'Self-defined ethnicity'] = 'Mixed'\n",
    "    i+=1\n"
   ],
   "metadata": {
    "collapsed": false,
    "pycharm": {
     "name": "#%%\n"
    }
   }
  },
  {
   "cell_type": "code",
   "execution_count": 56,
   "outputs": [
    {
     "data": {
      "text/plain": "White    1137834\nBlack     353861\nOther     347789\nAsian     232098\nMixed      70334\nName: Self-defined ethnicity, dtype: int64"
     },
     "execution_count": 56,
     "metadata": {},
     "output_type": "execute_result"
    }
   ],
   "source": [
    "df['Self-defined ethnicity'].value_counts()\n"
   ],
   "metadata": {
    "collapsed": false,
    "pycharm": {
     "name": "#%%\n"
    }
   }
  },
  {
   "cell_type": "code",
   "execution_count": 57,
   "outputs": [
    {
     "name": "stderr",
     "output_type": "stream",
     "text": [
      "C:\\Users\\20203666\\AppData\\Local\\Temp/ipykernel_17152/781482237.py:1: SettingWithCopyWarning: \n",
      "A value is trying to be set on a copy of a slice from a DataFrame.\n",
      "Try using .loc[row_indexer,col_indexer] = value instead\n",
      "\n",
      "See the caveats in the documentation: https://pandas.pydata.org/pandas-docs/stable/user_guide/indexing.html#returning-a-view-versus-a-copy\n",
      "  df['result'] = 'ö'\n"
     ]
    }
   ],
   "source": [
    "df['result'] = 'ö'\n",
    "df.loc[df['Outcome']=='Nothing found', 'result'] = 'Nothing found'"
   ],
   "metadata": {
    "collapsed": false,
    "pycharm": {
     "name": "#%%\n"
    }
   }
  },
  {
   "cell_type": "code",
   "execution_count": 58,
   "outputs": [
    {
     "name": "stderr",
     "output_type": "stream",
     "text": [
      "C:\\ProgramData\\Anaconda3\\envs\\my_env\\lib\\site-packages\\pandas\\core\\indexing.py:1773: SettingWithCopyWarning: \n",
      "A value is trying to be set on a copy of a slice from a DataFrame.\n",
      "Try using .loc[row_indexer,col_indexer] = value instead\n",
      "\n",
      "See the caveats in the documentation: https://pandas.pydata.org/pandas-docs/stable/user_guide/indexing.html#returning-a-view-versus-a-copy\n",
      "  self._setitem_single_column(ilocs[0], value, pi)\n"
     ]
    }
   ],
   "source": [
    "df.loc[df['Outcome']!='Nothing found', 'result'] = df.loc[df['Outcome']!='Nothing found', 'Object of search']"
   ],
   "metadata": {
    "collapsed": false,
    "pycharm": {
     "name": "#%%\n"
    }
   }
  },
  {
   "cell_type": "code",
   "execution_count": 58,
   "outputs": [],
   "source": [],
   "metadata": {
    "collapsed": false,
    "pycharm": {
     "name": "#%%\n"
    }
   }
  },
  {
   "cell_type": "code",
   "execution_count": 59,
   "outputs": [],
   "source": [
    "df.loc[((df['result']=='Controlled drugs')|(df['result']=='Psychoactive substances')), 'result'] = 'Drugs'\n",
    "df.loc[(df['result']=='Goods on which duty has not been paid etc.'), 'result'] = 'Stolen goods'\n",
    "df.loc[((df['result']=='Offensive weapons')|(df['result']=='Anything to threaten or harm anyone')|(df['result']=='Firearms')\n",
    "        |(df['result']=='Fireworks')|(df['result']=='Crossbows')|(df['result']=='Seals or hunting equipment')), 'result'] = 'Weapons'\n",
    "df.loc[((df['result']=='Articles for use in criminal damage')|(df['result']=='Article for use in theft')\n",
    "        |(df['result']=='Game or poaching equipment')), 'result'] = 'Forbidden articles'\n",
    "df.loc[((df['result']=='Evidence of offences under the Act')|(df['result']=='Evidence of wildlife offences')\n",
    "        |(df['result']=='Evidence of hunting any wild mammal with a dog')), 'result'] = 'Evidence'\n",
    "df = df[df['result']!='Detailed object of search unavailable']\n",
    "df.reset_index(drop=True, inplace=True)"
   ],
   "metadata": {
    "collapsed": false,
    "pycharm": {
     "name": "#%%\n"
    }
   }
  },
  {
   "cell_type": "code",
   "execution_count": 60,
   "outputs": [
    {
     "data": {
      "text/plain": "Nothing found         1597330\nDrugs                  382249\nWeapons                 64377\nStolen goods            60040\nForbidden articles      47906\nEvidence                 9643\nName: result, dtype: int64"
     },
     "execution_count": 60,
     "metadata": {},
     "output_type": "execute_result"
    }
   ],
   "source": [
    "df['result'].value_counts()"
   ],
   "metadata": {
    "collapsed": false,
    "pycharm": {
     "name": "#%%\n"
    }
   }
  },
  {
   "cell_type": "code",
   "execution_count": 61,
   "outputs": [
    {
     "data": {
      "text/plain": "Nothing found           1597330\nArrest                   296928\nCommunity resolution     119507\nWarning                   76349\nSummons                   39169\nFine                      35921\nName: Outcome, dtype: int64"
     },
     "execution_count": 61,
     "metadata": {},
     "output_type": "execute_result"
    }
   ],
   "source": [
    "df['Outcome'].value_counts()"
   ],
   "metadata": {
    "collapsed": false,
    "pycharm": {
     "name": "#%%\n"
    }
   }
  },
  {
   "cell_type": "code",
   "execution_count": 62,
   "outputs": [
    {
     "data": {
      "text/plain": "         Unnamed: 0                       Type                      Date  \\\n0                 1              Person search 2014-03-31 23:05:00+00:00   \n1                 2              Person search 2014-03-31 23:05:00+00:00   \n2                 3              Person search 2014-03-31 23:05:00+00:00   \n3                 4              Person search 2014-03-31 23:05:00+00:00   \n4                 5              Person search 2014-03-31 23:45:00+00:00   \n...             ...                        ...                       ...   \n2204354     2898959  Person and Vehicle search 2021-10-31 23:20:00+00:00   \n2204355     2898960              Person search 2021-10-31 23:20:00+00:00   \n2204356     2898961              Person search 2021-10-31 23:20:00+00:00   \n2204357     2898962              Person search 2021-10-31 23:40:00+00:00   \n2204358     2898963  Person and Vehicle search 2021-10-31 23:45:00+00:00   \n\n        Part of a policing operation Policing operation   Latitude  Longitude  \\\n0                                NaN                NaN  50.844310  -1.067920   \n1                                NaN                NaN  50.844310  -1.067920   \n2                                NaN                NaN  50.813747  -1.078507   \n3                                NaN                NaN  50.844310  -1.067920   \n4                                NaN                NaN  50.914817  -1.329434   \n...                              ...                ...        ...        ...   \n2204354                         True                NaN  53.777483  -1.776611   \n2204355                         True                NaN  53.777483  -1.776611   \n2204356                         True                NaN  53.777483  -1.776611   \n2204357                        False                NaN  53.850550  -1.840857   \n2204358                        False                NaN  53.782293  -1.782292   \n\n        Gender Age range Self-defined ethnicity  ...  \\\n0         Male     18-24                  White  ...   \n1         Male     18-24                  White  ...   \n2         Male   over 34                  White  ...   \n3         Male     18-24                  White  ...   \n4         Male     18-24                  White  ...   \n...        ...       ...                    ...  ...   \n2204354   Male     18-24                  White  ...   \n2204355   Male     18-24                  White  ...   \n2204356   Male     25-34                  Asian  ...   \n2204357   Male     18-24                  White  ...   \n2204358   Male   over 34                  White  ...   \n\n                 Object of search               Outcome  \\\n0                    Stolen goods         Nothing found   \n1                    Stolen goods         Nothing found   \n2        Article for use in theft         Nothing found   \n3                    Stolen goods         Nothing found   \n4        Article for use in theft         Nothing found   \n...                           ...                   ...   \n2204354          Controlled drugs         Nothing found   \n2204355          Controlled drugs         Nothing found   \n2204356          Controlled drugs         Nothing found   \n2204357          Controlled drugs         Nothing found   \n2204358          Controlled drugs  Community resolution   \n\n        Outcome linked to object of search  \\\n0                                      NaN   \n1                                      NaN   \n2                                      NaN   \n3                                      NaN   \n4                                      NaN   \n...                                    ...   \n2204354                               True   \n2204355                              False   \n2204356                              False   \n2204357                               True   \n2204358                               True   \n\n        Removal of more than just outer clothing day of week month  hour  \\\n0                                            NaN           0     3    23   \n1                                            NaN           0     3    23   \n2                                            NaN           0     3    23   \n3                                            NaN           0     3    23   \n4                                            NaN           0     3    23   \n...                                          ...         ...   ...   ...   \n2204354                                    False           6    10    23   \n2204355                                    False           6    10    23   \n2204356                                    False           6    10    23   \n2204357                                    False           6    10    23   \n2204358                                    False           6    10    23   \n\n         Latitude2  year         result  \n0         0.844310     4  Nothing found  \n1         0.844310     4  Nothing found  \n2         0.813747     4  Nothing found  \n3         0.844310     4  Nothing found  \n4         0.914817     4  Nothing found  \n...            ...   ...            ...  \n2204354   3.777483    11  Nothing found  \n2204355   3.777483    11  Nothing found  \n2204356   3.777483    11  Nothing found  \n2204357   3.850550    11  Nothing found  \n2204358   3.782293    11          Drugs  \n\n[2204359 rows x 22 columns]",
      "text/html": "<div>\n<style scoped>\n    .dataframe tbody tr th:only-of-type {\n        vertical-align: middle;\n    }\n\n    .dataframe tbody tr th {\n        vertical-align: top;\n    }\n\n    .dataframe thead th {\n        text-align: right;\n    }\n</style>\n<table border=\"1\" class=\"dataframe\">\n  <thead>\n    <tr style=\"text-align: right;\">\n      <th></th>\n      <th>Unnamed: 0</th>\n      <th>Type</th>\n      <th>Date</th>\n      <th>Part of a policing operation</th>\n      <th>Policing operation</th>\n      <th>Latitude</th>\n      <th>Longitude</th>\n      <th>Gender</th>\n      <th>Age range</th>\n      <th>Self-defined ethnicity</th>\n      <th>...</th>\n      <th>Object of search</th>\n      <th>Outcome</th>\n      <th>Outcome linked to object of search</th>\n      <th>Removal of more than just outer clothing</th>\n      <th>day of week</th>\n      <th>month</th>\n      <th>hour</th>\n      <th>Latitude2</th>\n      <th>year</th>\n      <th>result</th>\n    </tr>\n  </thead>\n  <tbody>\n    <tr>\n      <th>0</th>\n      <td>1</td>\n      <td>Person search</td>\n      <td>2014-03-31 23:05:00+00:00</td>\n      <td>NaN</td>\n      <td>NaN</td>\n      <td>50.844310</td>\n      <td>-1.067920</td>\n      <td>Male</td>\n      <td>18-24</td>\n      <td>White</td>\n      <td>...</td>\n      <td>Stolen goods</td>\n      <td>Nothing found</td>\n      <td>NaN</td>\n      <td>NaN</td>\n      <td>0</td>\n      <td>3</td>\n      <td>23</td>\n      <td>0.844310</td>\n      <td>4</td>\n      <td>Nothing found</td>\n    </tr>\n    <tr>\n      <th>1</th>\n      <td>2</td>\n      <td>Person search</td>\n      <td>2014-03-31 23:05:00+00:00</td>\n      <td>NaN</td>\n      <td>NaN</td>\n      <td>50.844310</td>\n      <td>-1.067920</td>\n      <td>Male</td>\n      <td>18-24</td>\n      <td>White</td>\n      <td>...</td>\n      <td>Stolen goods</td>\n      <td>Nothing found</td>\n      <td>NaN</td>\n      <td>NaN</td>\n      <td>0</td>\n      <td>3</td>\n      <td>23</td>\n      <td>0.844310</td>\n      <td>4</td>\n      <td>Nothing found</td>\n    </tr>\n    <tr>\n      <th>2</th>\n      <td>3</td>\n      <td>Person search</td>\n      <td>2014-03-31 23:05:00+00:00</td>\n      <td>NaN</td>\n      <td>NaN</td>\n      <td>50.813747</td>\n      <td>-1.078507</td>\n      <td>Male</td>\n      <td>over 34</td>\n      <td>White</td>\n      <td>...</td>\n      <td>Article for use in theft</td>\n      <td>Nothing found</td>\n      <td>NaN</td>\n      <td>NaN</td>\n      <td>0</td>\n      <td>3</td>\n      <td>23</td>\n      <td>0.813747</td>\n      <td>4</td>\n      <td>Nothing found</td>\n    </tr>\n    <tr>\n      <th>3</th>\n      <td>4</td>\n      <td>Person search</td>\n      <td>2014-03-31 23:05:00+00:00</td>\n      <td>NaN</td>\n      <td>NaN</td>\n      <td>50.844310</td>\n      <td>-1.067920</td>\n      <td>Male</td>\n      <td>18-24</td>\n      <td>White</td>\n      <td>...</td>\n      <td>Stolen goods</td>\n      <td>Nothing found</td>\n      <td>NaN</td>\n      <td>NaN</td>\n      <td>0</td>\n      <td>3</td>\n      <td>23</td>\n      <td>0.844310</td>\n      <td>4</td>\n      <td>Nothing found</td>\n    </tr>\n    <tr>\n      <th>4</th>\n      <td>5</td>\n      <td>Person search</td>\n      <td>2014-03-31 23:45:00+00:00</td>\n      <td>NaN</td>\n      <td>NaN</td>\n      <td>50.914817</td>\n      <td>-1.329434</td>\n      <td>Male</td>\n      <td>18-24</td>\n      <td>White</td>\n      <td>...</td>\n      <td>Article for use in theft</td>\n      <td>Nothing found</td>\n      <td>NaN</td>\n      <td>NaN</td>\n      <td>0</td>\n      <td>3</td>\n      <td>23</td>\n      <td>0.914817</td>\n      <td>4</td>\n      <td>Nothing found</td>\n    </tr>\n    <tr>\n      <th>...</th>\n      <td>...</td>\n      <td>...</td>\n      <td>...</td>\n      <td>...</td>\n      <td>...</td>\n      <td>...</td>\n      <td>...</td>\n      <td>...</td>\n      <td>...</td>\n      <td>...</td>\n      <td>...</td>\n      <td>...</td>\n      <td>...</td>\n      <td>...</td>\n      <td>...</td>\n      <td>...</td>\n      <td>...</td>\n      <td>...</td>\n      <td>...</td>\n      <td>...</td>\n      <td>...</td>\n    </tr>\n    <tr>\n      <th>2204354</th>\n      <td>2898959</td>\n      <td>Person and Vehicle search</td>\n      <td>2021-10-31 23:20:00+00:00</td>\n      <td>True</td>\n      <td>NaN</td>\n      <td>53.777483</td>\n      <td>-1.776611</td>\n      <td>Male</td>\n      <td>18-24</td>\n      <td>White</td>\n      <td>...</td>\n      <td>Controlled drugs</td>\n      <td>Nothing found</td>\n      <td>True</td>\n      <td>False</td>\n      <td>6</td>\n      <td>10</td>\n      <td>23</td>\n      <td>3.777483</td>\n      <td>11</td>\n      <td>Nothing found</td>\n    </tr>\n    <tr>\n      <th>2204355</th>\n      <td>2898960</td>\n      <td>Person search</td>\n      <td>2021-10-31 23:20:00+00:00</td>\n      <td>True</td>\n      <td>NaN</td>\n      <td>53.777483</td>\n      <td>-1.776611</td>\n      <td>Male</td>\n      <td>18-24</td>\n      <td>White</td>\n      <td>...</td>\n      <td>Controlled drugs</td>\n      <td>Nothing found</td>\n      <td>False</td>\n      <td>False</td>\n      <td>6</td>\n      <td>10</td>\n      <td>23</td>\n      <td>3.777483</td>\n      <td>11</td>\n      <td>Nothing found</td>\n    </tr>\n    <tr>\n      <th>2204356</th>\n      <td>2898961</td>\n      <td>Person search</td>\n      <td>2021-10-31 23:20:00+00:00</td>\n      <td>True</td>\n      <td>NaN</td>\n      <td>53.777483</td>\n      <td>-1.776611</td>\n      <td>Male</td>\n      <td>25-34</td>\n      <td>Asian</td>\n      <td>...</td>\n      <td>Controlled drugs</td>\n      <td>Nothing found</td>\n      <td>False</td>\n      <td>False</td>\n      <td>6</td>\n      <td>10</td>\n      <td>23</td>\n      <td>3.777483</td>\n      <td>11</td>\n      <td>Nothing found</td>\n    </tr>\n    <tr>\n      <th>2204357</th>\n      <td>2898962</td>\n      <td>Person search</td>\n      <td>2021-10-31 23:40:00+00:00</td>\n      <td>False</td>\n      <td>NaN</td>\n      <td>53.850550</td>\n      <td>-1.840857</td>\n      <td>Male</td>\n      <td>18-24</td>\n      <td>White</td>\n      <td>...</td>\n      <td>Controlled drugs</td>\n      <td>Nothing found</td>\n      <td>True</td>\n      <td>False</td>\n      <td>6</td>\n      <td>10</td>\n      <td>23</td>\n      <td>3.850550</td>\n      <td>11</td>\n      <td>Nothing found</td>\n    </tr>\n    <tr>\n      <th>2204358</th>\n      <td>2898963</td>\n      <td>Person and Vehicle search</td>\n      <td>2021-10-31 23:45:00+00:00</td>\n      <td>False</td>\n      <td>NaN</td>\n      <td>53.782293</td>\n      <td>-1.782292</td>\n      <td>Male</td>\n      <td>over 34</td>\n      <td>White</td>\n      <td>...</td>\n      <td>Controlled drugs</td>\n      <td>Community resolution</td>\n      <td>True</td>\n      <td>False</td>\n      <td>6</td>\n      <td>10</td>\n      <td>23</td>\n      <td>3.782293</td>\n      <td>11</td>\n      <td>Drugs</td>\n    </tr>\n  </tbody>\n</table>\n<p>2204359 rows × 22 columns</p>\n</div>"
     },
     "execution_count": 62,
     "metadata": {},
     "output_type": "execute_result"
    }
   ],
   "source": [
    "df"
   ],
   "metadata": {
    "collapsed": false,
    "pycharm": {
     "name": "#%%\n"
    }
   }
  },
  {
   "cell_type": "code",
   "execution_count": 70,
   "outputs": [],
   "source": [],
   "metadata": {
    "collapsed": false,
    "pycharm": {
     "name": "#%%\n"
    }
   }
  },
  {
   "cell_type": "code",
   "execution_count": 70,
   "outputs": [],
   "source": [],
   "metadata": {
    "collapsed": false,
    "pycharm": {
     "name": "#%%\n"
    }
   }
  },
  {
   "cell_type": "code",
   "execution_count": 47,
   "outputs": [
    {
     "data": {
      "text/plain": "                              Type                      Date  Latitude2  \\\n0                    Person search 2014-03-31 23:05:00+00:00   0.844310   \n1                    Person search 2014-03-31 23:05:00+00:00   0.844310   \n2                    Person search 2014-03-31 23:05:00+00:00   0.813747   \n3                    Person search 2014-03-31 23:05:00+00:00   0.844310   \n4                    Person search 2014-03-31 23:45:00+00:00   0.914817   \n...                            ...                       ...        ...   \n2204354  Person and Vehicle search 2021-10-31 23:20:00+00:00   3.777483   \n2204355              Person search 2021-10-31 23:20:00+00:00   3.777483   \n2204356              Person search 2021-10-31 23:20:00+00:00   3.777483   \n2204357              Person search 2021-10-31 23:40:00+00:00   3.850550   \n2204358  Person and Vehicle search 2021-10-31 23:45:00+00:00   3.782293   \n\n          Latitude  Longitude Gender Age range  \\\n0        50.844310  -1.067920   Male     18-24   \n1        50.844310  -1.067920   Male     18-24   \n2        50.813747  -1.078507   Male   over 34   \n3        50.844310  -1.067920   Male     18-24   \n4        50.914817  -1.329434   Male     18-24   \n...            ...        ...    ...       ...   \n2204354  53.777483  -1.776611   Male     18-24   \n2204355  53.777483  -1.776611   Male     18-24   \n2204356  53.777483  -1.776611   Male     25-34   \n2204357  53.850550  -1.840857   Male     18-24   \n2204358  53.782293  -1.782292   Male   over 34   \n\n                                    Self-defined ethnicity  \\\n0                               White - White British (W1)   \n1                               White - White British (W1)   \n2                               White - White British (W1)   \n3                               White - White British (W1)   \n4                               White - White British (W1)   \n...                                                    ...   \n2204354  White - English/Welsh/Scottish/Northern Irish/...   \n2204355  White - English/Welsh/Scottish/Northern Irish/...   \n2204356                    Asian/Asian British - Pakistani   \n2204357  White - English/Welsh/Scottish/Northern Irish/...   \n2204358                   White - Gypsy or Irish Traveller   \n\n        Officer-defined ethnicity  day of week  month  hour  year  \\\n0                           White            0      3    23     4   \n1                           White            0      3    23     4   \n2                           White            0      3    23     4   \n3                           White            0      3    23     4   \n4                           White            0      3    23     4   \n...                           ...          ...    ...   ...   ...   \n2204354                     White            6     10    23    11   \n2204355                     White            6     10    23    11   \n2204356                     Asian            6     10    23    11   \n2204357                     White            6     10    23    11   \n2204358                     White            6     10    23    11   \n\n                      Outcome         result  \n0               Nothing found  Nothing found  \n1               Nothing found  Nothing found  \n2               Nothing found  Nothing found  \n3               Nothing found  Nothing found  \n4               Nothing found  Nothing found  \n...                       ...            ...  \n2204354         Nothing found  Nothing found  \n2204355         Nothing found  Nothing found  \n2204356         Nothing found  Nothing found  \n2204357         Nothing found  Nothing found  \n2204358  Community resolution          Drugs  \n\n[2204359 rows x 15 columns]",
      "text/html": "<div>\n<style scoped>\n    .dataframe tbody tr th:only-of-type {\n        vertical-align: middle;\n    }\n\n    .dataframe tbody tr th {\n        vertical-align: top;\n    }\n\n    .dataframe thead th {\n        text-align: right;\n    }\n</style>\n<table border=\"1\" class=\"dataframe\">\n  <thead>\n    <tr style=\"text-align: right;\">\n      <th></th>\n      <th>Type</th>\n      <th>Date</th>\n      <th>Latitude2</th>\n      <th>Latitude</th>\n      <th>Longitude</th>\n      <th>Gender</th>\n      <th>Age range</th>\n      <th>Self-defined ethnicity</th>\n      <th>Officer-defined ethnicity</th>\n      <th>day of week</th>\n      <th>month</th>\n      <th>hour</th>\n      <th>year</th>\n      <th>Outcome</th>\n      <th>result</th>\n    </tr>\n  </thead>\n  <tbody>\n    <tr>\n      <th>0</th>\n      <td>Person search</td>\n      <td>2014-03-31 23:05:00+00:00</td>\n      <td>0.844310</td>\n      <td>50.844310</td>\n      <td>-1.067920</td>\n      <td>Male</td>\n      <td>18-24</td>\n      <td>White - White British (W1)</td>\n      <td>White</td>\n      <td>0</td>\n      <td>3</td>\n      <td>23</td>\n      <td>4</td>\n      <td>Nothing found</td>\n      <td>Nothing found</td>\n    </tr>\n    <tr>\n      <th>1</th>\n      <td>Person search</td>\n      <td>2014-03-31 23:05:00+00:00</td>\n      <td>0.844310</td>\n      <td>50.844310</td>\n      <td>-1.067920</td>\n      <td>Male</td>\n      <td>18-24</td>\n      <td>White - White British (W1)</td>\n      <td>White</td>\n      <td>0</td>\n      <td>3</td>\n      <td>23</td>\n      <td>4</td>\n      <td>Nothing found</td>\n      <td>Nothing found</td>\n    </tr>\n    <tr>\n      <th>2</th>\n      <td>Person search</td>\n      <td>2014-03-31 23:05:00+00:00</td>\n      <td>0.813747</td>\n      <td>50.813747</td>\n      <td>-1.078507</td>\n      <td>Male</td>\n      <td>over 34</td>\n      <td>White - White British (W1)</td>\n      <td>White</td>\n      <td>0</td>\n      <td>3</td>\n      <td>23</td>\n      <td>4</td>\n      <td>Nothing found</td>\n      <td>Nothing found</td>\n    </tr>\n    <tr>\n      <th>3</th>\n      <td>Person search</td>\n      <td>2014-03-31 23:05:00+00:00</td>\n      <td>0.844310</td>\n      <td>50.844310</td>\n      <td>-1.067920</td>\n      <td>Male</td>\n      <td>18-24</td>\n      <td>White - White British (W1)</td>\n      <td>White</td>\n      <td>0</td>\n      <td>3</td>\n      <td>23</td>\n      <td>4</td>\n      <td>Nothing found</td>\n      <td>Nothing found</td>\n    </tr>\n    <tr>\n      <th>4</th>\n      <td>Person search</td>\n      <td>2014-03-31 23:45:00+00:00</td>\n      <td>0.914817</td>\n      <td>50.914817</td>\n      <td>-1.329434</td>\n      <td>Male</td>\n      <td>18-24</td>\n      <td>White - White British (W1)</td>\n      <td>White</td>\n      <td>0</td>\n      <td>3</td>\n      <td>23</td>\n      <td>4</td>\n      <td>Nothing found</td>\n      <td>Nothing found</td>\n    </tr>\n    <tr>\n      <th>...</th>\n      <td>...</td>\n      <td>...</td>\n      <td>...</td>\n      <td>...</td>\n      <td>...</td>\n      <td>...</td>\n      <td>...</td>\n      <td>...</td>\n      <td>...</td>\n      <td>...</td>\n      <td>...</td>\n      <td>...</td>\n      <td>...</td>\n      <td>...</td>\n      <td>...</td>\n    </tr>\n    <tr>\n      <th>2204354</th>\n      <td>Person and Vehicle search</td>\n      <td>2021-10-31 23:20:00+00:00</td>\n      <td>3.777483</td>\n      <td>53.777483</td>\n      <td>-1.776611</td>\n      <td>Male</td>\n      <td>18-24</td>\n      <td>White - English/Welsh/Scottish/Northern Irish/...</td>\n      <td>White</td>\n      <td>6</td>\n      <td>10</td>\n      <td>23</td>\n      <td>11</td>\n      <td>Nothing found</td>\n      <td>Nothing found</td>\n    </tr>\n    <tr>\n      <th>2204355</th>\n      <td>Person search</td>\n      <td>2021-10-31 23:20:00+00:00</td>\n      <td>3.777483</td>\n      <td>53.777483</td>\n      <td>-1.776611</td>\n      <td>Male</td>\n      <td>18-24</td>\n      <td>White - English/Welsh/Scottish/Northern Irish/...</td>\n      <td>White</td>\n      <td>6</td>\n      <td>10</td>\n      <td>23</td>\n      <td>11</td>\n      <td>Nothing found</td>\n      <td>Nothing found</td>\n    </tr>\n    <tr>\n      <th>2204356</th>\n      <td>Person search</td>\n      <td>2021-10-31 23:20:00+00:00</td>\n      <td>3.777483</td>\n      <td>53.777483</td>\n      <td>-1.776611</td>\n      <td>Male</td>\n      <td>25-34</td>\n      <td>Asian/Asian British - Pakistani</td>\n      <td>Asian</td>\n      <td>6</td>\n      <td>10</td>\n      <td>23</td>\n      <td>11</td>\n      <td>Nothing found</td>\n      <td>Nothing found</td>\n    </tr>\n    <tr>\n      <th>2204357</th>\n      <td>Person search</td>\n      <td>2021-10-31 23:40:00+00:00</td>\n      <td>3.850550</td>\n      <td>53.850550</td>\n      <td>-1.840857</td>\n      <td>Male</td>\n      <td>18-24</td>\n      <td>White - English/Welsh/Scottish/Northern Irish/...</td>\n      <td>White</td>\n      <td>6</td>\n      <td>10</td>\n      <td>23</td>\n      <td>11</td>\n      <td>Nothing found</td>\n      <td>Nothing found</td>\n    </tr>\n    <tr>\n      <th>2204358</th>\n      <td>Person and Vehicle search</td>\n      <td>2021-10-31 23:45:00+00:00</td>\n      <td>3.782293</td>\n      <td>53.782293</td>\n      <td>-1.782292</td>\n      <td>Male</td>\n      <td>over 34</td>\n      <td>White - Gypsy or Irish Traveller</td>\n      <td>White</td>\n      <td>6</td>\n      <td>10</td>\n      <td>23</td>\n      <td>11</td>\n      <td>Community resolution</td>\n      <td>Drugs</td>\n    </tr>\n  </tbody>\n</table>\n<p>2204359 rows × 15 columns</p>\n</div>"
     },
     "execution_count": 47,
     "metadata": {},
     "output_type": "execute_result"
    }
   ],
   "source": [
    "df = df[['Type','Date', 'Latitude2','Latitude', 'Longitude', 'Gender', 'Age range', 'Self-defined ethnicity', 'Officer-defined ethnicity', 'day of week', 'month', 'hour', 'year', 'Legislation', 'Object of search', 'Outcome', 'result']]\n",
    "df"
   ],
   "metadata": {
    "collapsed": false,
    "pycharm": {
     "name": "#%%\n"
    }
   }
  },
  {
   "cell_type": "code",
   "execution_count": 48,
   "outputs": [],
   "source": [
    "df1 = df.dropna()\n",
    "df1.reset_index(drop=True, inplace=True)"
   ],
   "metadata": {
    "collapsed": false,
    "pycharm": {
     "name": "#%%\n"
    }
   }
  },
  {
   "cell_type": "code",
   "execution_count": 49,
   "outputs": [
    {
     "data": {
      "text/plain": "                              Type                      Date  Latitude2  \\\n0                    Person search 2014-03-31 23:05:00+00:00   0.844310   \n1                    Person search 2014-03-31 23:05:00+00:00   0.844310   \n2                    Person search 2014-03-31 23:05:00+00:00   0.813747   \n3                    Person search 2014-03-31 23:05:00+00:00   0.844310   \n4                    Person search 2014-03-31 23:45:00+00:00   0.914817   \n...                            ...                       ...        ...   \n1756847  Person and Vehicle search 2021-10-31 23:20:00+00:00   3.777483   \n1756848              Person search 2021-10-31 23:20:00+00:00   3.777483   \n1756849              Person search 2021-10-31 23:20:00+00:00   3.777483   \n1756850              Person search 2021-10-31 23:40:00+00:00   3.850550   \n1756851  Person and Vehicle search 2021-10-31 23:45:00+00:00   3.782293   \n\n          Latitude  Longitude Gender Age range  \\\n0        50.844310  -1.067920   Male     18-24   \n1        50.844310  -1.067920   Male     18-24   \n2        50.813747  -1.078507   Male   over 34   \n3        50.844310  -1.067920   Male     18-24   \n4        50.914817  -1.329434   Male     18-24   \n...            ...        ...    ...       ...   \n1756847  53.777483  -1.776611   Male     18-24   \n1756848  53.777483  -1.776611   Male     18-24   \n1756849  53.777483  -1.776611   Male     25-34   \n1756850  53.850550  -1.840857   Male     18-24   \n1756851  53.782293  -1.782292   Male   over 34   \n\n                                    Self-defined ethnicity  \\\n0                               White - White British (W1)   \n1                               White - White British (W1)   \n2                               White - White British (W1)   \n3                               White - White British (W1)   \n4                               White - White British (W1)   \n...                                                    ...   \n1756847  White - English/Welsh/Scottish/Northern Irish/...   \n1756848  White - English/Welsh/Scottish/Northern Irish/...   \n1756849                    Asian/Asian British - Pakistani   \n1756850  White - English/Welsh/Scottish/Northern Irish/...   \n1756851                   White - Gypsy or Irish Traveller   \n\n        Officer-defined ethnicity  day of week  month  hour  year  \\\n0                           White            0      3    23     4   \n1                           White            0      3    23     4   \n2                           White            0      3    23     4   \n3                           White            0      3    23     4   \n4                           White            0      3    23     4   \n...                           ...          ...    ...   ...   ...   \n1756847                     White            6     10    23    11   \n1756848                     White            6     10    23    11   \n1756849                     Asian            6     10    23    11   \n1756850                     White            6     10    23    11   \n1756851                     White            6     10    23    11   \n\n                      Outcome         result  \n0               Nothing found  Nothing found  \n1               Nothing found  Nothing found  \n2               Nothing found  Nothing found  \n3               Nothing found  Nothing found  \n4               Nothing found  Nothing found  \n...                       ...            ...  \n1756847         Nothing found  Nothing found  \n1756848         Nothing found  Nothing found  \n1756849         Nothing found  Nothing found  \n1756850         Nothing found  Nothing found  \n1756851  Community resolution          Drugs  \n\n[1756852 rows x 15 columns]",
      "text/html": "<div>\n<style scoped>\n    .dataframe tbody tr th:only-of-type {\n        vertical-align: middle;\n    }\n\n    .dataframe tbody tr th {\n        vertical-align: top;\n    }\n\n    .dataframe thead th {\n        text-align: right;\n    }\n</style>\n<table border=\"1\" class=\"dataframe\">\n  <thead>\n    <tr style=\"text-align: right;\">\n      <th></th>\n      <th>Type</th>\n      <th>Date</th>\n      <th>Latitude2</th>\n      <th>Latitude</th>\n      <th>Longitude</th>\n      <th>Gender</th>\n      <th>Age range</th>\n      <th>Self-defined ethnicity</th>\n      <th>Officer-defined ethnicity</th>\n      <th>day of week</th>\n      <th>month</th>\n      <th>hour</th>\n      <th>year</th>\n      <th>Outcome</th>\n      <th>result</th>\n    </tr>\n  </thead>\n  <tbody>\n    <tr>\n      <th>0</th>\n      <td>Person search</td>\n      <td>2014-03-31 23:05:00+00:00</td>\n      <td>0.844310</td>\n      <td>50.844310</td>\n      <td>-1.067920</td>\n      <td>Male</td>\n      <td>18-24</td>\n      <td>White - White British (W1)</td>\n      <td>White</td>\n      <td>0</td>\n      <td>3</td>\n      <td>23</td>\n      <td>4</td>\n      <td>Nothing found</td>\n      <td>Nothing found</td>\n    </tr>\n    <tr>\n      <th>1</th>\n      <td>Person search</td>\n      <td>2014-03-31 23:05:00+00:00</td>\n      <td>0.844310</td>\n      <td>50.844310</td>\n      <td>-1.067920</td>\n      <td>Male</td>\n      <td>18-24</td>\n      <td>White - White British (W1)</td>\n      <td>White</td>\n      <td>0</td>\n      <td>3</td>\n      <td>23</td>\n      <td>4</td>\n      <td>Nothing found</td>\n      <td>Nothing found</td>\n    </tr>\n    <tr>\n      <th>2</th>\n      <td>Person search</td>\n      <td>2014-03-31 23:05:00+00:00</td>\n      <td>0.813747</td>\n      <td>50.813747</td>\n      <td>-1.078507</td>\n      <td>Male</td>\n      <td>over 34</td>\n      <td>White - White British (W1)</td>\n      <td>White</td>\n      <td>0</td>\n      <td>3</td>\n      <td>23</td>\n      <td>4</td>\n      <td>Nothing found</td>\n      <td>Nothing found</td>\n    </tr>\n    <tr>\n      <th>3</th>\n      <td>Person search</td>\n      <td>2014-03-31 23:05:00+00:00</td>\n      <td>0.844310</td>\n      <td>50.844310</td>\n      <td>-1.067920</td>\n      <td>Male</td>\n      <td>18-24</td>\n      <td>White - White British (W1)</td>\n      <td>White</td>\n      <td>0</td>\n      <td>3</td>\n      <td>23</td>\n      <td>4</td>\n      <td>Nothing found</td>\n      <td>Nothing found</td>\n    </tr>\n    <tr>\n      <th>4</th>\n      <td>Person search</td>\n      <td>2014-03-31 23:45:00+00:00</td>\n      <td>0.914817</td>\n      <td>50.914817</td>\n      <td>-1.329434</td>\n      <td>Male</td>\n      <td>18-24</td>\n      <td>White - White British (W1)</td>\n      <td>White</td>\n      <td>0</td>\n      <td>3</td>\n      <td>23</td>\n      <td>4</td>\n      <td>Nothing found</td>\n      <td>Nothing found</td>\n    </tr>\n    <tr>\n      <th>...</th>\n      <td>...</td>\n      <td>...</td>\n      <td>...</td>\n      <td>...</td>\n      <td>...</td>\n      <td>...</td>\n      <td>...</td>\n      <td>...</td>\n      <td>...</td>\n      <td>...</td>\n      <td>...</td>\n      <td>...</td>\n      <td>...</td>\n      <td>...</td>\n      <td>...</td>\n    </tr>\n    <tr>\n      <th>1756847</th>\n      <td>Person and Vehicle search</td>\n      <td>2021-10-31 23:20:00+00:00</td>\n      <td>3.777483</td>\n      <td>53.777483</td>\n      <td>-1.776611</td>\n      <td>Male</td>\n      <td>18-24</td>\n      <td>White - English/Welsh/Scottish/Northern Irish/...</td>\n      <td>White</td>\n      <td>6</td>\n      <td>10</td>\n      <td>23</td>\n      <td>11</td>\n      <td>Nothing found</td>\n      <td>Nothing found</td>\n    </tr>\n    <tr>\n      <th>1756848</th>\n      <td>Person search</td>\n      <td>2021-10-31 23:20:00+00:00</td>\n      <td>3.777483</td>\n      <td>53.777483</td>\n      <td>-1.776611</td>\n      <td>Male</td>\n      <td>18-24</td>\n      <td>White - English/Welsh/Scottish/Northern Irish/...</td>\n      <td>White</td>\n      <td>6</td>\n      <td>10</td>\n      <td>23</td>\n      <td>11</td>\n      <td>Nothing found</td>\n      <td>Nothing found</td>\n    </tr>\n    <tr>\n      <th>1756849</th>\n      <td>Person search</td>\n      <td>2021-10-31 23:20:00+00:00</td>\n      <td>3.777483</td>\n      <td>53.777483</td>\n      <td>-1.776611</td>\n      <td>Male</td>\n      <td>25-34</td>\n      <td>Asian/Asian British - Pakistani</td>\n      <td>Asian</td>\n      <td>6</td>\n      <td>10</td>\n      <td>23</td>\n      <td>11</td>\n      <td>Nothing found</td>\n      <td>Nothing found</td>\n    </tr>\n    <tr>\n      <th>1756850</th>\n      <td>Person search</td>\n      <td>2021-10-31 23:40:00+00:00</td>\n      <td>3.850550</td>\n      <td>53.850550</td>\n      <td>-1.840857</td>\n      <td>Male</td>\n      <td>18-24</td>\n      <td>White - English/Welsh/Scottish/Northern Irish/...</td>\n      <td>White</td>\n      <td>6</td>\n      <td>10</td>\n      <td>23</td>\n      <td>11</td>\n      <td>Nothing found</td>\n      <td>Nothing found</td>\n    </tr>\n    <tr>\n      <th>1756851</th>\n      <td>Person and Vehicle search</td>\n      <td>2021-10-31 23:45:00+00:00</td>\n      <td>3.782293</td>\n      <td>53.782293</td>\n      <td>-1.782292</td>\n      <td>Male</td>\n      <td>over 34</td>\n      <td>White - Gypsy or Irish Traveller</td>\n      <td>White</td>\n      <td>6</td>\n      <td>10</td>\n      <td>23</td>\n      <td>11</td>\n      <td>Community resolution</td>\n      <td>Drugs</td>\n    </tr>\n  </tbody>\n</table>\n<p>1756852 rows × 15 columns</p>\n</div>"
     },
     "execution_count": 49,
     "metadata": {},
     "output_type": "execute_result"
    }
   ],
   "source": [
    "df1"
   ],
   "metadata": {
    "collapsed": false,
    "pycharm": {
     "name": "#%%\n"
    }
   }
  },
  {
   "cell_type": "code",
   "execution_count": 45,
   "outputs": [],
   "source": [
    "df1.to_csv(\"C:\\\\Users\\\\20203666\\\\Documents\\\\JBG050-data\\\\Data\\\\cleaned_search_data_copy2.csv\")"
   ],
   "metadata": {
    "collapsed": false,
    "pycharm": {
     "name": "#%%\n"
    }
   }
  },
  {
   "cell_type": "code",
   "execution_count": 1,
   "outputs": [],
   "source": [
    "dfb = df[df['Outcome linked to object of search'].notnull()]\n",
    "dfb = dfb[['Type','Date', 'Latitude2','Latitude', 'Longitude', 'Gender', 'Age range', 'Self-defined ethnicity', 'Officer-defined ethnicity', 'day of week', 'month', 'hour', 'year', 'Object of search','Outcome linked to object of search' ,'Outcome', 'result']]\n",
    "dfb1 = dfb.dropna()\n",
    "dfb1.reset_index(drop=True, inplace=True)\n",
    "dfb1"
   ],
   "metadata": {
    "collapsed": false,
    "pycharm": {
     "name": "#%%\n"
    }
   }
  },
  {
   "cell_type": "code",
   "execution_count": null,
   "outputs": [],
   "source": [
    "dfb1[((dfb1['Outcome linked to object of search']==False)&(dfb1['Outcome']!='Nothing found'))]"
   ],
   "metadata": {
    "collapsed": false,
    "pycharm": {
     "name": "#%%\n"
    }
   }
  },
  {
   "cell_type": "code",
   "execution_count": null,
   "outputs": [],
   "source": [],
   "metadata": {
    "collapsed": false,
    "pycharm": {
     "name": "#%%\n"
    }
   }
  },
  {
   "cell_type": "code",
   "execution_count": null,
   "outputs": [],
   "source": [],
   "metadata": {
    "collapsed": false,
    "pycharm": {
     "name": "#%%\n"
    }
   }
  },
  {
   "cell_type": "code",
   "execution_count": null,
   "outputs": [],
   "source": [],
   "metadata": {
    "collapsed": false,
    "pycharm": {
     "name": "#%%\n"
    }
   }
  },
  {
   "cell_type": "code",
   "execution_count": null,
   "outputs": [],
   "source": [],
   "metadata": {
    "collapsed": false,
    "pycharm": {
     "name": "#%%\n"
    }
   }
  },
  {
   "cell_type": "code",
   "execution_count": 1,
   "outputs": [],
   "source": [],
   "metadata": {
    "collapsed": false,
    "pycharm": {
     "name": "#%%\n"
    }
   }
  },
  {
   "cell_type": "code",
   "execution_count": 1,
   "outputs": [],
   "source": [],
   "metadata": {
    "collapsed": false,
    "pycharm": {
     "name": "#%%\n"
    }
   }
  },
  {
   "cell_type": "code",
   "execution_count": 1,
   "outputs": [],
   "source": [],
   "metadata": {
    "collapsed": false,
    "pycharm": {
     "name": "#%%\n"
    }
   }
  },
  {
   "cell_type": "code",
   "execution_count": 88,
   "outputs": [],
   "source": [],
   "metadata": {
    "collapsed": false,
    "pycharm": {
     "name": "#%%\n"
    }
   }
  },
  {
   "cell_type": "code",
   "execution_count": 1,
   "outputs": [],
   "source": [],
   "metadata": {
    "collapsed": false,
    "pycharm": {
     "name": "#%%\n"
    }
   }
  },
  {
   "cell_type": "code",
   "execution_count": null,
   "outputs": [],
   "source": [],
   "metadata": {
    "collapsed": false,
    "pycharm": {
     "name": "#%%\n"
    }
   }
  }
 ],
 "metadata": {
  "kernelspec": {
   "display_name": "Python 3",
   "language": "python",
   "name": "python3"
  },
  "language_info": {
   "codemirror_mode": {
    "name": "ipython",
    "version": 2
   },
   "file_extension": ".py",
   "mimetype": "text/x-python",
   "name": "python",
   "nbconvert_exporter": "python",
   "pygments_lexer": "ipython2",
   "version": "2.7.6"
  }
 },
 "nbformat": 4,
 "nbformat_minor": 0
}