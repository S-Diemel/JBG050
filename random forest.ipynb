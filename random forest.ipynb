{
 "cells": [
  {
   "cell_type": "code",
   "execution_count": 1,
   "metadata": {
    "collapsed": true
   },
   "outputs": [],
   "source": [
    "import pandas as pd\n",
    "import plotly.express as px\n",
    "import numpy as np\n",
    "import geopandas as gpd\n",
    "import os\n",
    "#import pm4py\n",
    "\n",
    "# machine learning\n",
    "from sklearn.ensemble import RandomForestClassifier\n",
    "from sklearn.neighbors import KNeighborsClassifier\n",
    "from sklearn.model_selection import cross_val_score\n",
    "from sklearn import metrics\n",
    "from sklearn.tree import plot_tree\n",
    "# nice plots & tables\n",
    "import plotly.express as px\n",
    "import plotly.graph_objects as go\n",
    "from matplotlib import pyplot as plt\n",
    "from sklearn import datasets\n",
    "from sklearn.tree import DecisionTreeClassifier\n",
    "from sklearn import tree\n",
    "# to make a counter object\n",
    "from collections import Counter"
   ]
  },
  {
   "cell_type": "code",
   "execution_count": null,
   "outputs": [],
   "source": [
    "df = pd.read_csv(\"C:\\\\Users\\\\20203666\\\\Documents\\\\JBG050-data\\\\Data\\\\cleaned_search_data.csv\")\n",
    "df"
   ],
   "metadata": {
    "collapsed": false,
    "pycharm": {
     "name": "#%%\n"
    }
   }
  },
  {
   "cell_type": "code",
   "execution_count": null,
   "outputs": [],
   "source": [
    "def balance_dataset(max_class, column):\n",
    "    unique = list(df[column].unique())\n",
    "    df_nf = df[df[column]==unique[0]].sample(frac=1)[:max_class]\n",
    "    df_arr = df[df[column]==unique[1]].sample(frac=1)[:max_class]\n",
    "    df_cr = df[df[column]==unique[2]].sample(frac=1)[:max_class]\n",
    "    df_war = df[df[column]==unique[3]].sample(frac=1)[:max_class]\n",
    "    df_sum = df[df[column]==unique[4]].sample(frac=1)[:max_class]\n",
    "    df_fine = df[df[column]==unique[5]].sample(frac=1)[:max_class]\n",
    "    df_all = pd.concat([df_nf,df_arr,df_cr,df_war,df_sum,df_fine])\n",
    "    df_all = df_all.sample(frac=1)\n",
    "    df_all.reset_index(inplace=True, drop=True)\n",
    "    return df_all"
   ],
   "metadata": {
    "collapsed": false,
    "pycharm": {
     "name": "#%%\n"
    }
   }
  },
  {
   "cell_type": "code",
   "execution_count": null,
   "outputs": [],
   "source": [],
   "metadata": {
    "collapsed": false,
    "pycharm": {
     "name": "#%%\n"
    }
   }
  },
  {
   "cell_type": "code",
   "execution_count": null,
   "outputs": [],
   "source": [],
   "metadata": {
    "collapsed": false,
    "pycharm": {
     "name": "#%%\n"
    }
   }
  },
  {
   "cell_type": "code",
   "execution_count": null,
   "outputs": [],
   "source": [],
   "metadata": {
    "collapsed": false,
    "pycharm": {
     "name": "#%%\n"
    }
   }
  },
  {
   "cell_type": "code",
   "execution_count": null,
   "outputs": [],
   "source": [
    "X = df_all[['Type', 'Latitude2', 'Longitude', 'Gender', 'Age range', 'Self-defined ethnicity', 'Officer-defined ethnicity', 'day of week', 'month', 'hour', 'year']]\n",
    "X = pd.get_dummies(X)\n",
    "Y = df_all['Outcome']\n",
    "Y2 = pd.factorize(Y)[0]"
   ],
   "metadata": {
    "collapsed": false,
    "pycharm": {
     "name": "#%%\n"
    }
   }
  },
  {
   "cell_type": "code",
   "execution_count": null,
   "outputs": [],
   "source": [
    "depths = [1,2,3,4,5,6,7,8,9,10,15,20]\n",
    "X_rf_scores = pd.DataFrame()\n",
    "for depth in depths:\n",
    "    clf = RandomForestClassifier(max_depth=depth, random_state=0)\n",
    "    X_rf_scores[depth] = cross_val_score(clf, X, Y2, cv=5)\n",
    "print(X_rf_scores)"
   ],
   "metadata": {
    "collapsed": false,
    "pycharm": {
     "name": "#%%\n"
    }
   }
  },
  {
   "cell_type": "code",
   "execution_count": null,
   "outputs": [],
   "source": [
    "clf = RandomForestClassifier(max_depth=6, random_state=0)\n",
    "model = clf.fit(X, Y2)\n",
    "predictions = model.predict(X)\n",
    "print(\"Accuracy:\",metrics.accuracy_score(Y2, predictions))"
   ],
   "metadata": {
    "collapsed": false,
    "pycharm": {
     "name": "#%%\n"
    }
   }
  },
  {
   "cell_type": "code",
   "execution_count": null,
   "outputs": [],
   "source": [
    "xnames = list(X)\n",
    "ynames = pd.factorize(Y)[1]\n",
    "fig = plt.figure(figsize=(150, 100))\n",
    "plot_tree(model.estimators_[0],filled=True, rounded=True, feature_names=xnames, class_names=ynames, fontsize=10)\n",
    "\n",
    "plt.show()\n",
    "fig.savefig(\"C:\\\\Users\\\\20203666\\\\Downloads\\\\decistion_tree.png\")"
   ],
   "metadata": {
    "collapsed": false,
    "pycharm": {
     "name": "#%%\n"
    }
   }
  }
 ],
 "metadata": {
  "kernelspec": {
   "display_name": "Python 3",
   "language": "python",
   "name": "python3"
  },
  "language_info": {
   "codemirror_mode": {
    "name": "ipython",
    "version": 2
   },
   "file_extension": ".py",
   "mimetype": "text/x-python",
   "name": "python",
   "nbconvert_exporter": "python",
   "pygments_lexer": "ipython2",
   "version": "2.7.6"
  }
 },
 "nbformat": 4,
 "nbformat_minor": 0
}