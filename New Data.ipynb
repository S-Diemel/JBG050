{
 "cells": [
  {
   "cell_type": "code",
   "execution_count": 52,
   "metadata": {
    "collapsed": true
   },
   "outputs": [],
   "source": [
    "import pandas as pd\n",
    "#import plotly.express as px\n",
    "import numpy as np\n",
    "#import geopandas as gpd\n",
    "import os\n",
    "#import pm4py\n",
    "\n",
    "# machine learning\n",
    "from sklearn.ensemble import RandomForestRegressor\n",
    "from sklearn.neighbors import KNeighborsClassifier\n",
    "from sklearn.model_selection import cross_val_score\n",
    "from sklearn import metrics\n",
    "from sklearn.tree import plot_tree\n",
    "# nice plots & tables\n",
    "#import plotly.express as px\n",
    "#import plotly.graph_objects as go\n",
    "from matplotlib import pyplot as plt\n",
    "from sklearn import datasets\n",
    "from sklearn.tree import DecisionTreeClassifier\n",
    "from sklearn import tree\n",
    "# to make a counter object\n",
    "from collections import Counter\n",
    "from sklearn.model_selection import train_test_split"
   ]
  },
  {
   "cell_type": "code",
   "execution_count": 53,
   "outputs": [
    {
     "data": {
      "text/plain": "       Unnamed: 0  Unnamed: 0.1  Unnamed: 0.1.1  Longitude   Latitude  month  \\\n0               0       29126.0         29126.0  -0.252285  50.834953   12.0   \n1               1        2913.5          2913.5  -3.440349  54.698378   12.0   \n2               2        3077.0          3077.0  -1.388190  53.027519   12.0   \n3               3       29173.5         29173.5  -0.635302  50.807424   12.0   \n4               4       25441.5         25441.5  -1.256562  53.105927   12.0   \n...           ...           ...             ...        ...        ...    ...   \n45185       45185     4320862.0       4320862.0  -2.078257  52.115438   10.0   \n45186       45186     4320310.0       4320310.0  -0.764648  51.632315   10.0   \n45187       45187     4309338.0       4309338.0  -3.005697  53.879259   10.0   \n45188       45188     4320907.0       4320907.0  -2.266527  52.369114   10.0   \n45189       45189     4315837.5       4315837.5  -1.090286  53.956405   10.0   \n\n       year  median house price  burglarys city  burglarys lsoa          city  \n0      10.0            290500.0            33.0             2.0          Adur  \n1      10.0            106500.0            34.0             2.5     Allerdale  \n2      10.0            157500.0            57.0             2.0  Amber Valley  \n3      10.0            265500.0            62.0             2.0          Arun  \n4      10.0            126500.0            78.0             2.0      Ashfield  \n...     ...                 ...             ...             ...           ...  \n45185  21.0            275000.0            57.0             2.0      Wychavon  \n45186  21.0            372500.0            53.0             2.0       Wycombe  \n45187  21.0            190000.0            25.0             1.0          Wyre  \n45188  21.0            180000.0            33.0             1.0   Wyre Forest  \n45189  21.0            248000.0            56.0             2.0          York  \n\n[45190 rows x 11 columns]",
      "text/html": "<div>\n<style scoped>\n    .dataframe tbody tr th:only-of-type {\n        vertical-align: middle;\n    }\n\n    .dataframe tbody tr th {\n        vertical-align: top;\n    }\n\n    .dataframe thead th {\n        text-align: right;\n    }\n</style>\n<table border=\"1\" class=\"dataframe\">\n  <thead>\n    <tr style=\"text-align: right;\">\n      <th></th>\n      <th>Unnamed: 0</th>\n      <th>Unnamed: 0.1</th>\n      <th>Unnamed: 0.1.1</th>\n      <th>Longitude</th>\n      <th>Latitude</th>\n      <th>month</th>\n      <th>year</th>\n      <th>median house price</th>\n      <th>burglarys city</th>\n      <th>burglarys lsoa</th>\n      <th>city</th>\n    </tr>\n  </thead>\n  <tbody>\n    <tr>\n      <th>0</th>\n      <td>0</td>\n      <td>29126.0</td>\n      <td>29126.0</td>\n      <td>-0.252285</td>\n      <td>50.834953</td>\n      <td>12.0</td>\n      <td>10.0</td>\n      <td>290500.0</td>\n      <td>33.0</td>\n      <td>2.0</td>\n      <td>Adur</td>\n    </tr>\n    <tr>\n      <th>1</th>\n      <td>1</td>\n      <td>2913.5</td>\n      <td>2913.5</td>\n      <td>-3.440349</td>\n      <td>54.698378</td>\n      <td>12.0</td>\n      <td>10.0</td>\n      <td>106500.0</td>\n      <td>34.0</td>\n      <td>2.5</td>\n      <td>Allerdale</td>\n    </tr>\n    <tr>\n      <th>2</th>\n      <td>2</td>\n      <td>3077.0</td>\n      <td>3077.0</td>\n      <td>-1.388190</td>\n      <td>53.027519</td>\n      <td>12.0</td>\n      <td>10.0</td>\n      <td>157500.0</td>\n      <td>57.0</td>\n      <td>2.0</td>\n      <td>Amber Valley</td>\n    </tr>\n    <tr>\n      <th>3</th>\n      <td>3</td>\n      <td>29173.5</td>\n      <td>29173.5</td>\n      <td>-0.635302</td>\n      <td>50.807424</td>\n      <td>12.0</td>\n      <td>10.0</td>\n      <td>265500.0</td>\n      <td>62.0</td>\n      <td>2.0</td>\n      <td>Arun</td>\n    </tr>\n    <tr>\n      <th>4</th>\n      <td>4</td>\n      <td>25441.5</td>\n      <td>25441.5</td>\n      <td>-1.256562</td>\n      <td>53.105927</td>\n      <td>12.0</td>\n      <td>10.0</td>\n      <td>126500.0</td>\n      <td>78.0</td>\n      <td>2.0</td>\n      <td>Ashfield</td>\n    </tr>\n    <tr>\n      <th>...</th>\n      <td>...</td>\n      <td>...</td>\n      <td>...</td>\n      <td>...</td>\n      <td>...</td>\n      <td>...</td>\n      <td>...</td>\n      <td>...</td>\n      <td>...</td>\n      <td>...</td>\n      <td>...</td>\n    </tr>\n    <tr>\n      <th>45185</th>\n      <td>45185</td>\n      <td>4320862.0</td>\n      <td>4320862.0</td>\n      <td>-2.078257</td>\n      <td>52.115438</td>\n      <td>10.0</td>\n      <td>21.0</td>\n      <td>275000.0</td>\n      <td>57.0</td>\n      <td>2.0</td>\n      <td>Wychavon</td>\n    </tr>\n    <tr>\n      <th>45186</th>\n      <td>45186</td>\n      <td>4320310.0</td>\n      <td>4320310.0</td>\n      <td>-0.764648</td>\n      <td>51.632315</td>\n      <td>10.0</td>\n      <td>21.0</td>\n      <td>372500.0</td>\n      <td>53.0</td>\n      <td>2.0</td>\n      <td>Wycombe</td>\n    </tr>\n    <tr>\n      <th>45187</th>\n      <td>45187</td>\n      <td>4309338.0</td>\n      <td>4309338.0</td>\n      <td>-3.005697</td>\n      <td>53.879259</td>\n      <td>10.0</td>\n      <td>21.0</td>\n      <td>190000.0</td>\n      <td>25.0</td>\n      <td>1.0</td>\n      <td>Wyre</td>\n    </tr>\n    <tr>\n      <th>45188</th>\n      <td>45188</td>\n      <td>4320907.0</td>\n      <td>4320907.0</td>\n      <td>-2.266527</td>\n      <td>52.369114</td>\n      <td>10.0</td>\n      <td>21.0</td>\n      <td>180000.0</td>\n      <td>33.0</td>\n      <td>1.0</td>\n      <td>Wyre Forest</td>\n    </tr>\n    <tr>\n      <th>45189</th>\n      <td>45189</td>\n      <td>4315837.5</td>\n      <td>4315837.5</td>\n      <td>-1.090286</td>\n      <td>53.956405</td>\n      <td>10.0</td>\n      <td>21.0</td>\n      <td>248000.0</td>\n      <td>56.0</td>\n      <td>2.0</td>\n      <td>York</td>\n    </tr>\n  </tbody>\n</table>\n<p>45190 rows × 11 columns</p>\n</div>"
     },
     "execution_count": 53,
     "metadata": {},
     "output_type": "execute_result"
    }
   ],
   "source": [
    "df = pd.read_csv(\"burglary_data_city.csv\")\n",
    "df"
   ],
   "metadata": {
    "collapsed": false,
    "pycharm": {
     "name": "#%%\n"
    }
   }
  },
  {
   "cell_type": "code",
   "execution_count": 54,
   "outputs": [],
   "source": [
    "def balance_dataset(df, max_class, column):\n",
    "    unique = list(df[column].unique())\n",
    "    df_nf = df[df[column]==unique[0]].sample(frac=1)[:max_class]\n",
    "    df_arr = df[df[column]==unique[1]].sample(frac=1)[:max_class]\n",
    "    df_cr = df[df[column]==unique[2]].sample(frac=1)[:max_class]\n",
    "    df_war = df[df[column]==unique[3]].sample(frac=1)[:max_class]\n",
    "    df_sum = df[df[column]==unique[4]].sample(frac=1)[:max_class]\n",
    "    df_fine = df[df[column]==unique[5]].sample(frac=1)[:max_class]\n",
    "    df_all = pd.concat([df_nf,df_arr,df_cr,df_war,df_sum,df_fine])\n",
    "    df_all = df_all.sample(frac=1)\n",
    "    df_all.reset_index(inplace=True, drop=True)\n",
    "    return df_all"
   ],
   "metadata": {
    "collapsed": false,
    "pycharm": {
     "name": "#%%\n"
    }
   }
  },
  {
   "cell_type": "code",
   "execution_count": 55,
   "outputs": [
    {
     "data": {
      "text/plain": "      Unnamed: 0  Unnamed: 0.1  Unnamed: 0.1.1  Longitude   Latitude  month  \\\n0          20784     2191340.5       2191340.5   1.156383  51.876553   11.0   \n1          34479     3594723.0       3594723.0  -1.094581  52.986241    3.0   \n2          11306     1274777.0       1274777.0  -0.480377  53.180009    8.0   \n3          24246     2538108.5       2538108.5  -0.733069  51.331121    9.0   \n4          37468     3851420.0       3851420.0  -2.485278  53.739720   12.0   \n...          ...           ...             ...        ...        ...    ...   \n2582       16497     1815749.5       1815749.5  -3.369079  51.752272   11.0   \n2583       36350     3727163.0       3727163.0  -2.755856  50.953076    8.0   \n2584       17125     1862580.5       1862580.5   0.091832  52.566022    1.0   \n2585       39939     4026345.0       4026345.0  -4.134270  52.926729    7.0   \n2586       29236     3071877.5       3071877.5  -3.420213  53.317230   12.0   \n\n      year  median house price  burglarys city  burglarys lsoa  \\\n0     15.0            200000.0            78.0             3.0   \n1     19.0            211500.0            39.0             1.0   \n2     13.0            215000.0            39.0             2.0   \n3     16.0            360750.0            34.0             1.0   \n4     19.0             92000.0            57.0             2.0   \n...    ...                 ...             ...             ...   \n2582  14.0             95750.0            33.0             2.0   \n2583  19.0            235000.0            57.0             2.0   \n2584  15.0            186750.0            62.0             2.0   \n2585  20.0            153750.0            33.0             2.0   \n2586  17.0            140987.5            39.0             1.5   \n\n                       city  \n0                  Tendring  \n1                   Gedling  \n2            North Kesteven  \n3              Surrey Heath  \n4     Blackburn with Darwen  \n...                     ...  \n2582         Merthyr Tydfil  \n2583         South Somerset  \n2584                Fenland  \n2585                Gwynedd  \n2586           Denbighshire  \n\n[2587 rows x 11 columns]",
      "text/html": "<div>\n<style scoped>\n    .dataframe tbody tr th:only-of-type {\n        vertical-align: middle;\n    }\n\n    .dataframe tbody tr th {\n        vertical-align: top;\n    }\n\n    .dataframe thead th {\n        text-align: right;\n    }\n</style>\n<table border=\"1\" class=\"dataframe\">\n  <thead>\n    <tr style=\"text-align: right;\">\n      <th></th>\n      <th>Unnamed: 0</th>\n      <th>Unnamed: 0.1</th>\n      <th>Unnamed: 0.1.1</th>\n      <th>Longitude</th>\n      <th>Latitude</th>\n      <th>month</th>\n      <th>year</th>\n      <th>median house price</th>\n      <th>burglarys city</th>\n      <th>burglarys lsoa</th>\n      <th>city</th>\n    </tr>\n  </thead>\n  <tbody>\n    <tr>\n      <th>0</th>\n      <td>20784</td>\n      <td>2191340.5</td>\n      <td>2191340.5</td>\n      <td>1.156383</td>\n      <td>51.876553</td>\n      <td>11.0</td>\n      <td>15.0</td>\n      <td>200000.0</td>\n      <td>78.0</td>\n      <td>3.0</td>\n      <td>Tendring</td>\n    </tr>\n    <tr>\n      <th>1</th>\n      <td>34479</td>\n      <td>3594723.0</td>\n      <td>3594723.0</td>\n      <td>-1.094581</td>\n      <td>52.986241</td>\n      <td>3.0</td>\n      <td>19.0</td>\n      <td>211500.0</td>\n      <td>39.0</td>\n      <td>1.0</td>\n      <td>Gedling</td>\n    </tr>\n    <tr>\n      <th>2</th>\n      <td>11306</td>\n      <td>1274777.0</td>\n      <td>1274777.0</td>\n      <td>-0.480377</td>\n      <td>53.180009</td>\n      <td>8.0</td>\n      <td>13.0</td>\n      <td>215000.0</td>\n      <td>39.0</td>\n      <td>2.0</td>\n      <td>North Kesteven</td>\n    </tr>\n    <tr>\n      <th>3</th>\n      <td>24246</td>\n      <td>2538108.5</td>\n      <td>2538108.5</td>\n      <td>-0.733069</td>\n      <td>51.331121</td>\n      <td>9.0</td>\n      <td>16.0</td>\n      <td>360750.0</td>\n      <td>34.0</td>\n      <td>1.0</td>\n      <td>Surrey Heath</td>\n    </tr>\n    <tr>\n      <th>4</th>\n      <td>37468</td>\n      <td>3851420.0</td>\n      <td>3851420.0</td>\n      <td>-2.485278</td>\n      <td>53.739720</td>\n      <td>12.0</td>\n      <td>19.0</td>\n      <td>92000.0</td>\n      <td>57.0</td>\n      <td>2.0</td>\n      <td>Blackburn with Darwen</td>\n    </tr>\n    <tr>\n      <th>...</th>\n      <td>...</td>\n      <td>...</td>\n      <td>...</td>\n      <td>...</td>\n      <td>...</td>\n      <td>...</td>\n      <td>...</td>\n      <td>...</td>\n      <td>...</td>\n      <td>...</td>\n      <td>...</td>\n    </tr>\n    <tr>\n      <th>2582</th>\n      <td>16497</td>\n      <td>1815749.5</td>\n      <td>1815749.5</td>\n      <td>-3.369079</td>\n      <td>51.752272</td>\n      <td>11.0</td>\n      <td>14.0</td>\n      <td>95750.0</td>\n      <td>33.0</td>\n      <td>2.0</td>\n      <td>Merthyr Tydfil</td>\n    </tr>\n    <tr>\n      <th>2583</th>\n      <td>36350</td>\n      <td>3727163.0</td>\n      <td>3727163.0</td>\n      <td>-2.755856</td>\n      <td>50.953076</td>\n      <td>8.0</td>\n      <td>19.0</td>\n      <td>235000.0</td>\n      <td>57.0</td>\n      <td>2.0</td>\n      <td>South Somerset</td>\n    </tr>\n    <tr>\n      <th>2584</th>\n      <td>17125</td>\n      <td>1862580.5</td>\n      <td>1862580.5</td>\n      <td>0.091832</td>\n      <td>52.566022</td>\n      <td>1.0</td>\n      <td>15.0</td>\n      <td>186750.0</td>\n      <td>62.0</td>\n      <td>2.0</td>\n      <td>Fenland</td>\n    </tr>\n    <tr>\n      <th>2585</th>\n      <td>39939</td>\n      <td>4026345.0</td>\n      <td>4026345.0</td>\n      <td>-4.134270</td>\n      <td>52.926729</td>\n      <td>7.0</td>\n      <td>20.0</td>\n      <td>153750.0</td>\n      <td>33.0</td>\n      <td>2.0</td>\n      <td>Gwynedd</td>\n    </tr>\n    <tr>\n      <th>2586</th>\n      <td>29236</td>\n      <td>3071877.5</td>\n      <td>3071877.5</td>\n      <td>-3.420213</td>\n      <td>53.317230</td>\n      <td>12.0</td>\n      <td>17.0</td>\n      <td>140987.5</td>\n      <td>39.0</td>\n      <td>1.5</td>\n      <td>Denbighshire</td>\n    </tr>\n  </tbody>\n</table>\n<p>2587 rows × 11 columns</p>\n</div>"
     },
     "execution_count": 55,
     "metadata": {},
     "output_type": "execute_result"
    }
   ],
   "source": [
    "df_all = balance_dataset(df, 20000, 'burglarys city')\n",
    "df_all"
   ],
   "metadata": {
    "collapsed": false,
    "pycharm": {
     "name": "#%%\n"
    }
   }
  },
  {
   "cell_type": "code",
   "execution_count": 56,
   "outputs": [],
   "source": [
    "X = df_all[['month', 'year', 'median house price', 'Latitude', 'Longitude']]\n",
    "Y = df_all['burglarys city']\n",
    "\n",
    "X = pd.get_dummies(X)\n"
   ],
   "metadata": {
    "collapsed": false,
    "pycharm": {
     "name": "#%%\n"
    }
   }
  },
  {
   "cell_type": "code",
   "execution_count": 57,
   "outputs": [],
   "source": [
    "X_train, X_test, y_train, y_test = train_test_split(X, Y, test_size=0.1, random_state=42)"
   ],
   "metadata": {
    "collapsed": false,
    "pycharm": {
     "name": "#%%\n"
    }
   }
  },
  {
   "cell_type": "code",
   "execution_count": 58,
   "outputs": [
    {
     "data": {
      "text/plain": "544     34.0\n2499    57.0\n554     62.0\n422     62.0\n798     33.0\n        ... \n1386    57.0\n879     39.0\n1857    62.0\n2280    33.0\n1780    62.0\nName: burglarys city, Length: 259, dtype: float64"
     },
     "execution_count": 58,
     "metadata": {},
     "output_type": "execute_result"
    }
   ],
   "source": [
    "y_test"
   ],
   "metadata": {
    "collapsed": false,
    "pycharm": {
     "name": "#%%\n"
    }
   }
  },
  {
   "cell_type": "code",
   "execution_count": 62,
   "outputs": [
    {
     "name": "stdout",
     "output_type": "stream",
     "text": [
      "MAE: 9.95548482716615 R2 0.30278186016989683 MSE 148.2562382556023\n"
     ]
    }
   ],
   "source": [
    "clf = RandomForestRegressor(max_depth=15, random_state=0, bootstrap=True, n_estimators=5000)\n",
    "model = clf.fit(X_train, y_train)\n",
    "predictions = model.predict(X_test)\n",
    "print(\"MAE:\", metrics.mean_absolute_error(y_test, predictions), \"R2\", metrics.r2_score(y_test, predictions), \"MSE\", metrics.mean_squared_error(y_test, predictions))"
   ],
   "metadata": {
    "collapsed": false,
    "pycharm": {
     "name": "#%%\n"
    }
   }
  },
  {
   "cell_type": "code",
   "execution_count": 1,
   "outputs": [
    {
     "ename": "NameError",
     "evalue": "name 'predictions' is not defined",
     "output_type": "error",
     "traceback": [
      "\u001B[1;31m---------------------------------------------------------------------------\u001B[0m",
      "\u001B[1;31mNameError\u001B[0m                                 Traceback (most recent call last)",
      "\u001B[1;32m<ipython-input-1-fd2951b82103>\u001B[0m in \u001B[0;36m<module>\u001B[1;34m\u001B[0m\n\u001B[1;32m----> 1\u001B[1;33m \u001B[0mpredictions\u001B[0m\u001B[1;33m\u001B[0m\u001B[1;33m\u001B[0m\u001B[0m\n\u001B[0m",
      "\u001B[1;31mNameError\u001B[0m: name 'predictions' is not defined"
     ]
    }
   ],
   "source": [
    "\n",
    "predictions"
   ],
   "metadata": {
    "collapsed": false,
    "pycharm": {
     "name": "#%%\n"
    }
   }
  },
  {
   "cell_type": "code",
   "execution_count": null,
   "outputs": [],
   "source": [],
   "metadata": {
    "collapsed": false,
    "pycharm": {
     "name": "#%%\n"
    }
   }
  }
 ],
 "metadata": {
  "kernelspec": {
   "display_name": "Python 3",
   "language": "python",
   "name": "python3"
  },
  "language_info": {
   "codemirror_mode": {
    "name": "ipython",
    "version": 2
   },
   "file_extension": ".py",
   "mimetype": "text/x-python",
   "name": "python",
   "nbconvert_exporter": "python",
   "pygments_lexer": "ipython2",
   "version": "2.7.6"
  }
 },
 "nbformat": 4,
 "nbformat_minor": 0
}